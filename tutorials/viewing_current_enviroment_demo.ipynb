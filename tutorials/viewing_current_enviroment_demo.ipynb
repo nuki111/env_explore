{
 "cells": [
  {
   "cell_type": "code",
   "execution_count": 1,
   "metadata": {},
   "outputs": [],
   "source": [
    "import sys\n",
    "import os\n",
    "sys.path.insert(0, os.path.join('..', '..'))"
   ]
  },
  {
   "cell_type": "markdown",
   "metadata": {},
   "source": [
    "## Interfacing with the Running Enviroment\n",
    "#### By the end of this demo, you should be able to do the following:\n",
    "1 - Expose variables in the current enviroment as a pandas DataFrame \n",
    "    using the ``EnvHandeler`` class.\n",
    "        \n",
    "2 - Expose variables in the current enviroment as an ipython widget \n",
    "    using the ``WidgetEnv`` class.\n",
    "        \n",
    "3 - Expose variables in the current enviroment as an ipython widget\n",
    "    which updates itself periodically using the ``AutoWidgetEnv`` \n",
    "    class.\n",
    "        \n",
    "4 - Use the common ``update`` method to update an instance of each \n",
    "    of these classes when the enviroment changes."
   ]
  },
  {
   "cell_type": "markdown",
   "metadata": {},
   "source": [
    "### Import classes and functions\n",
    " - ``getmain`` is a function wich returns an instance of the \n",
    "    current enviroment (``__main__``)"
   ]
  },
  {
   "cell_type": "code",
   "execution_count": 2,
   "metadata": {},
   "outputs": [],
   "source": [
    "from env_explore import getmain, EnvHandler, WidgetEnv, AutoWidgetEnv"
   ]
  },
  {
   "cell_type": "markdown",
   "metadata": {},
   "source": [
    "### The current envirmoment can be specified with the 'name' argument\n",
    "The ``name`` argument is the name by which the object can be referenced (or generated) in the main enviroment.  Setting this to ``'getmain()'`` means that the EnvHandeler instance will be initialised and updated from the current enviroment."
   ]
  },
  {
   "cell_type": "markdown",
   "metadata": {},
   "source": [
    "#### 1 - ``EnvHandeler``"
   ]
  },
  {
   "cell_type": "code",
   "execution_count": 4,
   "metadata": {},
   "outputs": [],
   "source": [
    "eh = EnvHandler(\n",
    "    name='getmain()'\n",
    ")"
   ]
  },
  {
   "cell_type": "markdown",
   "metadata": {},
   "source": [
    "#### 2 - ``WidgetEnv``"
   ]
  },
  {
   "cell_type": "code",
   "execution_count": 5,
   "metadata": {},
   "outputs": [],
   "source": [
    "we = WidgetEnv(\n",
    "    name='getmain()'\n",
    ")"
   ]
  },
  {
   "cell_type": "markdown",
   "metadata": {},
   "source": [
    "#### 3 - ``AutoWidgetEnv``"
   ]
  },
  {
   "cell_type": "code",
   "execution_count": 6,
   "metadata": {},
   "outputs": [],
   "source": [
    "awe = AutoWidgetEnv(\n",
    "    name='getmain()'\n",
    ")"
   ]
  },
  {
   "cell_type": "code",
   "execution_count": 10,
   "metadata": {},
   "outputs": [
    {
     "data": {
      "text/html": [
       "<div>\n",
       "<style scoped>\n",
       "    .dataframe tbody tr th:only-of-type {\n",
       "        vertical-align: middle;\n",
       "    }\n",
       "\n",
       "    .dataframe tbody tr th {\n",
       "        vertical-align: top;\n",
       "    }\n",
       "\n",
       "    .dataframe thead th {\n",
       "        text-align: right;\n",
       "    }\n",
       "</style>\n",
       "<table border=\"1\" class=\"dataframe\">\n",
       "  <thead>\n",
       "    <tr style=\"text-align: right;\">\n",
       "      <th></th>\n",
       "      <th>Value</th>\n",
       "      <th>Type</th>\n",
       "      <th>Documentation</th>\n",
       "    </tr>\n",
       "    <tr>\n",
       "      <th>Variable</th>\n",
       "      <th></th>\n",
       "      <th></th>\n",
       "      <th></th>\n",
       "    </tr>\n",
       "  </thead>\n",
       "  <tbody>\n",
       "    <tr>\n",
       "      <th>AutoWidgetEnv</th>\n",
       "      <td>&lt;class 'env_explore.interface.AutoWidgetEnv'&gt;</td>\n",
       "      <td>&lt;class 'traitlets.traitlets.MetaHasTraits'&gt;</td>\n",
       "      <td>\\n    AutoWidgetEnv(*args, interval: float=5, ...</td>\n",
       "    </tr>\n",
       "    <tr>\n",
       "      <th>EnvHandler</th>\n",
       "      <td>&lt;class 'env_explore.processing.EnvHandeler'&gt;</td>\n",
       "      <td>&lt;class 'type'&gt;</td>\n",
       "      <td>\\n    EnvHandeler(name:str, display_as:str='df...</td>\n",
       "    </tr>\n",
       "    <tr>\n",
       "      <th>WidgetEnv</th>\n",
       "      <td>&lt;class 'env_explore.interface.WidgetEnv'&gt;</td>\n",
       "      <td>&lt;class 'traitlets.traitlets.MetaHasTraits'&gt;</td>\n",
       "      <td>\\n    WidgetEnv(*args, **kwargs)\\n    \\n    Wi...</td>\n",
       "    </tr>\n",
       "    <tr>\n",
       "      <th>exit</th>\n",
       "      <td>&lt;IPython.core.autocall.ZMQExitAutocall object ...</td>\n",
       "      <td>&lt;class 'IPython.core.autocall.ZMQExitAutocall'&gt;</td>\n",
       "      <td>Exit IPython. Autocallable, so it needn't be e...</td>\n",
       "    </tr>\n",
       "    <tr>\n",
       "      <th>get_ipython</th>\n",
       "      <td>&lt;bound method InteractiveShell.get_ipython of ...</td>\n",
       "      <td>&lt;class 'method'&gt;</td>\n",
       "      <td>Return the currently running IPython instance.</td>\n",
       "    </tr>\n",
       "    <tr>\n",
       "      <th>getmain</th>\n",
       "      <td>&lt;function getmain at 0x10432ee18&gt;</td>\n",
       "      <td>&lt;class 'function'&gt;</td>\n",
       "      <td>\\n    getmain() -&gt; module\\n    \\n    Returns t...</td>\n",
       "    </tr>\n",
       "    <tr>\n",
       "      <th>os</th>\n",
       "      <td>&lt;module 'os' from '/Users/oscarnuki/anaconda3/...</td>\n",
       "      <td>&lt;class 'module'&gt;</td>\n",
       "      <td>OS routines for NT or Posix depending on what ...</td>\n",
       "    </tr>\n",
       "    <tr>\n",
       "      <th>quit</th>\n",
       "      <td>&lt;IPython.core.autocall.ZMQExitAutocall object ...</td>\n",
       "      <td>&lt;class 'IPython.core.autocall.ZMQExitAutocall'&gt;</td>\n",
       "      <td>Exit IPython. Autocallable, so it needn't be e...</td>\n",
       "    </tr>\n",
       "    <tr>\n",
       "      <th>sys</th>\n",
       "      <td>&lt;module 'sys' (built-in)&gt;</td>\n",
       "      <td>&lt;class 'module'&gt;</td>\n",
       "      <td>This module provides access to some objects us...</td>\n",
       "    </tr>\n",
       "    <tr>\n",
       "      <th>z</th>\n",
       "      <td>5</td>\n",
       "      <td>&lt;class 'int'&gt;</td>\n",
       "      <td>int(x=0) -&gt; integer\\nint(x, base=10) -&gt; intege...</td>\n",
       "    </tr>\n",
       "  </tbody>\n",
       "</table>\n",
       "</div>"
      ],
      "text/plain": [
       "                                                           Value  \\\n",
       "Variable                                                           \n",
       "AutoWidgetEnv      <class 'env_explore.interface.AutoWidgetEnv'>   \n",
       "EnvHandler          <class 'env_explore.processing.EnvHandeler'>   \n",
       "WidgetEnv              <class 'env_explore.interface.WidgetEnv'>   \n",
       "exit           <IPython.core.autocall.ZMQExitAutocall object ...   \n",
       "get_ipython    <bound method InteractiveShell.get_ipython of ...   \n",
       "getmain                        <function getmain at 0x10432ee18>   \n",
       "os             <module 'os' from '/Users/oscarnuki/anaconda3/...   \n",
       "quit           <IPython.core.autocall.ZMQExitAutocall object ...   \n",
       "sys                                    <module 'sys' (built-in)>   \n",
       "z                                                              5   \n",
       "\n",
       "                                                          Type  \\\n",
       "Variable                                                         \n",
       "AutoWidgetEnv      <class 'traitlets.traitlets.MetaHasTraits'>   \n",
       "EnvHandler                                      <class 'type'>   \n",
       "WidgetEnv          <class 'traitlets.traitlets.MetaHasTraits'>   \n",
       "exit           <class 'IPython.core.autocall.ZMQExitAutocall'>   \n",
       "get_ipython                                   <class 'method'>   \n",
       "getmain                                     <class 'function'>   \n",
       "os                                            <class 'module'>   \n",
       "quit           <class 'IPython.core.autocall.ZMQExitAutocall'>   \n",
       "sys                                           <class 'module'>   \n",
       "z                                                <class 'int'>   \n",
       "\n",
       "                                                   Documentation  \n",
       "Variable                                                          \n",
       "AutoWidgetEnv  \\n    AutoWidgetEnv(*args, interval: float=5, ...  \n",
       "EnvHandler     \\n    EnvHandeler(name:str, display_as:str='df...  \n",
       "WidgetEnv      \\n    WidgetEnv(*args, **kwargs)\\n    \\n    Wi...  \n",
       "exit           Exit IPython. Autocallable, so it needn't be e...  \n",
       "get_ipython       Return the currently running IPython instance.  \n",
       "getmain        \\n    getmain() -> module\\n    \\n    Returns t...  \n",
       "os             OS routines for NT or Posix depending on what ...  \n",
       "quit           Exit IPython. Autocallable, so it needn't be e...  \n",
       "sys            This module provides access to some objects us...  \n",
       "z              int(x=0) -> integer\\nint(x, base=10) -> intege...  "
      ]
     },
     "metadata": {},
     "output_type": "display_data"
    },
    {
     "data": {
      "application/vnd.jupyter.widget-view+json": {
       "model_id": "c7d6d4fbd3a842f280c95f9828e59bbb",
       "version_major": 2,
       "version_minor": 0
      },
      "text/html": [
       "<p>Failed to display Jupyter Widget of type <code>WidgetEnv</code>.</p>\n",
       "<p>\n",
       "  If you're reading this message in the Jupyter Notebook or JupyterLab Notebook, it may mean\n",
       "  that the widgets JavaScript is still loading. If this message persists, it\n",
       "  likely means that the widgets JavaScript library is either not installed or\n",
       "  not enabled. See the <a href=\"https://ipywidgets.readthedocs.io/en/stable/user_install.html\">Jupyter\n",
       "  Widgets Documentation</a> for setup instructions.\n",
       "</p>\n",
       "<p>\n",
       "  If you're reading this message in another frontend (for example, a static\n",
       "  rendering on GitHub or <a href=\"https://nbviewer.jupyter.org/\">NBViewer</a>),\n",
       "  it may mean that your frontend doesn't currently support widgets.\n",
       "</p>\n"
      ],
      "text/plain": [
       "WidgetEnv(children=(HBox(children=(Label(value='Variable', layout=Layout(width='150px')), Label(value='Value', layout=Layout(width='150px')), Label(value='Type', layout=Layout(width='150px')), Label(value='Documentation', layout=Layout(width='150px')))), HBox(children=(Label(value='AutoWidgetEnv', layout=Layout(width='100px')), WidgetCell(description='AutoWidgetEnv', layout=Layout(width='150px'), style=ButtonStyle(), tooltip='AutoWidgetEnv'), WidgetCell(description='MetaHasTraits', layout=Layout(width='150px'), style=ButtonStyle(), tooltip='MetaHasTraits'), WidgetCell(description=\"\\n    AutoWidgetEnv(*args, interval: float=5, start: bool=True, **kwargs)\\n    \\n    Child class of ``WidgetEnv``.  Is able to automatically update itself\\n    periodically in the background.\\n    \\n    See ``WidgetEnv`` for more infomation.\\n    \\n    Parameters:\\n    -----------\\n        *args: Positional arguments passed to the parent's constructor.\\n        interval (float): Number of seconds between updates (default is 5).\\n        start (bool): Weather to start automatic updates on initialisation.\\n            ``self.start`` can be used to commence automatic updating after\\n             the fact (default is True).\\n        **kwargs: Key word arguments passed to the parent's constructor.\\n    \", layout=Layout(width='150px'), style=ButtonStyle(), tooltip=\"\\n    AutoWidgetEnv(*args, interval: float=5, start: bool=True, **kwargs)\\n    \\n    Child class of ``WidgetEnv``.  Is able to automatically update itself\\n    periodically in the background.\\n    \\n    See ``WidgetEnv`` for more infomation.\\n    \\n    Parameters:\\n    -----------\\n        *args: Positional arguments passed to the parent's constructor.\\n        interval (float): Number of seconds between updates (default is 5).\\n        start (bool): Weather to start automatic updates on initialisation.\\n            ``self.start`` can be used to commence automatic updating after\\n             the fact (default is True).\\n        **kwargs: Key word arguments passed to the parent's constructor.\\n    \"))), HBox(children=(Label(value='EnvHandler', layout=Layout(width='100px')), WidgetCell(description='EnvHandeler', layout=Layout(width='150px'), style=ButtonStyle(), tooltip='EnvHandeler'), WidgetCell(description='type', layout=Layout(width='150px'), style=ButtonStyle(), tooltip='type'), WidgetCell(description=\"\\n    EnvHandeler(name:str, display_as:str='df', **kwargs[dict_args: Iterable=[], \\n        dict_kwargs: dict={}, df_args: Iterable=[], df_kwargs: dict={}, \\n        html_args: Iterable=[], html_kwargs: dict={}])\\n    \\n    For processing and displaying the contents objects.\\n    \\n    Parameters:\\n    -----------\\n        name (str): Name by which the object can be referenced in the main \\n            enviroment.\\n        display_as (str): Name of the attribute to be displayed by the\\n            ``_ipython_display_`` method (default = 'df').\\n        **kwargs: Key word defaluts used by ``self.updatefromenv``\\n            and other methods to update ``self.dicti``, ``self.df`` and\\n            ``self.html``.\\n                - dict_args (Iterable): Positional arguments for \\n                    ``self.setdict`` (default = []).\\n                - dict_kwargs (dict): Key word arguments for ``self.setdict`` \\n                    (default = {}).\\n                - df_args (Iterable): Positional arguments for ``self.setdf`` \\n                    (default = []).\\n                - df_kwargs (dict): Key word arguments for ``self.setdf`` \\n                    (default = {}).\\n                - html_args (Iterable): Positional arguments for \\n                    ``self.sethtml`` (default = []).\\n                - html_kwargs (dict): Key word arguments for ``self.sethtml`` \\n                    (default = {}).        \\n    \", layout=Layout(width='150px'), style=ButtonStyle(), tooltip=\"\\n    EnvHandeler(name:str, display_as:str='df', **kwargs[dict_args: Iterable=[], \\n        dict_kwargs: dict={}, df_args: Iterable=[], df_kwargs: dict={}, \\n        html_args: Iterable=[], html_kwargs: dict={}])\\n    \\n    For processing and displaying the contents objects.\\n    \\n    Parameters:\\n    -----------\\n        name (str): Name by which the object can be referenced in the main \\n            enviroment.\\n        display_as (str): Name of the attribute to be displayed by the\\n            ``_ipython_display_`` method (default = 'df').\\n        **kwargs: Key word defaluts used by ``self.updatefromenv``\\n            and other methods to update ``self.dicti``, ``self.df`` and\\n            ``self.html``.\\n                - dict_args (Iterable): Positional arguments for \\n                    ``self.setdict`` (default = []).\\n                - dict_kwargs (dict): Key word arguments for ``self.setdict`` \\n                    (default = {}).\\n                - df_args (Iterable): Positional arguments for ``self.setdf`` \\n                    (default = []).\\n                - df_kwargs (dict): Key word arguments for ``self.setdf`` \\n                    (default = {}).\\n                - html_args (Iterable): Positional arguments for \\n                    ``self.sethtml`` (default = []).\\n                - html_kwargs (dict): Key word arguments for ``self.sethtml`` \\n                    (default = {}).        \\n    \"))), HBox(children=(Label(value='WidgetEnv', layout=Layout(width='100px')), WidgetCell(description='WidgetEnv', layout=Layout(width='150px'), style=ButtonStyle(), tooltip='WidgetEnv'), WidgetCell(description='MetaHasTraits', layout=Layout(width='150px'), style=ButtonStyle(), tooltip='MetaHasTraits'), WidgetCell(description='\\n    WidgetEnv(*args, **kwargs)\\n    \\n    Widget for representing the EnvHandeler objects. It inherits from\\n    the WidgetDf and EnvHandeler classes.\\n    \\n    See ``WidgetDf`` and ``EnvHandeler`` for more infomation.\\n    \\n    Parameters:\\n    -----------\\n        *args: Positional arguments used to initialise the EnvHandeler\\n            parent.\\n        **kwargs: Key word arguments used to initialise the EnvHandeler\\n            parent.\\n    ', layout=Layout(width='150px'), style=ButtonStyle(), tooltip='\\n    WidgetEnv(*args, **kwargs)\\n    \\n    Widget for representing the EnvHandeler objects. It inherits from\\n    the WidgetDf and EnvHandeler classes.\\n    \\n    See ``WidgetDf`` and ``EnvHandeler`` for more infomation.\\n    \\n    Parameters:\\n    -----------\\n        *args: Positional arguments used to initialise the EnvHandeler\\n            parent.\\n        **kwargs: Key word arguments used to initialise the EnvHandeler\\n            parent.\\n    '))), HBox(children=(Label(value='exit', layout=Layout(width='100px')), WidgetCell(description='<IPython.core.autocall.ZMQExitAutocall object at 0x10426b438>', layout=Layout(width='150px'), style=ButtonStyle(), tooltip='<IPython.core.autocall.ZMQExitAutocall object at 0x10426b438>'), WidgetCell(description='ZMQExitAutocall', layout=Layout(width='150px'), style=ButtonStyle(), tooltip='ZMQExitAutocall'), WidgetCell(description=\"Exit IPython. Autocallable, so it needn't be explicitly called.\\n    \\n    Parameters\\n    ----------\\n    keep_kernel : bool\\n      If True, leave the kernel alive. Otherwise, tell the kernel to exit too\\n      (default).\\n    \", layout=Layout(width='150px'), style=ButtonStyle(), tooltip=\"Exit IPython. Autocallable, so it needn't be explicitly called.\\n    \\n    Parameters\\n    ----------\\n    keep_kernel : bool\\n      If True, leave the kernel alive. Otherwise, tell the kernel to exit too\\n      (default).\\n    \"))), HBox(children=(Label(value='get_ipython', layout=Layout(width='100px')), WidgetCell(description='get_ipython', layout=Layout(width='150px'), style=ButtonStyle(), tooltip='get_ipython'), WidgetCell(description='method', layout=Layout(width='150px'), style=ButtonStyle(), tooltip='method'), WidgetCell(description='Return the currently running IPython instance.', layout=Layout(width='150px'), style=ButtonStyle(), tooltip='Return the currently running IPython instance.'))), HBox(children=(Label(value='getmain', layout=Layout(width='100px')), WidgetCell(description='getmain', layout=Layout(width='150px'), style=ButtonStyle(), tooltip='getmain'), WidgetCell(description='function', layout=Layout(width='150px'), style=ButtonStyle(), tooltip='function'), WidgetCell(description='\\n    getmain() -> module\\n    \\n    Returns the __main__ module.\\n    ', layout=Layout(width='150px'), style=ButtonStyle(), tooltip='\\n    getmain() -> module\\n    \\n    Returns the __main__ module.\\n    '))), HBox(children=(Label(value='os', layout=Layout(width='100px')), WidgetCell(description='os', layout=Layout(width='150px'), style=ButtonStyle(), tooltip='os'), WidgetCell(description='module', layout=Layout(width='150px'), style=ButtonStyle(), tooltip='module'), WidgetCell(description=\"OS routines for NT or Posix depending on what system we're on.\\n\\nThis exports:\\n  - all functions from posix or nt, e.g. unlink, stat, etc.\\n  - os.path is either posixpath or ntpath\\n  - os.name is either 'posix' or 'nt'\\n  - os.curdir is a string representing the current directory (always '.')\\n  - os.pardir is a string representing the parent directory (always '..')\\n  - os.sep is the (or a most common) pathname separator ('/' or '\\\\\\\\')\\n  - os.extsep is the extension separator (always '.')\\n  - os.altsep is the alternate pathname separator (None or '/')\\n  - os.pathsep is the component separator used in $PATH etc\\n  - os.linesep is the line separator in text files ('\\\\r' or '\\\\n' or '\\\\r\\\\n')\\n  - os.defpath is the default search path for executables\\n  - os.devnull is the file path of the null device ('/dev/null', etc.)\\n\\nPrograms that import and use 'os' stand a better chance of being\\nportable between different platforms.  Of course, they must then\\nonly use functions that are defined by all platforms (e.g., unlink\\nand opendir), and leave all pathname manipulation to os.path\\n(e.g., split and join).\\n\", layout=Layout(width='150px'), style=ButtonStyle(), tooltip=\"OS routines for NT or Posix depending on what system we're on.\\n\\nThis exports:\\n  - all functions from posix or nt, e.g. unlink, stat, etc.\\n  - os.path is either posixpath or ntpath\\n  - os.name is either 'posix' or 'nt'\\n  - os.curdir is a string representing the current directory (always '.')\\n  - os.pardir is a string representing the parent directory (always '..')\\n  - os.sep is the (or a most common) pathname separator ('/' or '\\\\\\\\')\\n  - os.extsep is the extension separator (always '.')\\n  - os.altsep is the alternate pathname separator (None or '/')\\n  - os.pathsep is the component separator used in $PATH etc\\n  - os.linesep is the line separator in text files ('\\\\r' or '\\\\n' or '\\\\r\\\\n')\\n  - os.defpath is the default search path for executables\\n  - os.devnull is the file path of the null device ('/dev/null', etc.)\\n\\nPrograms that import and use 'os' stand a better chance of being\\nportable between different platforms.  Of course, they must then\\nonly use functions that are defined by all platforms (e.g., unlink\\nand opendir), and leave all pathname manipulation to os.path\\n(e.g., split and join).\\n\"))), HBox(children=(Label(value='quit', layout=Layout(width='100px')), WidgetCell(description='<IPython.core.autocall.ZMQExitAutocall object at 0x10426b438>', layout=Layout(width='150px'), style=ButtonStyle(), tooltip='<IPython.core.autocall.ZMQExitAutocall object at 0x10426b438>'), WidgetCell(description='ZMQExitAutocall', layout=Layout(width='150px'), style=ButtonStyle(), tooltip='ZMQExitAutocall'), WidgetCell(description=\"Exit IPython. Autocallable, so it needn't be explicitly called.\\n    \\n    Parameters\\n    ----------\\n    keep_kernel : bool\\n      If True, leave the kernel alive. Otherwise, tell the kernel to exit too\\n      (default).\\n    \", layout=Layout(width='150px'), style=ButtonStyle(), tooltip=\"Exit IPython. Autocallable, so it needn't be explicitly called.\\n    \\n    Parameters\\n    ----------\\n    keep_kernel : bool\\n      If True, leave the kernel alive. Otherwise, tell the kernel to exit too\\n      (default).\\n    \"))), HBox(children=(Label(value='sys', layout=Layout(width='100px')), WidgetCell(description='sys', layout=Layout(width='150px'), style=ButtonStyle(), tooltip='sys'), WidgetCell(description='module', layout=Layout(width='150px'), style=ButtonStyle(), tooltip='module'), WidgetCell(description=\"This module provides access to some objects used or maintained by the\\ninterpreter and to functions that interact strongly with the interpreter.\\n\\nDynamic objects:\\n\\nargv -- command line arguments; argv[0] is the script pathname if known\\npath -- module search path; path[0] is the script directory, else ''\\nmodules -- dictionary of loaded modules\\n\\ndisplayhook -- called to show results in an interactive session\\nexcepthook -- called to handle any uncaught exception other than SystemExit\\n  To customize printing in an interactive session or to install a custom\\n  top-level exception handler, assign other functions to replace these.\\n\\nstdin -- standard input file object; used by input()\\nstdout -- standard output file object; used by print()\\nstderr -- standard error object; used for error messages\\n  By assigning other file objects (or objects that behave like files)\\n  to these, it is possible to redirect all of the interpreter's I/O.\\n\\nlast_type -- type of last uncaught exception\\nlast_value -- value of last uncaught exception\\nlast_traceback -- traceback of last uncaught exception\\n  These three are only available in an interactive session after a\\n  traceback has been printed.\\n\\nStatic objects:\\n\\nbuiltin_module_names -- tuple of module names built into this interpreter\\ncopyright -- copyright notice pertaining to this interpreter\\nexec_prefix -- prefix used to find the machine-specific Python library\\nexecutable -- absolute path of the executable binary of the Python interpreter\\nfloat_info -- a struct sequence with information about the float implementation.\\nfloat_repr_style -- string indicating the style of repr() output for floats\\nhash_info -- a struct sequence with information about the hash algorithm.\\nhexversion -- version information encoded as a single integer\\nimplementation -- Python implementation information.\\nint_info -- a struct sequence with information about the int implementation.\\nmaxsize -- the largest supported length of containers.\\nmaxunicode -- the value of the largest Unicode code point\\nplatform -- platform identifier\\nprefix -- prefix used to find the Python library\\nthread_info -- a struct sequence with information about the thread implementation.\\nversion -- the version of this interpreter as a string\\nversion_info -- version information as a named tuple\\n__stdin__ -- the original stdin; don't touch!\\n__stdout__ -- the original stdout; don't touch!\\n__stderr__ -- the original stderr; don't touch!\\n__displayhook__ -- the original displayhook; don't touch!\\n__excepthook__ -- the original excepthook; don't touch!\\n\\nFunctions:\\n\\ndisplayhook() -- print an object to the screen, and save it in builtins._\\nexcepthook() -- print an exception and its traceback to sys.stderr\\nexc_info() -- return thread-safe information about the current exception\\nexit() -- exit the interpreter by raising SystemExit\\ngetdlopenflags() -- returns flags to be used for dlopen() calls\\ngetprofile() -- get the global profiling function\\ngetrefcount() -- return the reference count for an object (plus one :-)\\ngetrecursionlimit() -- return the max recursion depth for the interpreter\\ngetsizeof() -- return the size of an object in bytes\\ngettrace() -- get the global debug tracing function\\nsetcheckinterval() -- control how often the interpreter checks for events\\nsetdlopenflags() -- set the flags to be used for dlopen() calls\\nsetprofile() -- set the global profiling function\\nsetrecursionlimit() -- set the max recursion depth for the interpreter\\nsettrace() -- set the global debug tracing function\\n\", layout=Layout(width='150px'), style=ButtonStyle(), tooltip=\"This module provides access to some objects used or maintained by the\\ninterpreter and to functions that interact strongly with the interpreter.\\n\\nDynamic objects:\\n\\nargv -- command line arguments; argv[0] is the script pathname if known\\npath -- module search path; path[0] is the script directory, else ''\\nmodules -- dictionary of loaded modules\\n\\ndisplayhook -- called to show results in an interactive session\\nexcepthook -- called to handle any uncaught exception other than SystemExit\\n  To customize printing in an interactive session or to install a custom\\n  top-level exception handler, assign other functions to replace these.\\n\\nstdin -- standard input file object; used by input()\\nstdout -- standard output file object; used by print()\\nstderr -- standard error object; used for error messages\\n  By assigning other file objects (or objects that behave like files)\\n  to these, it is possible to redirect all of the interpreter's I/O.\\n\\nlast_type -- type of last uncaught exception\\nlast_value -- value of last uncaught exception\\nlast_traceback -- traceback of last uncaught exception\\n  These three are only available in an interactive session after a\\n  traceback has been printed.\\n\\nStatic objects:\\n\\nbuiltin_module_names -- tuple of module names built into this interpreter\\ncopyright -- copyright notice pertaining to this interpreter\\nexec_prefix -- prefix used to find the machine-specific Python library\\nexecutable -- absolute path of the executable binary of the Python interpreter\\nfloat_info -- a struct sequence with information about the float implementation.\\nfloat_repr_style -- string indicating the style of repr() output for floats\\nhash_info -- a struct sequence with information about the hash algorithm.\\nhexversion -- version information encoded as a single integer\\nimplementation -- Python implementation information.\\nint_info -- a struct sequence with information about the int implementation.\\nmaxsize -- the largest supported length of containers.\\nmaxunicode -- the value of the largest Unicode code point\\nplatform -- platform identifier\\nprefix -- prefix used to find the Python library\\nthread_info -- a struct sequence with information about the thread implementation.\\nversion -- the version of this interpreter as a string\\nversion_info -- version information as a named tuple\\n__stdin__ -- the original stdin; don't touch!\\n__stdout__ -- the original stdout; don't touch!\\n__stderr__ -- the original stderr; don't touch!\\n__displayhook__ -- the original displayhook; don't touch!\\n__excepthook__ -- the original excepthook; don't touch!\\n\\nFunctions:\\n\\ndisplayhook() -- print an object to the screen, and save it in builtins._\\nexcepthook() -- print an exception and its traceback to sys.stderr\\nexc_info() -- return thread-safe information about the current exception\\nexit() -- exit the interpreter by raising SystemExit\\ngetdlopenflags() -- returns flags to be used for dlopen() calls\\ngetprofile() -- get the global profiling function\\ngetrefcount() -- return the reference count for an object (plus one :-)\\ngetrecursionlimit() -- return the max recursion depth for the interpreter\\ngetsizeof() -- return the size of an object in bytes\\ngettrace() -- get the global debug tracing function\\nsetcheckinterval() -- control how often the interpreter checks for events\\nsetdlopenflags() -- set the flags to be used for dlopen() calls\\nsetprofile() -- set the global profiling function\\nsetrecursionlimit() -- set the max recursion depth for the interpreter\\nsettrace() -- set the global debug tracing function\\n\"))), HBox(children=(Label(value='z', layout=Layout(width='100px')), WidgetCell(description='5', layout=Layout(width='150px'), style=ButtonStyle(), tooltip='5'), WidgetCell(description='int', layout=Layout(width='150px'), style=ButtonStyle(), tooltip='int'), WidgetCell(description=\"int(x=0) -> integer\\nint(x, base=10) -> integer\\n\\nConvert a number or string to an integer, or return 0 if no arguments\\nare given.  If x is a number, return x.__int__().  For floating point\\nnumbers, this truncates towards zero.\\n\\nIf x is not a number or if base is given, then x must be a string,\\nbytes, or bytearray instance representing an integer literal in the\\ngiven base.  The literal can be preceded by '+' or '-' and be surrounded\\nby whitespace.  The base defaults to 10.  Valid bases are 0 and 2-36.\\nBase 0 means to interpret the base from the string as an integer literal.\\n>>> int('0b100', base=0)\\n4\", layout=Layout(width='150px'), style=ButtonStyle(), tooltip=\"int(x=0) -> integer\\nint(x, base=10) -> integer\\n\\nConvert a number or string to an integer, or return 0 if no arguments\\nare given.  If x is a number, return x.__int__().  For floating point\\nnumbers, this truncates towards zero.\\n\\nIf x is not a number or if base is given, then x must be a string,\\nbytes, or bytearray instance representing an integer literal in the\\ngiven base.  The literal can be preceded by '+' or '-' and be surrounded\\nby whitespace.  The base defaults to 10.  Valid bases are 0 and 2-36.\\nBase 0 means to interpret the base from the string as an integer literal.\\n>>> int('0b100', base=0)\\n4\")))))"
      ]
     },
     "metadata": {},
     "output_type": "display_data"
    },
    {
     "data": {
      "application/vnd.jupyter.widget-view+json": {
       "model_id": "8a8260a77ff640df8db40e862ba33043",
       "version_major": 2,
       "version_minor": 0
      },
      "text/html": [
       "<p>Failed to display Jupyter Widget of type <code>HBox</code>.</p>\n",
       "<p>\n",
       "  If you're reading this message in the Jupyter Notebook or JupyterLab Notebook, it may mean\n",
       "  that the widgets JavaScript is still loading. If this message persists, it\n",
       "  likely means that the widgets JavaScript library is either not installed or\n",
       "  not enabled. See the <a href=\"https://ipywidgets.readthedocs.io/en/stable/user_install.html\">Jupyter\n",
       "  Widgets Documentation</a> for setup instructions.\n",
       "</p>\n",
       "<p>\n",
       "  If you're reading this message in another frontend (for example, a static\n",
       "  rendering on GitHub or <a href=\"https://nbviewer.jupyter.org/\">NBViewer</a>),\n",
       "  it may mean that your frontend doesn't currently support widgets.\n",
       "</p>\n"
      ],
      "text/plain": [
       "HBox(children=(ClearButton(description='clear', icon='close', style=ButtonStyle()), UpdateButton(description='update', icon='refresh', style=ButtonStyle())))"
      ]
     },
     "metadata": {},
     "output_type": "display_data"
    },
    {
     "data": {
      "application/vnd.jupyter.widget-view+json": {
       "model_id": "52e3fe8360bd40a0b71804dae0e681a3",
       "version_major": 2,
       "version_minor": 0
      },
      "text/html": [
       "<p>Failed to display Jupyter Widget of type <code>Output</code>.</p>\n",
       "<p>\n",
       "  If you're reading this message in the Jupyter Notebook or JupyterLab Notebook, it may mean\n",
       "  that the widgets JavaScript is still loading. If this message persists, it\n",
       "  likely means that the widgets JavaScript library is either not installed or\n",
       "  not enabled. See the <a href=\"https://ipywidgets.readthedocs.io/en/stable/user_install.html\">Jupyter\n",
       "  Widgets Documentation</a> for setup instructions.\n",
       "</p>\n",
       "<p>\n",
       "  If you're reading this message in another frontend (for example, a static\n",
       "  rendering on GitHub or <a href=\"https://nbviewer.jupyter.org/\">NBViewer</a>),\n",
       "  it may mean that your frontend doesn't currently support widgets.\n",
       "</p>\n"
      ],
      "text/plain": [
       "Output()"
      ]
     },
     "metadata": {},
     "output_type": "display_data"
    },
    {
     "data": {
      "application/vnd.jupyter.widget-view+json": {
       "model_id": "92cd2096893347a5b2d09a9beb1a6d0c",
       "version_major": 2,
       "version_minor": 0
      },
      "text/html": [
       "<p>Failed to display Jupyter Widget of type <code>AutoWidgetEnv</code>.</p>\n",
       "<p>\n",
       "  If you're reading this message in the Jupyter Notebook or JupyterLab Notebook, it may mean\n",
       "  that the widgets JavaScript is still loading. If this message persists, it\n",
       "  likely means that the widgets JavaScript library is either not installed or\n",
       "  not enabled. See the <a href=\"https://ipywidgets.readthedocs.io/en/stable/user_install.html\">Jupyter\n",
       "  Widgets Documentation</a> for setup instructions.\n",
       "</p>\n",
       "<p>\n",
       "  If you're reading this message in another frontend (for example, a static\n",
       "  rendering on GitHub or <a href=\"https://nbviewer.jupyter.org/\">NBViewer</a>),\n",
       "  it may mean that your frontend doesn't currently support widgets.\n",
       "</p>\n"
      ],
      "text/plain": [
       "AutoWidgetEnv(children=(HBox(children=(Label(value='Variable', layout=Layout(width='150px')), Label(value='Value', layout=Layout(width='150px')), Label(value='Type', layout=Layout(width='150px')), Label(value='Documentation', layout=Layout(width='150px')))), HBox(children=(Label(value='AutoWidgetEnv', layout=Layout(width='100px')), WidgetCell(description='AutoWidgetEnv', layout=Layout(width='150px'), style=ButtonStyle(), tooltip='AutoWidgetEnv'), WidgetCell(description='MetaHasTraits', layout=Layout(width='150px'), style=ButtonStyle(), tooltip='MetaHasTraits'), WidgetCell(description=\"\\n    AutoWidgetEnv(*args, interval: float=5, start: bool=True, **kwargs)\\n    \\n    Child class of ``WidgetEnv``.  Is able to automatically update itself\\n    periodically in the background.\\n    \\n    See ``WidgetEnv`` for more infomation.\\n    \\n    Parameters:\\n    -----------\\n        *args: Positional arguments passed to the parent's constructor.\\n        interval (float): Number of seconds between updates (default is 5).\\n        start (bool): Weather to start automatic updates on initialisation.\\n            ``self.start`` can be used to commence automatic updating after\\n             the fact (default is True).\\n        **kwargs: Key word arguments passed to the parent's constructor.\\n    \", layout=Layout(width='150px'), style=ButtonStyle(), tooltip=\"\\n    AutoWidgetEnv(*args, interval: float=5, start: bool=True, **kwargs)\\n    \\n    Child class of ``WidgetEnv``.  Is able to automatically update itself\\n    periodically in the background.\\n    \\n    See ``WidgetEnv`` for more infomation.\\n    \\n    Parameters:\\n    -----------\\n        *args: Positional arguments passed to the parent's constructor.\\n        interval (float): Number of seconds between updates (default is 5).\\n        start (bool): Weather to start automatic updates on initialisation.\\n            ``self.start`` can be used to commence automatic updating after\\n             the fact (default is True).\\n        **kwargs: Key word arguments passed to the parent's constructor.\\n    \"))), HBox(children=(Label(value='EnvHandler', layout=Layout(width='100px')), WidgetCell(description='EnvHandeler', layout=Layout(width='150px'), style=ButtonStyle(), tooltip='EnvHandeler'), WidgetCell(description='type', layout=Layout(width='150px'), style=ButtonStyle(), tooltip='type'), WidgetCell(description=\"\\n    EnvHandeler(name:str, display_as:str='df', **kwargs[dict_args: Iterable=[], \\n        dict_kwargs: dict={}, df_args: Iterable=[], df_kwargs: dict={}, \\n        html_args: Iterable=[], html_kwargs: dict={}])\\n    \\n    For processing and displaying the contents objects.\\n    \\n    Parameters:\\n    -----------\\n        name (str): Name by which the object can be referenced in the main \\n            enviroment.\\n        display_as (str): Name of the attribute to be displayed by the\\n            ``_ipython_display_`` method (default = 'df').\\n        **kwargs: Key word defaluts used by ``self.updatefromenv``\\n            and other methods to update ``self.dicti``, ``self.df`` and\\n            ``self.html``.\\n                - dict_args (Iterable): Positional arguments for \\n                    ``self.setdict`` (default = []).\\n                - dict_kwargs (dict): Key word arguments for ``self.setdict`` \\n                    (default = {}).\\n                - df_args (Iterable): Positional arguments for ``self.setdf`` \\n                    (default = []).\\n                - df_kwargs (dict): Key word arguments for ``self.setdf`` \\n                    (default = {}).\\n                - html_args (Iterable): Positional arguments for \\n                    ``self.sethtml`` (default = []).\\n                - html_kwargs (dict): Key word arguments for ``self.sethtml`` \\n                    (default = {}).        \\n    \", layout=Layout(width='150px'), style=ButtonStyle(), tooltip=\"\\n    EnvHandeler(name:str, display_as:str='df', **kwargs[dict_args: Iterable=[], \\n        dict_kwargs: dict={}, df_args: Iterable=[], df_kwargs: dict={}, \\n        html_args: Iterable=[], html_kwargs: dict={}])\\n    \\n    For processing and displaying the contents objects.\\n    \\n    Parameters:\\n    -----------\\n        name (str): Name by which the object can be referenced in the main \\n            enviroment.\\n        display_as (str): Name of the attribute to be displayed by the\\n            ``_ipython_display_`` method (default = 'df').\\n        **kwargs: Key word defaluts used by ``self.updatefromenv``\\n            and other methods to update ``self.dicti``, ``self.df`` and\\n            ``self.html``.\\n                - dict_args (Iterable): Positional arguments for \\n                    ``self.setdict`` (default = []).\\n                - dict_kwargs (dict): Key word arguments for ``self.setdict`` \\n                    (default = {}).\\n                - df_args (Iterable): Positional arguments for ``self.setdf`` \\n                    (default = []).\\n                - df_kwargs (dict): Key word arguments for ``self.setdf`` \\n                    (default = {}).\\n                - html_args (Iterable): Positional arguments for \\n                    ``self.sethtml`` (default = []).\\n                - html_kwargs (dict): Key word arguments for ``self.sethtml`` \\n                    (default = {}).        \\n    \"))), HBox(children=(Label(value='WidgetEnv', layout=Layout(width='100px')), WidgetCell(description='WidgetEnv', layout=Layout(width='150px'), style=ButtonStyle(), tooltip='WidgetEnv'), WidgetCell(description='MetaHasTraits', layout=Layout(width='150px'), style=ButtonStyle(), tooltip='MetaHasTraits'), WidgetCell(description='\\n    WidgetEnv(*args, **kwargs)\\n    \\n    Widget for representing the EnvHandeler objects. It inherits from\\n    the WidgetDf and EnvHandeler classes.\\n    \\n    See ``WidgetDf`` and ``EnvHandeler`` for more infomation.\\n    \\n    Parameters:\\n    -----------\\n        *args: Positional arguments used to initialise the EnvHandeler\\n            parent.\\n        **kwargs: Key word arguments used to initialise the EnvHandeler\\n            parent.\\n    ', layout=Layout(width='150px'), style=ButtonStyle(), tooltip='\\n    WidgetEnv(*args, **kwargs)\\n    \\n    Widget for representing the EnvHandeler objects. It inherits from\\n    the WidgetDf and EnvHandeler classes.\\n    \\n    See ``WidgetDf`` and ``EnvHandeler`` for more infomation.\\n    \\n    Parameters:\\n    -----------\\n        *args: Positional arguments used to initialise the EnvHandeler\\n            parent.\\n        **kwargs: Key word arguments used to initialise the EnvHandeler\\n            parent.\\n    '))), HBox(children=(Label(value='exit', layout=Layout(width='100px')), WidgetCell(description='<IPython.core.autocall.ZMQExitAutocall object at 0x10426b438>', layout=Layout(width='150px'), style=ButtonStyle(), tooltip='<IPython.core.autocall.ZMQExitAutocall object at 0x10426b438>'), WidgetCell(description='ZMQExitAutocall', layout=Layout(width='150px'), style=ButtonStyle(), tooltip='ZMQExitAutocall'), WidgetCell(description=\"Exit IPython. Autocallable, so it needn't be explicitly called.\\n    \\n    Parameters\\n    ----------\\n    keep_kernel : bool\\n      If True, leave the kernel alive. Otherwise, tell the kernel to exit too\\n      (default).\\n    \", layout=Layout(width='150px'), style=ButtonStyle(), tooltip=\"Exit IPython. Autocallable, so it needn't be explicitly called.\\n    \\n    Parameters\\n    ----------\\n    keep_kernel : bool\\n      If True, leave the kernel alive. Otherwise, tell the kernel to exit too\\n      (default).\\n    \"))), HBox(children=(Label(value='get_ipython', layout=Layout(width='100px')), WidgetCell(description='get_ipython', layout=Layout(width='150px'), style=ButtonStyle(), tooltip='get_ipython'), WidgetCell(description='method', layout=Layout(width='150px'), style=ButtonStyle(), tooltip='method'), WidgetCell(description='Return the currently running IPython instance.', layout=Layout(width='150px'), style=ButtonStyle(), tooltip='Return the currently running IPython instance.'))), HBox(children=(Label(value='getmain', layout=Layout(width='100px')), WidgetCell(description='getmain', layout=Layout(width='150px'), style=ButtonStyle(), tooltip='getmain'), WidgetCell(description='function', layout=Layout(width='150px'), style=ButtonStyle(), tooltip='function'), WidgetCell(description='\\n    getmain() -> module\\n    \\n    Returns the __main__ module.\\n    ', layout=Layout(width='150px'), style=ButtonStyle(), tooltip='\\n    getmain() -> module\\n    \\n    Returns the __main__ module.\\n    '))), HBox(children=(Label(value='os', layout=Layout(width='100px')), WidgetCell(description='os', layout=Layout(width='150px'), style=ButtonStyle(), tooltip='os'), WidgetCell(description='module', layout=Layout(width='150px'), style=ButtonStyle(), tooltip='module'), WidgetCell(description=\"OS routines for NT or Posix depending on what system we're on.\\n\\nThis exports:\\n  - all functions from posix or nt, e.g. unlink, stat, etc.\\n  - os.path is either posixpath or ntpath\\n  - os.name is either 'posix' or 'nt'\\n  - os.curdir is a string representing the current directory (always '.')\\n  - os.pardir is a string representing the parent directory (always '..')\\n  - os.sep is the (or a most common) pathname separator ('/' or '\\\\\\\\')\\n  - os.extsep is the extension separator (always '.')\\n  - os.altsep is the alternate pathname separator (None or '/')\\n  - os.pathsep is the component separator used in $PATH etc\\n  - os.linesep is the line separator in text files ('\\\\r' or '\\\\n' or '\\\\r\\\\n')\\n  - os.defpath is the default search path for executables\\n  - os.devnull is the file path of the null device ('/dev/null', etc.)\\n\\nPrograms that import and use 'os' stand a better chance of being\\nportable between different platforms.  Of course, they must then\\nonly use functions that are defined by all platforms (e.g., unlink\\nand opendir), and leave all pathname manipulation to os.path\\n(e.g., split and join).\\n\", layout=Layout(width='150px'), style=ButtonStyle(), tooltip=\"OS routines for NT or Posix depending on what system we're on.\\n\\nThis exports:\\n  - all functions from posix or nt, e.g. unlink, stat, etc.\\n  - os.path is either posixpath or ntpath\\n  - os.name is either 'posix' or 'nt'\\n  - os.curdir is a string representing the current directory (always '.')\\n  - os.pardir is a string representing the parent directory (always '..')\\n  - os.sep is the (or a most common) pathname separator ('/' or '\\\\\\\\')\\n  - os.extsep is the extension separator (always '.')\\n  - os.altsep is the alternate pathname separator (None or '/')\\n  - os.pathsep is the component separator used in $PATH etc\\n  - os.linesep is the line separator in text files ('\\\\r' or '\\\\n' or '\\\\r\\\\n')\\n  - os.defpath is the default search path for executables\\n  - os.devnull is the file path of the null device ('/dev/null', etc.)\\n\\nPrograms that import and use 'os' stand a better chance of being\\nportable between different platforms.  Of course, they must then\\nonly use functions that are defined by all platforms (e.g., unlink\\nand opendir), and leave all pathname manipulation to os.path\\n(e.g., split and join).\\n\"))), HBox(children=(Label(value='quit', layout=Layout(width='100px')), WidgetCell(description='<IPython.core.autocall.ZMQExitAutocall object at 0x10426b438>', layout=Layout(width='150px'), style=ButtonStyle(), tooltip='<IPython.core.autocall.ZMQExitAutocall object at 0x10426b438>'), WidgetCell(description='ZMQExitAutocall', layout=Layout(width='150px'), style=ButtonStyle(), tooltip='ZMQExitAutocall'), WidgetCell(description=\"Exit IPython. Autocallable, so it needn't be explicitly called.\\n    \\n    Parameters\\n    ----------\\n    keep_kernel : bool\\n      If True, leave the kernel alive. Otherwise, tell the kernel to exit too\\n      (default).\\n    \", layout=Layout(width='150px'), style=ButtonStyle(), tooltip=\"Exit IPython. Autocallable, so it needn't be explicitly called.\\n    \\n    Parameters\\n    ----------\\n    keep_kernel : bool\\n      If True, leave the kernel alive. Otherwise, tell the kernel to exit too\\n      (default).\\n    \"))), HBox(children=(Label(value='sys', layout=Layout(width='100px')), WidgetCell(description='sys', layout=Layout(width='150px'), style=ButtonStyle(), tooltip='sys'), WidgetCell(description='module', layout=Layout(width='150px'), style=ButtonStyle(), tooltip='module'), WidgetCell(description=\"This module provides access to some objects used or maintained by the\\ninterpreter and to functions that interact strongly with the interpreter.\\n\\nDynamic objects:\\n\\nargv -- command line arguments; argv[0] is the script pathname if known\\npath -- module search path; path[0] is the script directory, else ''\\nmodules -- dictionary of loaded modules\\n\\ndisplayhook -- called to show results in an interactive session\\nexcepthook -- called to handle any uncaught exception other than SystemExit\\n  To customize printing in an interactive session or to install a custom\\n  top-level exception handler, assign other functions to replace these.\\n\\nstdin -- standard input file object; used by input()\\nstdout -- standard output file object; used by print()\\nstderr -- standard error object; used for error messages\\n  By assigning other file objects (or objects that behave like files)\\n  to these, it is possible to redirect all of the interpreter's I/O.\\n\\nlast_type -- type of last uncaught exception\\nlast_value -- value of last uncaught exception\\nlast_traceback -- traceback of last uncaught exception\\n  These three are only available in an interactive session after a\\n  traceback has been printed.\\n\\nStatic objects:\\n\\nbuiltin_module_names -- tuple of module names built into this interpreter\\ncopyright -- copyright notice pertaining to this interpreter\\nexec_prefix -- prefix used to find the machine-specific Python library\\nexecutable -- absolute path of the executable binary of the Python interpreter\\nfloat_info -- a struct sequence with information about the float implementation.\\nfloat_repr_style -- string indicating the style of repr() output for floats\\nhash_info -- a struct sequence with information about the hash algorithm.\\nhexversion -- version information encoded as a single integer\\nimplementation -- Python implementation information.\\nint_info -- a struct sequence with information about the int implementation.\\nmaxsize -- the largest supported length of containers.\\nmaxunicode -- the value of the largest Unicode code point\\nplatform -- platform identifier\\nprefix -- prefix used to find the Python library\\nthread_info -- a struct sequence with information about the thread implementation.\\nversion -- the version of this interpreter as a string\\nversion_info -- version information as a named tuple\\n__stdin__ -- the original stdin; don't touch!\\n__stdout__ -- the original stdout; don't touch!\\n__stderr__ -- the original stderr; don't touch!\\n__displayhook__ -- the original displayhook; don't touch!\\n__excepthook__ -- the original excepthook; don't touch!\\n\\nFunctions:\\n\\ndisplayhook() -- print an object to the screen, and save it in builtins._\\nexcepthook() -- print an exception and its traceback to sys.stderr\\nexc_info() -- return thread-safe information about the current exception\\nexit() -- exit the interpreter by raising SystemExit\\ngetdlopenflags() -- returns flags to be used for dlopen() calls\\ngetprofile() -- get the global profiling function\\ngetrefcount() -- return the reference count for an object (plus one :-)\\ngetrecursionlimit() -- return the max recursion depth for the interpreter\\ngetsizeof() -- return the size of an object in bytes\\ngettrace() -- get the global debug tracing function\\nsetcheckinterval() -- control how often the interpreter checks for events\\nsetdlopenflags() -- set the flags to be used for dlopen() calls\\nsetprofile() -- set the global profiling function\\nsetrecursionlimit() -- set the max recursion depth for the interpreter\\nsettrace() -- set the global debug tracing function\\n\", layout=Layout(width='150px'), style=ButtonStyle(), tooltip=\"This module provides access to some objects used or maintained by the\\ninterpreter and to functions that interact strongly with the interpreter.\\n\\nDynamic objects:\\n\\nargv -- command line arguments; argv[0] is the script pathname if known\\npath -- module search path; path[0] is the script directory, else ''\\nmodules -- dictionary of loaded modules\\n\\ndisplayhook -- called to show results in an interactive session\\nexcepthook -- called to handle any uncaught exception other than SystemExit\\n  To customize printing in an interactive session or to install a custom\\n  top-level exception handler, assign other functions to replace these.\\n\\nstdin -- standard input file object; used by input()\\nstdout -- standard output file object; used by print()\\nstderr -- standard error object; used for error messages\\n  By assigning other file objects (or objects that behave like files)\\n  to these, it is possible to redirect all of the interpreter's I/O.\\n\\nlast_type -- type of last uncaught exception\\nlast_value -- value of last uncaught exception\\nlast_traceback -- traceback of last uncaught exception\\n  These three are only available in an interactive session after a\\n  traceback has been printed.\\n\\nStatic objects:\\n\\nbuiltin_module_names -- tuple of module names built into this interpreter\\ncopyright -- copyright notice pertaining to this interpreter\\nexec_prefix -- prefix used to find the machine-specific Python library\\nexecutable -- absolute path of the executable binary of the Python interpreter\\nfloat_info -- a struct sequence with information about the float implementation.\\nfloat_repr_style -- string indicating the style of repr() output for floats\\nhash_info -- a struct sequence with information about the hash algorithm.\\nhexversion -- version information encoded as a single integer\\nimplementation -- Python implementation information.\\nint_info -- a struct sequence with information about the int implementation.\\nmaxsize -- the largest supported length of containers.\\nmaxunicode -- the value of the largest Unicode code point\\nplatform -- platform identifier\\nprefix -- prefix used to find the Python library\\nthread_info -- a struct sequence with information about the thread implementation.\\nversion -- the version of this interpreter as a string\\nversion_info -- version information as a named tuple\\n__stdin__ -- the original stdin; don't touch!\\n__stdout__ -- the original stdout; don't touch!\\n__stderr__ -- the original stderr; don't touch!\\n__displayhook__ -- the original displayhook; don't touch!\\n__excepthook__ -- the original excepthook; don't touch!\\n\\nFunctions:\\n\\ndisplayhook() -- print an object to the screen, and save it in builtins._\\nexcepthook() -- print an exception and its traceback to sys.stderr\\nexc_info() -- return thread-safe information about the current exception\\nexit() -- exit the interpreter by raising SystemExit\\ngetdlopenflags() -- returns flags to be used for dlopen() calls\\ngetprofile() -- get the global profiling function\\ngetrefcount() -- return the reference count for an object (plus one :-)\\ngetrecursionlimit() -- return the max recursion depth for the interpreter\\ngetsizeof() -- return the size of an object in bytes\\ngettrace() -- get the global debug tracing function\\nsetcheckinterval() -- control how often the interpreter checks for events\\nsetdlopenflags() -- set the flags to be used for dlopen() calls\\nsetprofile() -- set the global profiling function\\nsetrecursionlimit() -- set the max recursion depth for the interpreter\\nsettrace() -- set the global debug tracing function\\n\"))), HBox(children=(Label(value='z', layout=Layout(width='100px')), WidgetCell(description='5', layout=Layout(width='150px'), style=ButtonStyle(), tooltip='5'), WidgetCell(description='int', layout=Layout(width='150px'), style=ButtonStyle(), tooltip='int'), WidgetCell(description=\"int(x=0) -> integer\\nint(x, base=10) -> integer\\n\\nConvert a number or string to an integer, or return 0 if no arguments\\nare given.  If x is a number, return x.__int__().  For floating point\\nnumbers, this truncates towards zero.\\n\\nIf x is not a number or if base is given, then x must be a string,\\nbytes, or bytearray instance representing an integer literal in the\\ngiven base.  The literal can be preceded by '+' or '-' and be surrounded\\nby whitespace.  The base defaults to 10.  Valid bases are 0 and 2-36.\\nBase 0 means to interpret the base from the string as an integer literal.\\n>>> int('0b100', base=0)\\n4\", layout=Layout(width='150px'), style=ButtonStyle(), tooltip=\"int(x=0) -> integer\\nint(x, base=10) -> integer\\n\\nConvert a number or string to an integer, or return 0 if no arguments\\nare given.  If x is a number, return x.__int__().  For floating point\\nnumbers, this truncates towards zero.\\n\\nIf x is not a number or if base is given, then x must be a string,\\nbytes, or bytearray instance representing an integer literal in the\\ngiven base.  The literal can be preceded by '+' or '-' and be surrounded\\nby whitespace.  The base defaults to 10.  Valid bases are 0 and 2-36.\\nBase 0 means to interpret the base from the string as an integer literal.\\n>>> int('0b100', base=0)\\n4\")))))"
      ]
     },
     "metadata": {},
     "output_type": "display_data"
    },
    {
     "data": {
      "application/vnd.jupyter.widget-view+json": {
       "model_id": "9b1811f867234516a697cc7ec98f8fcf",
       "version_major": 2,
       "version_minor": 0
      },
      "text/html": [
       "<p>Failed to display Jupyter Widget of type <code>HBox</code>.</p>\n",
       "<p>\n",
       "  If you're reading this message in the Jupyter Notebook or JupyterLab Notebook, it may mean\n",
       "  that the widgets JavaScript is still loading. If this message persists, it\n",
       "  likely means that the widgets JavaScript library is either not installed or\n",
       "  not enabled. See the <a href=\"https://ipywidgets.readthedocs.io/en/stable/user_install.html\">Jupyter\n",
       "  Widgets Documentation</a> for setup instructions.\n",
       "</p>\n",
       "<p>\n",
       "  If you're reading this message in another frontend (for example, a static\n",
       "  rendering on GitHub or <a href=\"https://nbviewer.jupyter.org/\">NBViewer</a>),\n",
       "  it may mean that your frontend doesn't currently support widgets.\n",
       "</p>\n"
      ],
      "text/plain": [
       "HBox(children=(ClearButton(description='clear', icon='close', style=ButtonStyle()), UpdateButton(description='update', icon='refresh', style=ButtonStyle()), PausePlayButton(icon='pause', style=ButtonStyle())))"
      ]
     },
     "metadata": {},
     "output_type": "display_data"
    },
    {
     "data": {
      "application/vnd.jupyter.widget-view+json": {
       "model_id": "52e3fe8360bd40a0b71804dae0e681a3",
       "version_major": 2,
       "version_minor": 0
      },
      "text/html": [
       "<p>Failed to display Jupyter Widget of type <code>Output</code>.</p>\n",
       "<p>\n",
       "  If you're reading this message in the Jupyter Notebook or JupyterLab Notebook, it may mean\n",
       "  that the widgets JavaScript is still loading. If this message persists, it\n",
       "  likely means that the widgets JavaScript library is either not installed or\n",
       "  not enabled. See the <a href=\"https://ipywidgets.readthedocs.io/en/stable/user_install.html\">Jupyter\n",
       "  Widgets Documentation</a> for setup instructions.\n",
       "</p>\n",
       "<p>\n",
       "  If you're reading this message in another frontend (for example, a static\n",
       "  rendering on GitHub or <a href=\"https://nbviewer.jupyter.org/\">NBViewer</a>),\n",
       "  it may mean that your frontend doesn't currently support widgets.\n",
       "</p>\n"
      ],
      "text/plain": [
       "Output()"
      ]
     },
     "metadata": {},
     "output_type": "display_data"
    }
   ],
   "source": [
    "display(\n",
    "    eh,\n",
    "    we,\n",
    "    awe\n",
    ")"
   ]
  },
  {
   "cell_type": "markdown",
   "metadata": {},
   "source": [
    "#### 4 - ``update``\n",
    "The ``update`` method is defined for each of the mentioned classes.  \n",
    "\n",
    "It sets the backend value of the object to the result of evaluating the ``name`` attribute (``'getmain()'`` above) in the current enviroment and recaluclates other attributes accordingly.\n",
    "\n",
    "For the ``AutoWidgetEnv`` class, this is done periodically in the backgroud and can also be done for both the ``WidgetEnv`` and ``AutoWidgetEnv`` classes manually by clicking the update button.\n",
    "\n",
    "For the ``WidgetEnv`` and ``AutoWidgetEnv`` classes, changes should be reflected in the objects whilst they are being displayed.  \n",
    "\n",
    "After running the following section, all the objects displayed above should have a row 'z' at the bottom."
   ]
  },
  {
   "cell_type": "code",
   "execution_count": 8,
   "metadata": {},
   "outputs": [],
   "source": [
    "z = 5"
   ]
  },
  {
   "cell_type": "code",
   "execution_count": 9,
   "metadata": {},
   "outputs": [
    {
     "data": {
      "text/html": [
       "<div>\n",
       "<style scoped>\n",
       "    .dataframe tbody tr th:only-of-type {\n",
       "        vertical-align: middle;\n",
       "    }\n",
       "\n",
       "    .dataframe tbody tr th {\n",
       "        vertical-align: top;\n",
       "    }\n",
       "\n",
       "    .dataframe thead th {\n",
       "        text-align: right;\n",
       "    }\n",
       "</style>\n",
       "<table border=\"1\" class=\"dataframe\">\n",
       "  <thead>\n",
       "    <tr style=\"text-align: right;\">\n",
       "      <th></th>\n",
       "      <th>Value</th>\n",
       "      <th>Type</th>\n",
       "      <th>Documentation</th>\n",
       "    </tr>\n",
       "    <tr>\n",
       "      <th>Variable</th>\n",
       "      <th></th>\n",
       "      <th></th>\n",
       "      <th></th>\n",
       "    </tr>\n",
       "  </thead>\n",
       "  <tbody>\n",
       "    <tr>\n",
       "      <th>AutoWidgetEnv</th>\n",
       "      <td>&lt;class 'env_explore.interface.AutoWidgetEnv'&gt;</td>\n",
       "      <td>&lt;class 'traitlets.traitlets.MetaHasTraits'&gt;</td>\n",
       "      <td>\\n    AutoWidgetEnv(*args, interval: float=5, ...</td>\n",
       "    </tr>\n",
       "    <tr>\n",
       "      <th>EnvHandler</th>\n",
       "      <td>&lt;class 'env_explore.processing.EnvHandeler'&gt;</td>\n",
       "      <td>&lt;class 'type'&gt;</td>\n",
       "      <td>\\n    EnvHandeler(name:str, display_as:str='df...</td>\n",
       "    </tr>\n",
       "    <tr>\n",
       "      <th>WidgetEnv</th>\n",
       "      <td>&lt;class 'env_explore.interface.WidgetEnv'&gt;</td>\n",
       "      <td>&lt;class 'traitlets.traitlets.MetaHasTraits'&gt;</td>\n",
       "      <td>\\n    WidgetEnv(*args, **kwargs)\\n    \\n    Wi...</td>\n",
       "    </tr>\n",
       "    <tr>\n",
       "      <th>exit</th>\n",
       "      <td>&lt;IPython.core.autocall.ZMQExitAutocall object ...</td>\n",
       "      <td>&lt;class 'IPython.core.autocall.ZMQExitAutocall'&gt;</td>\n",
       "      <td>Exit IPython. Autocallable, so it needn't be e...</td>\n",
       "    </tr>\n",
       "    <tr>\n",
       "      <th>get_ipython</th>\n",
       "      <td>&lt;bound method InteractiveShell.get_ipython of ...</td>\n",
       "      <td>&lt;class 'method'&gt;</td>\n",
       "      <td>Return the currently running IPython instance.</td>\n",
       "    </tr>\n",
       "    <tr>\n",
       "      <th>getmain</th>\n",
       "      <td>&lt;function getmain at 0x10432ee18&gt;</td>\n",
       "      <td>&lt;class 'function'&gt;</td>\n",
       "      <td>\\n    getmain() -&gt; module\\n    \\n    Returns t...</td>\n",
       "    </tr>\n",
       "    <tr>\n",
       "      <th>os</th>\n",
       "      <td>&lt;module 'os' from '/Users/oscarnuki/anaconda3/...</td>\n",
       "      <td>&lt;class 'module'&gt;</td>\n",
       "      <td>OS routines for NT or Posix depending on what ...</td>\n",
       "    </tr>\n",
       "    <tr>\n",
       "      <th>quit</th>\n",
       "      <td>&lt;IPython.core.autocall.ZMQExitAutocall object ...</td>\n",
       "      <td>&lt;class 'IPython.core.autocall.ZMQExitAutocall'&gt;</td>\n",
       "      <td>Exit IPython. Autocallable, so it needn't be e...</td>\n",
       "    </tr>\n",
       "    <tr>\n",
       "      <th>sys</th>\n",
       "      <td>&lt;module 'sys' (built-in)&gt;</td>\n",
       "      <td>&lt;class 'module'&gt;</td>\n",
       "      <td>This module provides access to some objects us...</td>\n",
       "    </tr>\n",
       "    <tr>\n",
       "      <th>z</th>\n",
       "      <td>5</td>\n",
       "      <td>&lt;class 'int'&gt;</td>\n",
       "      <td>int(x=0) -&gt; integer\\nint(x, base=10) -&gt; intege...</td>\n",
       "    </tr>\n",
       "  </tbody>\n",
       "</table>\n",
       "</div>"
      ],
      "text/plain": [
       "                                                           Value  \\\n",
       "Variable                                                           \n",
       "AutoWidgetEnv      <class 'env_explore.interface.AutoWidgetEnv'>   \n",
       "EnvHandler          <class 'env_explore.processing.EnvHandeler'>   \n",
       "WidgetEnv              <class 'env_explore.interface.WidgetEnv'>   \n",
       "exit           <IPython.core.autocall.ZMQExitAutocall object ...   \n",
       "get_ipython    <bound method InteractiveShell.get_ipython of ...   \n",
       "getmain                        <function getmain at 0x10432ee18>   \n",
       "os             <module 'os' from '/Users/oscarnuki/anaconda3/...   \n",
       "quit           <IPython.core.autocall.ZMQExitAutocall object ...   \n",
       "sys                                    <module 'sys' (built-in)>   \n",
       "z                                                              5   \n",
       "\n",
       "                                                          Type  \\\n",
       "Variable                                                         \n",
       "AutoWidgetEnv      <class 'traitlets.traitlets.MetaHasTraits'>   \n",
       "EnvHandler                                      <class 'type'>   \n",
       "WidgetEnv          <class 'traitlets.traitlets.MetaHasTraits'>   \n",
       "exit           <class 'IPython.core.autocall.ZMQExitAutocall'>   \n",
       "get_ipython                                   <class 'method'>   \n",
       "getmain                                     <class 'function'>   \n",
       "os                                            <class 'module'>   \n",
       "quit           <class 'IPython.core.autocall.ZMQExitAutocall'>   \n",
       "sys                                           <class 'module'>   \n",
       "z                                                <class 'int'>   \n",
       "\n",
       "                                                   Documentation  \n",
       "Variable                                                          \n",
       "AutoWidgetEnv  \\n    AutoWidgetEnv(*args, interval: float=5, ...  \n",
       "EnvHandler     \\n    EnvHandeler(name:str, display_as:str='df...  \n",
       "WidgetEnv      \\n    WidgetEnv(*args, **kwargs)\\n    \\n    Wi...  \n",
       "exit           Exit IPython. Autocallable, so it needn't be e...  \n",
       "get_ipython       Return the currently running IPython instance.  \n",
       "getmain        \\n    getmain() -> module\\n    \\n    Returns t...  \n",
       "os             OS routines for NT or Posix depending on what ...  \n",
       "quit           Exit IPython. Autocallable, so it needn't be e...  \n",
       "sys            This module provides access to some objects us...  \n",
       "z              int(x=0) -> integer\\nint(x, base=10) -> intege...  "
      ]
     },
     "metadata": {},
     "output_type": "display_data"
    }
   ],
   "source": [
    "we.update() # Changes should be reflected in the display above\n",
    "awe.update() # Changes should be reflected in the display above\n",
    "eh.update()"
   ]
  },
  {
   "cell_type": "code",
   "execution_count": null,
   "metadata": {},
   "outputs": [],
   "source": []
  },
  {
   "cell_type": "code",
   "execution_count": null,
   "metadata": {},
   "outputs": [],
   "source": []
  },
  {
   "cell_type": "code",
   "execution_count": null,
   "metadata": {},
   "outputs": [],
   "source": []
  },
  {
   "cell_type": "code",
   "execution_count": null,
   "metadata": {},
   "outputs": [],
   "source": []
  }
 ],
 "metadata": {
  "kernelspec": {
   "display_name": "Python 3.6.8 64-bit ('anaconda3': virtualenv)",
   "language": "python",
   "name": "python36864bitanaconda3virtualenvfde2b208eaac4357a92860cd4ecbd956"
  },
  "language_info": {
   "codemirror_mode": {
    "name": "ipython",
    "version": 3
   },
   "file_extension": ".py",
   "mimetype": "text/x-python",
   "name": "python",
   "nbconvert_exporter": "python",
   "pygments_lexer": "ipython3",
   "version": "3.6.8"
  }
 },
 "nbformat": 4,
 "nbformat_minor": 4
}
