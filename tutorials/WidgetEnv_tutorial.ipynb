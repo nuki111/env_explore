{
 "cells": [
  {
   "cell_type": "code",
   "execution_count": 1,
   "metadata": {},
   "outputs": [],
   "source": [
    "import sys\n",
    "import os\n",
    "sys.path.insert(0, os.path.join('..', '..'))"
   ]
  },
  {
   "cell_type": "markdown",
   "metadata": {},
   "source": [
    "## Using the WidgetEnv class\n",
    "### By the end of this tutorial you should be able to do the following:\n",
    "\n",
    "<ol>\n",
    "    <li>\n",
    "        <a href=\"#1\">Create an instance of the <code>WidgetEnv</code> class for a given python object.</a>\n",
    "        <ol>\n",
    "            <li>\n",
    "                <a href=\"#1.a\">Use the <code>df_args</code>/<code>df_kwargs</code> parameters of \n",
    "                    <code>WidgetEnv</code> (<code>WidgetEnv.__init__</code>) to customise the WidgetEnv.</a>\n",
    "            </li>\n",
    "        </ol>\n",
    "    </li>\n",
    "    <li><a href=\"#2\">Use the <code>subenv</code> method to create <code>WidgetEnv</code> \n",
    "            instances from objects stored withing an <code>WidgetEnv</code>.</a></li>\n",
    "    <li><a href=\"#3\">Use the <code>update</code> method to update an instance of the <code>WidgetEnv</code> class inplace.</a></li>\n",
    "    <li><a href=\"#4\">Use the buttons featured by the <code>WidgetEnv</code> interface.</a></li>\n",
    "    <li><a href=\"#5\">Use the <code>out</code> argument and <code>changeout</code> method to change a \n",
    "        <code>WidgetEnv</code>'s attached output.</a></li>\n",
    "</ol>    "
   ]
  },
  {
   "cell_type": "code",
   "execution_count": 2,
   "metadata": {},
   "outputs": [],
   "source": [
    "from env_explore import WidgetEnv"
   ]
  },
  {
   "cell_type": "markdown",
   "metadata": {},
   "source": [
    "An instance of class the  `ExampleClass`, from ``tutorial_utils`` will be used thoughout this tutorial."
   ]
  },
  {
   "cell_type": "code",
   "execution_count": 3,
   "metadata": {},
   "outputs": [],
   "source": [
    "from tutorial_utils import ExampleClass\n",
    "eg = ExampleClass()"
   ]
  },
  {
   "cell_type": "markdown",
   "metadata": {},
   "source": [
    "<p id=\"1\"></p>\n",
    "\n",
    "#### **1** - Create an instance of the ``WidgetEnv`` class for a given python object.\n",
    "The ``WidgetEnv`` class inherits from the ``EnvHandler`` class and is initialised using the same parameters.\n",
    "See <i><a href='EnvHandler_tutorial.ipynb'>EnvHandler_tutorial.ipynb<a>.\n",
    "\n",
    "The minimimum input required is the ``name`` argument.  This is a string that can be evaluated as code in the current enviroment\n",
    "to create the ``env`` attribute.\n",
    "\n",
    "The code below creates a WidgetEnv for the ``ExampleClass`` instance, ``eg`` using all given parameter defaults."
   ]
  },
  {
   "cell_type": "code",
   "execution_count": 4,
   "metadata": {},
   "outputs": [
    {
     "data": {
      "application/vnd.jupyter.widget-view+json": {
       "model_id": "f2f27fbd388f45de9643de75899960fd",
       "version_major": 2,
       "version_minor": 0
      },
      "text/html": [
       "<p>Failed to display Jupyter Widget of type <code>WidgetEnv</code>.</p>\n",
       "<p>\n",
       "  If you're reading this message in the Jupyter Notebook or JupyterLab Notebook, it may mean\n",
       "  that the widgets JavaScript is still loading. If this message persists, it\n",
       "  likely means that the widgets JavaScript library is either not installed or\n",
       "  not enabled. See the <a href=\"https://ipywidgets.readthedocs.io/en/stable/user_install.html\">Jupyter\n",
       "  Widgets Documentation</a> for setup instructions.\n",
       "</p>\n",
       "<p>\n",
       "  If you're reading this message in another frontend (for example, a static\n",
       "  rendering on GitHub or <a href=\"https://nbviewer.jupyter.org/\">NBViewer</a>),\n",
       "  it may mean that your frontend doesn't currently support widgets.\n",
       "</p>\n"
      ],
      "text/plain": [
       "WidgetEnv(children=(HBox(children=(Label(value='Variable', layout=Layout(width='150px')), Label(value='Value', layout=Layout(width='150px')), Label(value='Type', layout=Layout(width='150px')), Label(value='Documentation', layout=Layout(width='150px')))), HBox(children=(Label(value='a', layout=Layout(width='100px')), WidgetCell(description='1', layout=Layout(width='150px'), style=ButtonStyle(), tooltip='1'), WidgetCell(description='int', layout=Layout(width='150px'), style=ButtonStyle(), tooltip='int'), WidgetCell(description=\"int(x=0) -> integer\\nint(x, base=10) -> integer\\n\\nConvert a number or string to an integer, or return 0 if no arguments\\nare given.  If x is a number, return x.__int__().  For floating point\\nnumbers, this truncates towards zero.\\n\\nIf x is not a number or if base is given, then x must be a string,\\nbytes, or bytearray instance representing an integer literal in the\\ngiven base.  The literal can be preceded by '+' or '-' and be surrounded\\nby whitespace.  The base defaults to 10.  Valid bases are 0 and 2-36.\\nBase 0 means to interpret the base from the string as an integer literal.\\n>>> int('0b100', base=0)\\n4\", layout=Layout(width='150px'), style=ButtonStyle(), tooltip=\"int(x=0) -> integer\\nint(x, base=10) -> integer\\n\\nConvert a number or string to an integer, or return 0 if no arguments\\nare given.  If x is a number, return x.__int__().  For floating point\\nnumbers, this truncates towards zero.\\n\\nIf x is not a number or if base is given, then x must be a string,\\nbytes, or bytearray instance representing an integer literal in the\\ngiven base.  The literal can be preceded by '+' or '-' and be surrounded\\nby whitespace.  The base defaults to 10.  Valid bases are 0 and 2-36.\\nBase 0 means to interpret the base from the string as an integer literal.\\n>>> int('0b100', base=0)\\n4\"))), HBox(children=(Label(value='b', layout=Layout(width='100px')), WidgetCell(description='Hello World', layout=Layout(width='150px'), style=ButtonStyle(), tooltip='Hello World'), WidgetCell(description='str', layout=Layout(width='150px'), style=ButtonStyle(), tooltip='str'), WidgetCell(description=\"str(object='') -> str\\nstr(bytes_or_buffer[, encoding[, errors]]) -> str\\n\\nCreate a new string object from the given object. If encoding or\\nerrors is specified, then the object must expose a data buffer\\nthat will be decoded using the given encoding and error handler.\\nOtherwise, returns the result of object.__str__() (if defined)\\nor repr(object).\\nencoding defaults to sys.getdefaultencoding().\\nerrors defaults to 'strict'.\", layout=Layout(width='150px'), style=ButtonStyle(), tooltip=\"str(object='') -> str\\nstr(bytes_or_buffer[, encoding[, errors]]) -> str\\n\\nCreate a new string object from the given object. If encoding or\\nerrors is specified, then the object must expose a data buffer\\nthat will be decoded using the given encoding and error handler.\\nOtherwise, returns the result of object.__str__() (if defined)\\nor repr(object).\\nencoding defaults to sys.getdefaultencoding().\\nerrors defaults to 'strict'.\"))), HBox(children=(Label(value='c', layout=Layout(width='100px')), WidgetCell(description='False', layout=Layout(width='150px'), style=ButtonStyle(), tooltip='False'), WidgetCell(description='bool', layout=Layout(width='150px'), style=ButtonStyle(), tooltip='bool'), WidgetCell(description='bool(x) -> bool\\n\\nReturns True when the argument x is true, False otherwise.\\nThe builtins True and False are the only two instances of the class bool.\\nThe class bool is a subclass of the class int, and cannot be subclassed.', layout=Layout(width='150px'), style=ButtonStyle(), tooltip='bool(x) -> bool\\n\\nReturns True when the argument x is true, False otherwise.\\nThe builtins True and False are the only two instances of the class bool.\\nThe class bool is a subclass of the class int, and cannot be subclassed.'))), HBox(children=(Label(value='d', layout=Layout(width='100px')), WidgetCell(description='[1, 2, 3]', layout=Layout(width='150px'), style=ButtonStyle(), tooltip='[1, 2, 3]'), WidgetCell(description='list', layout=Layout(width='150px'), style=ButtonStyle(), tooltip='list'), WidgetCell(description=\"list() -> new empty list\\nlist(iterable) -> new list initialized from iterable's items\", layout=Layout(width='150px'), style=ButtonStyle(), tooltip=\"list() -> new empty list\\nlist(iterable) -> new list initialized from iterable's items\"))), HBox(children=(Label(value='e', layout=Layout(width='100px')), WidgetCell(description='e', layout=Layout(width='150px'), style=ButtonStyle(), tooltip='e'), WidgetCell(description='method', layout=Layout(width='150px'), style=ButtonStyle(), tooltip='method'), WidgetCell(description='example function doc string', layout=Layout(width='150px'), style=ButtonStyle(), tooltip='example function doc string')))))"
      ]
     },
     "metadata": {},
     "output_type": "display_data"
    },
    {
     "data": {
      "application/vnd.jupyter.widget-view+json": {
       "model_id": "dbba5d2e7be94c00916181da32cf1a99",
       "version_major": 2,
       "version_minor": 0
      },
      "text/html": [
       "<p>Failed to display Jupyter Widget of type <code>HBox</code>.</p>\n",
       "<p>\n",
       "  If you're reading this message in the Jupyter Notebook or JupyterLab Notebook, it may mean\n",
       "  that the widgets JavaScript is still loading. If this message persists, it\n",
       "  likely means that the widgets JavaScript library is either not installed or\n",
       "  not enabled. See the <a href=\"https://ipywidgets.readthedocs.io/en/stable/user_install.html\">Jupyter\n",
       "  Widgets Documentation</a> for setup instructions.\n",
       "</p>\n",
       "<p>\n",
       "  If you're reading this message in another frontend (for example, a static\n",
       "  rendering on GitHub or <a href=\"https://nbviewer.jupyter.org/\">NBViewer</a>),\n",
       "  it may mean that your frontend doesn't currently support widgets.\n",
       "</p>\n"
      ],
      "text/plain": [
       "HBox(children=(ClearButton(description='clear', icon='close', style=ButtonStyle()), UpdateButton(description='update', icon='refresh', style=ButtonStyle())))"
      ]
     },
     "metadata": {},
     "output_type": "display_data"
    },
    {
     "data": {
      "application/vnd.jupyter.widget-view+json": {
       "model_id": "998a486c930a4f779688555ef094f405",
       "version_major": 2,
       "version_minor": 0
      },
      "text/html": [
       "<p>Failed to display Jupyter Widget of type <code>Output</code>.</p>\n",
       "<p>\n",
       "  If you're reading this message in the Jupyter Notebook or JupyterLab Notebook, it may mean\n",
       "  that the widgets JavaScript is still loading. If this message persists, it\n",
       "  likely means that the widgets JavaScript library is either not installed or\n",
       "  not enabled. See the <a href=\"https://ipywidgets.readthedocs.io/en/stable/user_install.html\">Jupyter\n",
       "  Widgets Documentation</a> for setup instructions.\n",
       "</p>\n",
       "<p>\n",
       "  If you're reading this message in another frontend (for example, a static\n",
       "  rendering on GitHub or <a href=\"https://nbviewer.jupyter.org/\">NBViewer</a>),\n",
       "  it may mean that your frontend doesn't currently support widgets.\n",
       "</p>\n"
      ],
      "text/plain": [
       "Output()"
      ]
     },
     "metadata": {},
     "output_type": "display_data"
    }
   ],
   "source": [
    "we = WidgetEnv('eg')\n",
    "we"
   ]
  },
  {
   "cell_type": "markdown",
   "metadata": {},
   "source": [
    "<p id=\"1.a\"></p>\n",
    "\n",
    "#### **1.a** - Use parameters to customise the WidgetEnv\n",
    "``name`` (``str``): Name by which the object can be referenced in the main enviroment.\n",
    "    \n",
    "``display_as`` (``str``): Name of the attribute to be displayed by the ``_ipython_display_`` method (default = ``'df'``).\n",
    "\n",
    "``df_args`` (``Iterable``): Positional arguments for ``self.setdf`` (default = ``{}``). \n",
    "\n",
    "``df_kwargs`` (``dict``): Key word arguments for ``self.setdf`` (default = ``{}``).\n",
    "    \n",
    "``html_args`` (``Iterable``): Positional arguments for ``self.sethtml`` (default = ``[]``).\n",
    "    \n",
    "``html_kwargs`` (``dict``): Key word arguments for ``self.sethtml`` (default = ``{}``)."
   ]
  },
  {
   "cell_type": "markdown",
   "metadata": {},
   "source": [
    "#### **1.a. Example 1** - Choose the columns of the WidgetEnv\n",
    "The ``df_kwargs`` or (``df_args``) argument can be used to determine the columns in the ``EnvHandler.df`` Dataframe.\n",
    "\n",
    "The code below creates an EnvHandeler for the ``ExampleClass`` instance, ``eg`` which has extra columns."
   ]
  },
  {
   "cell_type": "code",
   "execution_count": 5,
   "metadata": {},
   "outputs": [
    {
     "data": {
      "application/vnd.jupyter.widget-view+json": {
       "model_id": "bae91dafc87f4c4382eb6cf4fbd5b485",
       "version_major": 2,
       "version_minor": 0
      },
      "text/html": [
       "<p>Failed to display Jupyter Widget of type <code>WidgetEnv</code>.</p>\n",
       "<p>\n",
       "  If you're reading this message in the Jupyter Notebook or JupyterLab Notebook, it may mean\n",
       "  that the widgets JavaScript is still loading. If this message persists, it\n",
       "  likely means that the widgets JavaScript library is either not installed or\n",
       "  not enabled. See the <a href=\"https://ipywidgets.readthedocs.io/en/stable/user_install.html\">Jupyter\n",
       "  Widgets Documentation</a> for setup instructions.\n",
       "</p>\n",
       "<p>\n",
       "  If you're reading this message in another frontend (for example, a static\n",
       "  rendering on GitHub or <a href=\"https://nbviewer.jupyter.org/\">NBViewer</a>),\n",
       "  it may mean that your frontend doesn't currently support widgets.\n",
       "</p>\n"
      ],
      "text/plain": [
       "WidgetEnv(children=(HBox(children=(Label(value='Variable', layout=Layout(width='150px')), Label(value='Value', layout=Layout(width='150px')), Label(value='Type', layout=Layout(width='150px')), Label(value='Times 2', layout=Layout(width='150px')), Label(value='Documentation', layout=Layout(width='150px')), Label(value='Real', layout=Layout(width='150px')))), HBox(children=(Label(value='a', layout=Layout(width='100px')), WidgetCell(description='1', layout=Layout(width='150px'), style=ButtonStyle(), tooltip='1'), WidgetCell(description='int', layout=Layout(width='150px'), style=ButtonStyle(), tooltip='int'), WidgetCell(description='2', layout=Layout(width='150px'), style=ButtonStyle(), tooltip='2'), WidgetCell(description=\"int(x=0) -> integer\\nint(x, base=10) -> integer\\n\\nConvert a number or string to an integer, or return 0 if no arguments\\nare given.  If x is a number, return x.__int__().  For floating point\\nnumbers, this truncates towards zero.\\n\\nIf x is not a number or if base is given, then x must be a string,\\nbytes, or bytearray instance representing an integer literal in the\\ngiven base.  The literal can be preceded by '+' or '-' and be surrounded\\nby whitespace.  The base defaults to 10.  Valid bases are 0 and 2-36.\\nBase 0 means to interpret the base from the string as an integer literal.\\n>>> int('0b100', base=0)\\n4\", layout=Layout(width='150px'), style=ButtonStyle(), tooltip=\"int(x=0) -> integer\\nint(x, base=10) -> integer\\n\\nConvert a number or string to an integer, or return 0 if no arguments\\nare given.  If x is a number, return x.__int__().  For floating point\\nnumbers, this truncates towards zero.\\n\\nIf x is not a number or if base is given, then x must be a string,\\nbytes, or bytearray instance representing an integer literal in the\\ngiven base.  The literal can be preceded by '+' or '-' and be surrounded\\nby whitespace.  The base defaults to 10.  Valid bases are 0 and 2-36.\\nBase 0 means to interpret the base from the string as an integer literal.\\n>>> int('0b100', base=0)\\n4\"), WidgetCell(description='1', layout=Layout(width='150px'), style=ButtonStyle(), tooltip='1'))), HBox(children=(Label(value='b', layout=Layout(width='100px')), WidgetCell(description='Hello World', layout=Layout(width='150px'), style=ButtonStyle(), tooltip='Hello World'), WidgetCell(description='str', layout=Layout(width='150px'), style=ButtonStyle(), tooltip='str'), WidgetCell(description='Hello WorldHello World', layout=Layout(width='150px'), style=ButtonStyle(), tooltip='Hello WorldHello World'), WidgetCell(description=\"str(object='') -> str\\nstr(bytes_or_buffer[, encoding[, errors]]) -> str\\n\\nCreate a new string object from the given object. If encoding or\\nerrors is specified, then the object must expose a data buffer\\nthat will be decoded using the given encoding and error handler.\\nOtherwise, returns the result of object.__str__() (if defined)\\nor repr(object).\\nencoding defaults to sys.getdefaultencoding().\\nerrors defaults to 'strict'.\", layout=Layout(width='150px'), style=ButtonStyle(), tooltip=\"str(object='') -> str\\nstr(bytes_or_buffer[, encoding[, errors]]) -> str\\n\\nCreate a new string object from the given object. If encoding or\\nerrors is specified, then the object must expose a data buffer\\nthat will be decoded using the given encoding and error handler.\\nOtherwise, returns the result of object.__str__() (if defined)\\nor repr(object).\\nencoding defaults to sys.getdefaultencoding().\\nerrors defaults to 'strict'.\"), WidgetCell(layout=Layout(width='150px'), style=ButtonStyle()))), HBox(children=(Label(value='c', layout=Layout(width='100px')), WidgetCell(description='False', layout=Layout(width='150px'), style=ButtonStyle(), tooltip='False'), WidgetCell(description='bool', layout=Layout(width='150px'), style=ButtonStyle(), tooltip='bool'), WidgetCell(description='0', layout=Layout(width='150px'), style=ButtonStyle(), tooltip='0'), WidgetCell(description='bool(x) -> bool\\n\\nReturns True when the argument x is true, False otherwise.\\nThe builtins True and False are the only two instances of the class bool.\\nThe class bool is a subclass of the class int, and cannot be subclassed.', layout=Layout(width='150px'), style=ButtonStyle(), tooltip='bool(x) -> bool\\n\\nReturns True when the argument x is true, False otherwise.\\nThe builtins True and False are the only two instances of the class bool.\\nThe class bool is a subclass of the class int, and cannot be subclassed.'), WidgetCell(description='0', layout=Layout(width='150px'), style=ButtonStyle(), tooltip='0'))), HBox(children=(Label(value='d', layout=Layout(width='100px')), WidgetCell(description='[1, 2, 3]', layout=Layout(width='150px'), style=ButtonStyle(), tooltip='[1, 2, 3]'), WidgetCell(description='list', layout=Layout(width='150px'), style=ButtonStyle(), tooltip='list'), WidgetCell(description='[1, 2, 3, 1, 2, 3]', layout=Layout(width='150px'), style=ButtonStyle(), tooltip='[1, 2, 3, 1, 2, 3]'), WidgetCell(description=\"list() -> new empty list\\nlist(iterable) -> new list initialized from iterable's items\", layout=Layout(width='150px'), style=ButtonStyle(), tooltip=\"list() -> new empty list\\nlist(iterable) -> new list initialized from iterable's items\"), WidgetCell(layout=Layout(width='150px'), style=ButtonStyle()))), HBox(children=(Label(value='e', layout=Layout(width='100px')), WidgetCell(description='e', layout=Layout(width='150px'), style=ButtonStyle(), tooltip='e'), WidgetCell(description='method', layout=Layout(width='150px'), style=ButtonStyle(), tooltip='method'), WidgetCell(description='Err', layout=Layout(width='150px'), style=ButtonStyle(), tooltip='Err'), WidgetCell(description='example function doc string', layout=Layout(width='150px'), style=ButtonStyle(), tooltip='example function doc string'), WidgetCell(layout=Layout(width='150px'), style=ButtonStyle())))))"
      ]
     },
     "metadata": {},
     "output_type": "display_data"
    },
    {
     "data": {
      "application/vnd.jupyter.widget-view+json": {
       "model_id": "230c3afaa98b4cdab2e4288988fa182a",
       "version_major": 2,
       "version_minor": 0
      },
      "text/html": [
       "<p>Failed to display Jupyter Widget of type <code>HBox</code>.</p>\n",
       "<p>\n",
       "  If you're reading this message in the Jupyter Notebook or JupyterLab Notebook, it may mean\n",
       "  that the widgets JavaScript is still loading. If this message persists, it\n",
       "  likely means that the widgets JavaScript library is either not installed or\n",
       "  not enabled. See the <a href=\"https://ipywidgets.readthedocs.io/en/stable/user_install.html\">Jupyter\n",
       "  Widgets Documentation</a> for setup instructions.\n",
       "</p>\n",
       "<p>\n",
       "  If you're reading this message in another frontend (for example, a static\n",
       "  rendering on GitHub or <a href=\"https://nbviewer.jupyter.org/\">NBViewer</a>),\n",
       "  it may mean that your frontend doesn't currently support widgets.\n",
       "</p>\n"
      ],
      "text/plain": [
       "HBox(children=(ClearButton(description='clear', icon='close', style=ButtonStyle()), UpdateButton(description='update', icon='refresh', style=ButtonStyle())))"
      ]
     },
     "metadata": {},
     "output_type": "display_data"
    },
    {
     "data": {
      "application/vnd.jupyter.widget-view+json": {
       "model_id": "998a486c930a4f779688555ef094f405",
       "version_major": 2,
       "version_minor": 0
      },
      "text/html": [
       "<p>Failed to display Jupyter Widget of type <code>Output</code>.</p>\n",
       "<p>\n",
       "  If you're reading this message in the Jupyter Notebook or JupyterLab Notebook, it may mean\n",
       "  that the widgets JavaScript is still loading. If this message persists, it\n",
       "  likely means that the widgets JavaScript library is either not installed or\n",
       "  not enabled. See the <a href=\"https://ipywidgets.readthedocs.io/en/stable/user_install.html\">Jupyter\n",
       "  Widgets Documentation</a> for setup instructions.\n",
       "</p>\n",
       "<p>\n",
       "  If you're reading this message in another frontend (for example, a static\n",
       "  rendering on GitHub or <a href=\"https://nbviewer.jupyter.org/\">NBViewer</a>),\n",
       "  it may mean that your frontend doesn't currently support widgets.\n",
       "</p>\n"
      ],
      "text/plain": [
       "Output()"
      ]
     },
     "metadata": {},
     "output_type": "display_data"
    },
    {
     "data": {
      "application/vnd.jupyter.widget-view+json": {
       "model_id": "f3fd77c6566a4b86be6782dd4d92f911",
       "version_major": 2,
       "version_minor": 0
      },
      "text/html": [
       "<p>Failed to display Jupyter Widget of type <code>WidgetEnv</code>.</p>\n",
       "<p>\n",
       "  If you're reading this message in the Jupyter Notebook or JupyterLab Notebook, it may mean\n",
       "  that the widgets JavaScript is still loading. If this message persists, it\n",
       "  likely means that the widgets JavaScript library is either not installed or\n",
       "  not enabled. See the <a href=\"https://ipywidgets.readthedocs.io/en/stable/user_install.html\">Jupyter\n",
       "  Widgets Documentation</a> for setup instructions.\n",
       "</p>\n",
       "<p>\n",
       "  If you're reading this message in another frontend (for example, a static\n",
       "  rendering on GitHub or <a href=\"https://nbviewer.jupyter.org/\">NBViewer</a>),\n",
       "  it may mean that your frontend doesn't currently support widgets.\n",
       "</p>\n"
      ],
      "text/plain": [
       "WidgetEnv(children=(HBox(children=(Label(value='Variable', layout=Layout(width='150px')), Label(value='Value', layout=Layout(width='150px')), Label(value='Type', layout=Layout(width='150px')), Label(value='Times 2', layout=Layout(width='150px')), Label(value='Documentation', layout=Layout(width='150px')), Label(value='Real', layout=Layout(width='150px')))), HBox(children=(Label(value='a', layout=Layout(width='100px')), WidgetCell(description='1', layout=Layout(width='150px'), style=ButtonStyle(), tooltip='1'), WidgetCell(description='int', layout=Layout(width='150px'), style=ButtonStyle(), tooltip='int'), WidgetCell(description='2', layout=Layout(width='150px'), style=ButtonStyle(), tooltip='2'), WidgetCell(description=\"int(x=0) -> integer\\nint(x, base=10) -> integer\\n\\nConvert a number or string to an integer, or return 0 if no arguments\\nare given.  If x is a number, return x.__int__().  For floating point\\nnumbers, this truncates towards zero.\\n\\nIf x is not a number or if base is given, then x must be a string,\\nbytes, or bytearray instance representing an integer literal in the\\ngiven base.  The literal can be preceded by '+' or '-' and be surrounded\\nby whitespace.  The base defaults to 10.  Valid bases are 0 and 2-36.\\nBase 0 means to interpret the base from the string as an integer literal.\\n>>> int('0b100', base=0)\\n4\", layout=Layout(width='150px'), style=ButtonStyle(), tooltip=\"int(x=0) -> integer\\nint(x, base=10) -> integer\\n\\nConvert a number or string to an integer, or return 0 if no arguments\\nare given.  If x is a number, return x.__int__().  For floating point\\nnumbers, this truncates towards zero.\\n\\nIf x is not a number or if base is given, then x must be a string,\\nbytes, or bytearray instance representing an integer literal in the\\ngiven base.  The literal can be preceded by '+' or '-' and be surrounded\\nby whitespace.  The base defaults to 10.  Valid bases are 0 and 2-36.\\nBase 0 means to interpret the base from the string as an integer literal.\\n>>> int('0b100', base=0)\\n4\"), WidgetCell(description='1', layout=Layout(width='150px'), style=ButtonStyle(), tooltip='1'))), HBox(children=(Label(value='b', layout=Layout(width='100px')), WidgetCell(description='Hello World', layout=Layout(width='150px'), style=ButtonStyle(), tooltip='Hello World'), WidgetCell(description='str', layout=Layout(width='150px'), style=ButtonStyle(), tooltip='str'), WidgetCell(description='Hello WorldHello World', layout=Layout(width='150px'), style=ButtonStyle(), tooltip='Hello WorldHello World'), WidgetCell(description=\"str(object='') -> str\\nstr(bytes_or_buffer[, encoding[, errors]]) -> str\\n\\nCreate a new string object from the given object. If encoding or\\nerrors is specified, then the object must expose a data buffer\\nthat will be decoded using the given encoding and error handler.\\nOtherwise, returns the result of object.__str__() (if defined)\\nor repr(object).\\nencoding defaults to sys.getdefaultencoding().\\nerrors defaults to 'strict'.\", layout=Layout(width='150px'), style=ButtonStyle(), tooltip=\"str(object='') -> str\\nstr(bytes_or_buffer[, encoding[, errors]]) -> str\\n\\nCreate a new string object from the given object. If encoding or\\nerrors is specified, then the object must expose a data buffer\\nthat will be decoded using the given encoding and error handler.\\nOtherwise, returns the result of object.__str__() (if defined)\\nor repr(object).\\nencoding defaults to sys.getdefaultencoding().\\nerrors defaults to 'strict'.\"), WidgetCell(layout=Layout(width='150px'), style=ButtonStyle()))), HBox(children=(Label(value='c', layout=Layout(width='100px')), WidgetCell(description='False', layout=Layout(width='150px'), style=ButtonStyle(), tooltip='False'), WidgetCell(description='bool', layout=Layout(width='150px'), style=ButtonStyle(), tooltip='bool'), WidgetCell(description='0', layout=Layout(width='150px'), style=ButtonStyle(), tooltip='0'), WidgetCell(description='bool(x) -> bool\\n\\nReturns True when the argument x is true, False otherwise.\\nThe builtins True and False are the only two instances of the class bool.\\nThe class bool is a subclass of the class int, and cannot be subclassed.', layout=Layout(width='150px'), style=ButtonStyle(), tooltip='bool(x) -> bool\\n\\nReturns True when the argument x is true, False otherwise.\\nThe builtins True and False are the only two instances of the class bool.\\nThe class bool is a subclass of the class int, and cannot be subclassed.'), WidgetCell(description='0', layout=Layout(width='150px'), style=ButtonStyle(), tooltip='0'))), HBox(children=(Label(value='d', layout=Layout(width='100px')), WidgetCell(description='[1, 2, 3]', layout=Layout(width='150px'), style=ButtonStyle(), tooltip='[1, 2, 3]'), WidgetCell(description='list', layout=Layout(width='150px'), style=ButtonStyle(), tooltip='list'), WidgetCell(description='[1, 2, 3, 1, 2, 3]', layout=Layout(width='150px'), style=ButtonStyle(), tooltip='[1, 2, 3, 1, 2, 3]'), WidgetCell(description=\"list() -> new empty list\\nlist(iterable) -> new list initialized from iterable's items\", layout=Layout(width='150px'), style=ButtonStyle(), tooltip=\"list() -> new empty list\\nlist(iterable) -> new list initialized from iterable's items\"), WidgetCell(layout=Layout(width='150px'), style=ButtonStyle()))), HBox(children=(Label(value='e', layout=Layout(width='100px')), WidgetCell(description='e', layout=Layout(width='150px'), style=ButtonStyle(), tooltip='e'), WidgetCell(description='method', layout=Layout(width='150px'), style=ButtonStyle(), tooltip='method'), WidgetCell(description='Err', layout=Layout(width='150px'), style=ButtonStyle(), tooltip='Err'), WidgetCell(description='example function doc string', layout=Layout(width='150px'), style=ButtonStyle(), tooltip='example function doc string'), WidgetCell(layout=Layout(width='150px'), style=ButtonStyle())))))"
      ]
     },
     "metadata": {},
     "output_type": "display_data"
    },
    {
     "data": {
      "application/vnd.jupyter.widget-view+json": {
       "model_id": "e3f33217f1b848f5ab54c589ad583892",
       "version_major": 2,
       "version_minor": 0
      },
      "text/html": [
       "<p>Failed to display Jupyter Widget of type <code>HBox</code>.</p>\n",
       "<p>\n",
       "  If you're reading this message in the Jupyter Notebook or JupyterLab Notebook, it may mean\n",
       "  that the widgets JavaScript is still loading. If this message persists, it\n",
       "  likely means that the widgets JavaScript library is either not installed or\n",
       "  not enabled. See the <a href=\"https://ipywidgets.readthedocs.io/en/stable/user_install.html\">Jupyter\n",
       "  Widgets Documentation</a> for setup instructions.\n",
       "</p>\n",
       "<p>\n",
       "  If you're reading this message in another frontend (for example, a static\n",
       "  rendering on GitHub or <a href=\"https://nbviewer.jupyter.org/\">NBViewer</a>),\n",
       "  it may mean that your frontend doesn't currently support widgets.\n",
       "</p>\n"
      ],
      "text/plain": [
       "HBox(children=(ClearButton(description='clear', icon='close', style=ButtonStyle()), UpdateButton(description='update', icon='refresh', style=ButtonStyle())))"
      ]
     },
     "metadata": {},
     "output_type": "display_data"
    },
    {
     "data": {
      "application/vnd.jupyter.widget-view+json": {
       "model_id": "998a486c930a4f779688555ef094f405",
       "version_major": 2,
       "version_minor": 0
      },
      "text/html": [
       "<p>Failed to display Jupyter Widget of type <code>Output</code>.</p>\n",
       "<p>\n",
       "  If you're reading this message in the Jupyter Notebook or JupyterLab Notebook, it may mean\n",
       "  that the widgets JavaScript is still loading. If this message persists, it\n",
       "  likely means that the widgets JavaScript library is either not installed or\n",
       "  not enabled. See the <a href=\"https://ipywidgets.readthedocs.io/en/stable/user_install.html\">Jupyter\n",
       "  Widgets Documentation</a> for setup instructions.\n",
       "</p>\n",
       "<p>\n",
       "  If you're reading this message in another frontend (for example, a static\n",
       "  rendering on GitHub or <a href=\"https://nbviewer.jupyter.org/\">NBViewer</a>),\n",
       "  it may mean that your frontend doesn't currently support widgets.\n",
       "</p>\n"
      ],
      "text/plain": [
       "Output()"
      ]
     },
     "metadata": {},
     "output_type": "display_data"
    }
   ],
   "source": [
    "df_kwargs = {\n",
    "    'funcs': {'Type': type, 'Times 2': lambda x: x*2},  # {column_name: function}\n",
    "    'attrs': {'Documentation': '__doc__', 'Real': 'real'}  # {column_name: attribute_name}\n",
    "}\n",
    "\n",
    "df_args = df_kwargs.values()\n",
    "\n",
    "# the two objects displayed should be identical\n",
    "display(\n",
    "    WidgetEnv('eg', df_kwargs=df_kwargs), # using df_kwargs\n",
    "    WidgetEnv('eg', df_args=df_args) # using df_args\n",
    ")"
   ]
  },
  {
   "cell_type": "markdown",
   "metadata": {},
   "source": [
    "<p id=\"2\"></p>\n",
    "\n",
    "#### **2** - Using the ``update`` method\n",
    "If the result of evaluating the ``name`` attribute changes, the ``update`` method can be used to update the WidgetEnv accordingly.\n",
    "\n",
    "Note that ``name``, ``df_args`` and ``df_kwargs`` arguments used to create an EnvHandler in 1.a. Example 2 can be used in the same way by ``update``.\n",
    "\n",
    "The code below will set a new attribute, ``f``, of our ``ExampleClass`` instance ``eg`` with value ``'New Attribute'`` before calling the ``update``.  Notice how our WidgetEnv ``we`` now has an extra row with index ``'f'``."
   ]
  },
  {
   "cell_type": "code",
   "execution_count": 6,
   "metadata": {},
   "outputs": [
    {
     "data": {
      "application/vnd.jupyter.widget-view+json": {
       "model_id": "f2f27fbd388f45de9643de75899960fd",
       "version_major": 2,
       "version_minor": 0
      },
      "text/html": [
       "<p>Failed to display Jupyter Widget of type <code>WidgetEnv</code>.</p>\n",
       "<p>\n",
       "  If you're reading this message in the Jupyter Notebook or JupyterLab Notebook, it may mean\n",
       "  that the widgets JavaScript is still loading. If this message persists, it\n",
       "  likely means that the widgets JavaScript library is either not installed or\n",
       "  not enabled. See the <a href=\"https://ipywidgets.readthedocs.io/en/stable/user_install.html\">Jupyter\n",
       "  Widgets Documentation</a> for setup instructions.\n",
       "</p>\n",
       "<p>\n",
       "  If you're reading this message in another frontend (for example, a static\n",
       "  rendering on GitHub or <a href=\"https://nbviewer.jupyter.org/\">NBViewer</a>),\n",
       "  it may mean that your frontend doesn't currently support widgets.\n",
       "</p>\n"
      ],
      "text/plain": [
       "WidgetEnv(children=(HBox(children=(Label(value='Variable', layout=Layout(width='150px')), Label(value='Value', layout=Layout(width='150px')), Label(value='Type', layout=Layout(width='150px')), Label(value='Documentation', layout=Layout(width='150px')))), HBox(children=(Label(value='a', layout=Layout(width='100px')), WidgetCell(description='1', layout=Layout(width='150px'), style=ButtonStyle(), tooltip='1'), WidgetCell(description='int', layout=Layout(width='150px'), style=ButtonStyle(), tooltip='int'), WidgetCell(description=\"int(x=0) -> integer\\nint(x, base=10) -> integer\\n\\nConvert a number or string to an integer, or return 0 if no arguments\\nare given.  If x is a number, return x.__int__().  For floating point\\nnumbers, this truncates towards zero.\\n\\nIf x is not a number or if base is given, then x must be a string,\\nbytes, or bytearray instance representing an integer literal in the\\ngiven base.  The literal can be preceded by '+' or '-' and be surrounded\\nby whitespace.  The base defaults to 10.  Valid bases are 0 and 2-36.\\nBase 0 means to interpret the base from the string as an integer literal.\\n>>> int('0b100', base=0)\\n4\", layout=Layout(width='150px'), style=ButtonStyle(), tooltip=\"int(x=0) -> integer\\nint(x, base=10) -> integer\\n\\nConvert a number or string to an integer, or return 0 if no arguments\\nare given.  If x is a number, return x.__int__().  For floating point\\nnumbers, this truncates towards zero.\\n\\nIf x is not a number or if base is given, then x must be a string,\\nbytes, or bytearray instance representing an integer literal in the\\ngiven base.  The literal can be preceded by '+' or '-' and be surrounded\\nby whitespace.  The base defaults to 10.  Valid bases are 0 and 2-36.\\nBase 0 means to interpret the base from the string as an integer literal.\\n>>> int('0b100', base=0)\\n4\"))), HBox(children=(Label(value='b', layout=Layout(width='100px')), WidgetCell(description='Hello World', layout=Layout(width='150px'), style=ButtonStyle(), tooltip='Hello World'), WidgetCell(description='str', layout=Layout(width='150px'), style=ButtonStyle(), tooltip='str'), WidgetCell(description=\"str(object='') -> str\\nstr(bytes_or_buffer[, encoding[, errors]]) -> str\\n\\nCreate a new string object from the given object. If encoding or\\nerrors is specified, then the object must expose a data buffer\\nthat will be decoded using the given encoding and error handler.\\nOtherwise, returns the result of object.__str__() (if defined)\\nor repr(object).\\nencoding defaults to sys.getdefaultencoding().\\nerrors defaults to 'strict'.\", layout=Layout(width='150px'), style=ButtonStyle(), tooltip=\"str(object='') -> str\\nstr(bytes_or_buffer[, encoding[, errors]]) -> str\\n\\nCreate a new string object from the given object. If encoding or\\nerrors is specified, then the object must expose a data buffer\\nthat will be decoded using the given encoding and error handler.\\nOtherwise, returns the result of object.__str__() (if defined)\\nor repr(object).\\nencoding defaults to sys.getdefaultencoding().\\nerrors defaults to 'strict'.\"))), HBox(children=(Label(value='c', layout=Layout(width='100px')), WidgetCell(description='False', layout=Layout(width='150px'), style=ButtonStyle(), tooltip='False'), WidgetCell(description='bool', layout=Layout(width='150px'), style=ButtonStyle(), tooltip='bool'), WidgetCell(description='bool(x) -> bool\\n\\nReturns True when the argument x is true, False otherwise.\\nThe builtins True and False are the only two instances of the class bool.\\nThe class bool is a subclass of the class int, and cannot be subclassed.', layout=Layout(width='150px'), style=ButtonStyle(), tooltip='bool(x) -> bool\\n\\nReturns True when the argument x is true, False otherwise.\\nThe builtins True and False are the only two instances of the class bool.\\nThe class bool is a subclass of the class int, and cannot be subclassed.'))), HBox(children=(Label(value='d', layout=Layout(width='100px')), WidgetCell(description='[1, 2, 3]', layout=Layout(width='150px'), style=ButtonStyle(), tooltip='[1, 2, 3]'), WidgetCell(description='list', layout=Layout(width='150px'), style=ButtonStyle(), tooltip='list'), WidgetCell(description=\"list() -> new empty list\\nlist(iterable) -> new list initialized from iterable's items\", layout=Layout(width='150px'), style=ButtonStyle(), tooltip=\"list() -> new empty list\\nlist(iterable) -> new list initialized from iterable's items\"))), HBox(children=(Label(value='e', layout=Layout(width='100px')), WidgetCell(description='e', layout=Layout(width='150px'), style=ButtonStyle(), tooltip='e'), WidgetCell(description='method', layout=Layout(width='150px'), style=ButtonStyle(), tooltip='method'), WidgetCell(description='example function doc string', layout=Layout(width='150px'), style=ButtonStyle(), tooltip='example function doc string')))))"
      ]
     },
     "metadata": {},
     "output_type": "display_data"
    },
    {
     "data": {
      "application/vnd.jupyter.widget-view+json": {
       "model_id": "dbba5d2e7be94c00916181da32cf1a99",
       "version_major": 2,
       "version_minor": 0
      },
      "text/html": [
       "<p>Failed to display Jupyter Widget of type <code>HBox</code>.</p>\n",
       "<p>\n",
       "  If you're reading this message in the Jupyter Notebook or JupyterLab Notebook, it may mean\n",
       "  that the widgets JavaScript is still loading. If this message persists, it\n",
       "  likely means that the widgets JavaScript library is either not installed or\n",
       "  not enabled. See the <a href=\"https://ipywidgets.readthedocs.io/en/stable/user_install.html\">Jupyter\n",
       "  Widgets Documentation</a> for setup instructions.\n",
       "</p>\n",
       "<p>\n",
       "  If you're reading this message in another frontend (for example, a static\n",
       "  rendering on GitHub or <a href=\"https://nbviewer.jupyter.org/\">NBViewer</a>),\n",
       "  it may mean that your frontend doesn't currently support widgets.\n",
       "</p>\n"
      ],
      "text/plain": [
       "HBox(children=(ClearButton(description='clear', icon='close', style=ButtonStyle()), UpdateButton(description='update', icon='refresh', style=ButtonStyle())))"
      ]
     },
     "metadata": {},
     "output_type": "display_data"
    },
    {
     "data": {
      "application/vnd.jupyter.widget-view+json": {
       "model_id": "998a486c930a4f779688555ef094f405",
       "version_major": 2,
       "version_minor": 0
      },
      "text/html": [
       "<p>Failed to display Jupyter Widget of type <code>Output</code>.</p>\n",
       "<p>\n",
       "  If you're reading this message in the Jupyter Notebook or JupyterLab Notebook, it may mean\n",
       "  that the widgets JavaScript is still loading. If this message persists, it\n",
       "  likely means that the widgets JavaScript library is either not installed or\n",
       "  not enabled. See the <a href=\"https://ipywidgets.readthedocs.io/en/stable/user_install.html\">Jupyter\n",
       "  Widgets Documentation</a> for setup instructions.\n",
       "</p>\n",
       "<p>\n",
       "  If you're reading this message in another frontend (for example, a static\n",
       "  rendering on GitHub or <a href=\"https://nbviewer.jupyter.org/\">NBViewer</a>),\n",
       "  it may mean that your frontend doesn't currently support widgets.\n",
       "</p>\n"
      ],
      "text/plain": [
       "Output()"
      ]
     },
     "metadata": {},
     "output_type": "display_data"
    }
   ],
   "source": [
    "eg.f = 'New Attribute'\n",
    "we.update()\n",
    "we"
   ]
  },
  {
   "cell_type": "markdown",
   "metadata": {},
   "source": [
    "<p id=\"3\"></p>\n",
    "\n",
    "#### **3** - Using the ``subenv`` method\n",
    "The subenv method can be used to create an EnvHandler from an attribute of the ``env`` of an existing EnvHandler.\n",
    "\n",
    "Note that ``df_args`` and ``df_kwargs`` arguments used to create an EnvHandler in 1.a. Example 2 can be used in the same way by ``update``."
   ]
  },
  {
   "cell_type": "markdown",
   "metadata": {},
   "source": [
    "#### **3 Example 1** - Use the update method to create an EnvHandler from ``eg.b``."
   ]
  },
  {
   "cell_type": "code",
   "execution_count": 7,
   "metadata": {},
   "outputs": [
    {
     "data": {
      "application/vnd.jupyter.widget-view+json": {
       "model_id": "fa378b6ce3194750a33328c5d0475b71",
       "version_major": 2,
       "version_minor": 0
      },
      "text/html": [
       "<p>Failed to display Jupyter Widget of type <code>WidgetEnv</code>.</p>\n",
       "<p>\n",
       "  If you're reading this message in the Jupyter Notebook or JupyterLab Notebook, it may mean\n",
       "  that the widgets JavaScript is still loading. If this message persists, it\n",
       "  likely means that the widgets JavaScript library is either not installed or\n",
       "  not enabled. See the <a href=\"https://ipywidgets.readthedocs.io/en/stable/user_install.html\">Jupyter\n",
       "  Widgets Documentation</a> for setup instructions.\n",
       "</p>\n",
       "<p>\n",
       "  If you're reading this message in another frontend (for example, a static\n",
       "  rendering on GitHub or <a href=\"https://nbviewer.jupyter.org/\">NBViewer</a>),\n",
       "  it may mean that your frontend doesn't currently support widgets.\n",
       "</p>\n"
      ],
      "text/plain": [
       "WidgetEnv(children=(HBox(children=(Label(value='Variable', layout=Layout(width='150px')), Label(value='Value', layout=Layout(width='150px')), Label(value='Type', layout=Layout(width='150px')), Label(value='Documentation', layout=Layout(width='150px')))), HBox(children=(Label(value='capitalize', layout=Layout(width='100px')), WidgetCell(description='capitalize', layout=Layout(width='150px'), style=ButtonStyle(), tooltip='capitalize'), WidgetCell(description='builtin_function_or_method', layout=Layout(width='150px'), style=ButtonStyle(), tooltip='builtin_function_or_method'), WidgetCell(description='S.capitalize() -> str\\n\\nReturn a capitalized version of S, i.e. make the first character\\nhave upper case and the rest lower case.', layout=Layout(width='150px'), style=ButtonStyle(), tooltip='S.capitalize() -> str\\n\\nReturn a capitalized version of S, i.e. make the first character\\nhave upper case and the rest lower case.'))), HBox(children=(Label(value='casefold', layout=Layout(width='100px')), WidgetCell(description='casefold', layout=Layout(width='150px'), style=ButtonStyle(), tooltip='casefold'), WidgetCell(description='builtin_function_or_method', layout=Layout(width='150px'), style=ButtonStyle(), tooltip='builtin_function_or_method'), WidgetCell(description='S.casefold() -> str\\n\\nReturn a version of S suitable for caseless comparisons.', layout=Layout(width='150px'), style=ButtonStyle(), tooltip='S.casefold() -> str\\n\\nReturn a version of S suitable for caseless comparisons.'))), HBox(children=(Label(value='center', layout=Layout(width='100px')), WidgetCell(description='center', layout=Layout(width='150px'), style=ButtonStyle(), tooltip='center'), WidgetCell(description='builtin_function_or_method', layout=Layout(width='150px'), style=ButtonStyle(), tooltip='builtin_function_or_method'), WidgetCell(description='S.center(width[, fillchar]) -> str\\n\\nReturn S centered in a string of length width. Padding is\\ndone using the specified fill character (default is a space)', layout=Layout(width='150px'), style=ButtonStyle(), tooltip='S.center(width[, fillchar]) -> str\\n\\nReturn S centered in a string of length width. Padding is\\ndone using the specified fill character (default is a space)'))), HBox(children=(Label(value='count', layout=Layout(width='100px')), WidgetCell(description='count', layout=Layout(width='150px'), style=ButtonStyle(), tooltip='count'), WidgetCell(description='builtin_function_or_method', layout=Layout(width='150px'), style=ButtonStyle(), tooltip='builtin_function_or_method'), WidgetCell(description='S.count(sub[, start[, end]]) -> int\\n\\nReturn the number of non-overlapping occurrences of substring sub in\\nstring S[start:end].  Optional arguments start and end are\\ninterpreted as in slice notation.', layout=Layout(width='150px'), style=ButtonStyle(), tooltip='S.count(sub[, start[, end]]) -> int\\n\\nReturn the number of non-overlapping occurrences of substring sub in\\nstring S[start:end].  Optional arguments start and end are\\ninterpreted as in slice notation.'))), HBox(children=(Label(value='encode', layout=Layout(width='100px')), WidgetCell(description='encode', layout=Layout(width='150px'), style=ButtonStyle(), tooltip='encode'), WidgetCell(description='builtin_function_or_method', layout=Layout(width='150px'), style=ButtonStyle(), tooltip='builtin_function_or_method'), WidgetCell(description=\"S.encode(encoding='utf-8', errors='strict') -> bytes\\n\\nEncode S using the codec registered for encoding. Default encoding\\nis 'utf-8'. errors may be given to set a different error\\nhandling scheme. Default is 'strict' meaning that encoding errors raise\\na UnicodeEncodeError. Other possible values are 'ignore', 'replace' and\\n'xmlcharrefreplace' as well as any other name registered with\\ncodecs.register_error that can handle UnicodeEncodeErrors.\", layout=Layout(width='150px'), style=ButtonStyle(), tooltip=\"S.encode(encoding='utf-8', errors='strict') -> bytes\\n\\nEncode S using the codec registered for encoding. Default encoding\\nis 'utf-8'. errors may be given to set a different error\\nhandling scheme. Default is 'strict' meaning that encoding errors raise\\na UnicodeEncodeError. Other possible values are 'ignore', 'replace' and\\n'xmlcharrefreplace' as well as any other name registered with\\ncodecs.register_error that can handle UnicodeEncodeErrors.\"))), HBox(children=(Label(value='endswith', layout=Layout(width='100px')), WidgetCell(description='endswith', layout=Layout(width='150px'), style=ButtonStyle(), tooltip='endswith'), WidgetCell(description='builtin_function_or_method', layout=Layout(width='150px'), style=ButtonStyle(), tooltip='builtin_function_or_method'), WidgetCell(description='S.endswith(suffix[, start[, end]]) -> bool\\n\\nReturn True if S ends with the specified suffix, False otherwise.\\nWith optional start, test S beginning at that position.\\nWith optional end, stop comparing S at that position.\\nsuffix can also be a tuple of strings to try.', layout=Layout(width='150px'), style=ButtonStyle(), tooltip='S.endswith(suffix[, start[, end]]) -> bool\\n\\nReturn True if S ends with the specified suffix, False otherwise.\\nWith optional start, test S beginning at that position.\\nWith optional end, stop comparing S at that position.\\nsuffix can also be a tuple of strings to try.'))), HBox(children=(Label(value='expandtabs', layout=Layout(width='100px')), WidgetCell(description='expandtabs', layout=Layout(width='150px'), style=ButtonStyle(), tooltip='expandtabs'), WidgetCell(description='builtin_function_or_method', layout=Layout(width='150px'), style=ButtonStyle(), tooltip='builtin_function_or_method'), WidgetCell(description='S.expandtabs(tabsize=8) -> str\\n\\nReturn a copy of S where all tab characters are expanded using spaces.\\nIf tabsize is not given, a tab size of 8 characters is assumed.', layout=Layout(width='150px'), style=ButtonStyle(), tooltip='S.expandtabs(tabsize=8) -> str\\n\\nReturn a copy of S where all tab characters are expanded using spaces.\\nIf tabsize is not given, a tab size of 8 characters is assumed.'))), HBox(children=(Label(value='find', layout=Layout(width='100px')), WidgetCell(description='find', layout=Layout(width='150px'), style=ButtonStyle(), tooltip='find'), WidgetCell(description='builtin_function_or_method', layout=Layout(width='150px'), style=ButtonStyle(), tooltip='builtin_function_or_method'), WidgetCell(description='S.find(sub[, start[, end]]) -> int\\n\\nReturn the lowest index in S where substring sub is found,\\nsuch that sub is contained within S[start:end].  Optional\\narguments start and end are interpreted as in slice notation.\\n\\nReturn -1 on failure.', layout=Layout(width='150px'), style=ButtonStyle(), tooltip='S.find(sub[, start[, end]]) -> int\\n\\nReturn the lowest index in S where substring sub is found,\\nsuch that sub is contained within S[start:end].  Optional\\narguments start and end are interpreted as in slice notation.\\n\\nReturn -1 on failure.'))), HBox(children=(Label(value='format', layout=Layout(width='100px')), WidgetCell(description='format', layout=Layout(width='150px'), style=ButtonStyle(), tooltip='format'), WidgetCell(description='builtin_function_or_method', layout=Layout(width='150px'), style=ButtonStyle(), tooltip='builtin_function_or_method'), WidgetCell(description=\"S.format(*args, **kwargs) -> str\\n\\nReturn a formatted version of S, using substitutions from args and kwargs.\\nThe substitutions are identified by braces ('{' and '}').\", layout=Layout(width='150px'), style=ButtonStyle(), tooltip=\"S.format(*args, **kwargs) -> str\\n\\nReturn a formatted version of S, using substitutions from args and kwargs.\\nThe substitutions are identified by braces ('{' and '}').\"))), HBox(children=(Label(value='format_map', layout=Layout(width='100px')), WidgetCell(description='format_map', layout=Layout(width='150px'), style=ButtonStyle(), tooltip='format_map'), WidgetCell(description='builtin_function_or_method', layout=Layout(width='150px'), style=ButtonStyle(), tooltip='builtin_function_or_method'), WidgetCell(description=\"S.format_map(mapping) -> str\\n\\nReturn a formatted version of S, using substitutions from mapping.\\nThe substitutions are identified by braces ('{' and '}').\", layout=Layout(width='150px'), style=ButtonStyle(), tooltip=\"S.format_map(mapping) -> str\\n\\nReturn a formatted version of S, using substitutions from mapping.\\nThe substitutions are identified by braces ('{' and '}').\"))), HBox(children=(Label(value='index', layout=Layout(width='100px')), WidgetCell(description='index', layout=Layout(width='150px'), style=ButtonStyle(), tooltip='index'), WidgetCell(description='builtin_function_or_method', layout=Layout(width='150px'), style=ButtonStyle(), tooltip='builtin_function_or_method'), WidgetCell(description='S.index(sub[, start[, end]]) -> int\\n\\nReturn the lowest index in S where substring sub is found, \\nsuch that sub is contained within S[start:end].  Optional\\narguments start and end are interpreted as in slice notation.\\n\\nRaises ValueError when the substring is not found.', layout=Layout(width='150px'), style=ButtonStyle(), tooltip='S.index(sub[, start[, end]]) -> int\\n\\nReturn the lowest index in S where substring sub is found, \\nsuch that sub is contained within S[start:end].  Optional\\narguments start and end are interpreted as in slice notation.\\n\\nRaises ValueError when the substring is not found.'))), HBox(children=(Label(value='isalnum', layout=Layout(width='100px')), WidgetCell(description='isalnum', layout=Layout(width='150px'), style=ButtonStyle(), tooltip='isalnum'), WidgetCell(description='builtin_function_or_method', layout=Layout(width='150px'), style=ButtonStyle(), tooltip='builtin_function_or_method'), WidgetCell(description='S.isalnum() -> bool\\n\\nReturn True if all characters in S are alphanumeric\\nand there is at least one character in S, False otherwise.', layout=Layout(width='150px'), style=ButtonStyle(), tooltip='S.isalnum() -> bool\\n\\nReturn True if all characters in S are alphanumeric\\nand there is at least one character in S, False otherwise.'))), HBox(children=(Label(value='isalpha', layout=Layout(width='100px')), WidgetCell(description='isalpha', layout=Layout(width='150px'), style=ButtonStyle(), tooltip='isalpha'), WidgetCell(description='builtin_function_or_method', layout=Layout(width='150px'), style=ButtonStyle(), tooltip='builtin_function_or_method'), WidgetCell(description='S.isalpha() -> bool\\n\\nReturn True if all characters in S are alphabetic\\nand there is at least one character in S, False otherwise.', layout=Layout(width='150px'), style=ButtonStyle(), tooltip='S.isalpha() -> bool\\n\\nReturn True if all characters in S are alphabetic\\nand there is at least one character in S, False otherwise.'))), HBox(children=(Label(value='isdecimal', layout=Layout(width='100px')), WidgetCell(description='isdecimal', layout=Layout(width='150px'), style=ButtonStyle(), tooltip='isdecimal'), WidgetCell(description='builtin_function_or_method', layout=Layout(width='150px'), style=ButtonStyle(), tooltip='builtin_function_or_method'), WidgetCell(description='S.isdecimal() -> bool\\n\\nReturn True if there are only decimal characters in S,\\nFalse otherwise.', layout=Layout(width='150px'), style=ButtonStyle(), tooltip='S.isdecimal() -> bool\\n\\nReturn True if there are only decimal characters in S,\\nFalse otherwise.'))), HBox(children=(Label(value='isdigit', layout=Layout(width='100px')), WidgetCell(description='isdigit', layout=Layout(width='150px'), style=ButtonStyle(), tooltip='isdigit'), WidgetCell(description='builtin_function_or_method', layout=Layout(width='150px'), style=ButtonStyle(), tooltip='builtin_function_or_method'), WidgetCell(description='S.isdigit() -> bool\\n\\nReturn True if all characters in S are digits\\nand there is at least one character in S, False otherwise.', layout=Layout(width='150px'), style=ButtonStyle(), tooltip='S.isdigit() -> bool\\n\\nReturn True if all characters in S are digits\\nand there is at least one character in S, False otherwise.'))), HBox(children=(Label(value='isidentifier', layout=Layout(width='100px')), WidgetCell(description='isidentifier', layout=Layout(width='150px'), style=ButtonStyle(), tooltip='isidentifier'), WidgetCell(description='builtin_function_or_method', layout=Layout(width='150px'), style=ButtonStyle(), tooltip='builtin_function_or_method'), WidgetCell(description='S.isidentifier() -> bool\\n\\nReturn True if S is a valid identifier according\\nto the language definition.\\n\\nUse keyword.iskeyword() to test for reserved identifiers\\nsuch as \"def\" and \"class\".\\n', layout=Layout(width='150px'), style=ButtonStyle(), tooltip='S.isidentifier() -> bool\\n\\nReturn True if S is a valid identifier according\\nto the language definition.\\n\\nUse keyword.iskeyword() to test for reserved identifiers\\nsuch as \"def\" and \"class\".\\n'))), HBox(children=(Label(value='islower', layout=Layout(width='100px')), WidgetCell(description='islower', layout=Layout(width='150px'), style=ButtonStyle(), tooltip='islower'), WidgetCell(description='builtin_function_or_method', layout=Layout(width='150px'), style=ButtonStyle(), tooltip='builtin_function_or_method'), WidgetCell(description='S.islower() -> bool\\n\\nReturn True if all cased characters in S are lowercase and there is\\nat least one cased character in S, False otherwise.', layout=Layout(width='150px'), style=ButtonStyle(), tooltip='S.islower() -> bool\\n\\nReturn True if all cased characters in S are lowercase and there is\\nat least one cased character in S, False otherwise.'))), HBox(children=(Label(value='isnumeric', layout=Layout(width='100px')), WidgetCell(description='isnumeric', layout=Layout(width='150px'), style=ButtonStyle(), tooltip='isnumeric'), WidgetCell(description='builtin_function_or_method', layout=Layout(width='150px'), style=ButtonStyle(), tooltip='builtin_function_or_method'), WidgetCell(description='S.isnumeric() -> bool\\n\\nReturn True if there are only numeric characters in S,\\nFalse otherwise.', layout=Layout(width='150px'), style=ButtonStyle(), tooltip='S.isnumeric() -> bool\\n\\nReturn True if there are only numeric characters in S,\\nFalse otherwise.'))), HBox(children=(Label(value='isprintable', layout=Layout(width='100px')), WidgetCell(description='isprintable', layout=Layout(width='150px'), style=ButtonStyle(), tooltip='isprintable'), WidgetCell(description='builtin_function_or_method', layout=Layout(width='150px'), style=ButtonStyle(), tooltip='builtin_function_or_method'), WidgetCell(description='S.isprintable() -> bool\\n\\nReturn True if all characters in S are considered\\nprintable in repr() or S is empty, False otherwise.', layout=Layout(width='150px'), style=ButtonStyle(), tooltip='S.isprintable() -> bool\\n\\nReturn True if all characters in S are considered\\nprintable in repr() or S is empty, False otherwise.'))), HBox(children=(Label(value='isspace', layout=Layout(width='100px')), WidgetCell(description='isspace', layout=Layout(width='150px'), style=ButtonStyle(), tooltip='isspace'), WidgetCell(description='builtin_function_or_method', layout=Layout(width='150px'), style=ButtonStyle(), tooltip='builtin_function_or_method'), WidgetCell(description='S.isspace() -> bool\\n\\nReturn True if all characters in S are whitespace\\nand there is at least one character in S, False otherwise.', layout=Layout(width='150px'), style=ButtonStyle(), tooltip='S.isspace() -> bool\\n\\nReturn True if all characters in S are whitespace\\nand there is at least one character in S, False otherwise.'))), HBox(children=(Label(value='istitle', layout=Layout(width='100px')), WidgetCell(description='istitle', layout=Layout(width='150px'), style=ButtonStyle(), tooltip='istitle'), WidgetCell(description='builtin_function_or_method', layout=Layout(width='150px'), style=ButtonStyle(), tooltip='builtin_function_or_method'), WidgetCell(description='S.istitle() -> bool\\n\\nReturn True if S is a titlecased string and there is at least one\\ncharacter in S, i.e. upper- and titlecase characters may only\\nfollow uncased characters and lowercase characters only cased ones.\\nReturn False otherwise.', layout=Layout(width='150px'), style=ButtonStyle(), tooltip='S.istitle() -> bool\\n\\nReturn True if S is a titlecased string and there is at least one\\ncharacter in S, i.e. upper- and titlecase characters may only\\nfollow uncased characters and lowercase characters only cased ones.\\nReturn False otherwise.'))), HBox(children=(Label(value='isupper', layout=Layout(width='100px')), WidgetCell(description='isupper', layout=Layout(width='150px'), style=ButtonStyle(), tooltip='isupper'), WidgetCell(description='builtin_function_or_method', layout=Layout(width='150px'), style=ButtonStyle(), tooltip='builtin_function_or_method'), WidgetCell(description='S.isupper() -> bool\\n\\nReturn True if all cased characters in S are uppercase and there is\\nat least one cased character in S, False otherwise.', layout=Layout(width='150px'), style=ButtonStyle(), tooltip='S.isupper() -> bool\\n\\nReturn True if all cased characters in S are uppercase and there is\\nat least one cased character in S, False otherwise.'))), HBox(children=(Label(value='join', layout=Layout(width='100px')), WidgetCell(description='join', layout=Layout(width='150px'), style=ButtonStyle(), tooltip='join'), WidgetCell(description='builtin_function_or_method', layout=Layout(width='150px'), style=ButtonStyle(), tooltip='builtin_function_or_method'), WidgetCell(description='S.join(iterable) -> str\\n\\nReturn a string which is the concatenation of the strings in the\\niterable.  The separator between elements is S.', layout=Layout(width='150px'), style=ButtonStyle(), tooltip='S.join(iterable) -> str\\n\\nReturn a string which is the concatenation of the strings in the\\niterable.  The separator between elements is S.'))), HBox(children=(Label(value='ljust', layout=Layout(width='100px')), WidgetCell(description='ljust', layout=Layout(width='150px'), style=ButtonStyle(), tooltip='ljust'), WidgetCell(description='builtin_function_or_method', layout=Layout(width='150px'), style=ButtonStyle(), tooltip='builtin_function_or_method'), WidgetCell(description='S.ljust(width[, fillchar]) -> str\\n\\nReturn S left-justified in a Unicode string of length width. Padding is\\ndone using the specified fill character (default is a space).', layout=Layout(width='150px'), style=ButtonStyle(), tooltip='S.ljust(width[, fillchar]) -> str\\n\\nReturn S left-justified in a Unicode string of length width. Padding is\\ndone using the specified fill character (default is a space).'))), HBox(children=(Label(value='lower', layout=Layout(width='100px')), WidgetCell(description='lower', layout=Layout(width='150px'), style=ButtonStyle(), tooltip='lower'), WidgetCell(description='builtin_function_or_method', layout=Layout(width='150px'), style=ButtonStyle(), tooltip='builtin_function_or_method'), WidgetCell(description='S.lower() -> str\\n\\nReturn a copy of the string S converted to lowercase.', layout=Layout(width='150px'), style=ButtonStyle(), tooltip='S.lower() -> str\\n\\nReturn a copy of the string S converted to lowercase.'))), HBox(children=(Label(value='lstrip', layout=Layout(width='100px')), WidgetCell(description='lstrip', layout=Layout(width='150px'), style=ButtonStyle(), tooltip='lstrip'), WidgetCell(description='builtin_function_or_method', layout=Layout(width='150px'), style=ButtonStyle(), tooltip='builtin_function_or_method'), WidgetCell(description='S.lstrip([chars]) -> str\\n\\nReturn a copy of the string S with leading whitespace removed.\\nIf chars is given and not None, remove characters in chars instead.', layout=Layout(width='150px'), style=ButtonStyle(), tooltip='S.lstrip([chars]) -> str\\n\\nReturn a copy of the string S with leading whitespace removed.\\nIf chars is given and not None, remove characters in chars instead.'))), HBox(children=(Label(value='maketrans', layout=Layout(width='100px')), WidgetCell(description='maketrans', layout=Layout(width='150px'), style=ButtonStyle(), tooltip='maketrans'), WidgetCell(description='builtin_function_or_method', layout=Layout(width='150px'), style=ButtonStyle(), tooltip='builtin_function_or_method'), WidgetCell(description='Return a translation table usable for str.translate().\\n\\nIf there is only one argument, it must be a dictionary mapping Unicode\\nordinals (integers) or characters to Unicode ordinals, strings or None.\\nCharacter keys will be then converted to ordinals.\\nIf there are two arguments, they must be strings of equal length, and\\nin the resulting dictionary, each character in x will be mapped to the\\ncharacter at the same position in y. If there is a third argument, it\\nmust be a string, whose characters will be mapped to None in the result.', layout=Layout(width='150px'), style=ButtonStyle(), tooltip='Return a translation table usable for str.translate().\\n\\nIf there is only one argument, it must be a dictionary mapping Unicode\\nordinals (integers) or characters to Unicode ordinals, strings or None.\\nCharacter keys will be then converted to ordinals.\\nIf there are two arguments, they must be strings of equal length, and\\nin the resulting dictionary, each character in x will be mapped to the\\ncharacter at the same position in y. If there is a third argument, it\\nmust be a string, whose characters will be mapped to None in the result.'))), HBox(children=(Label(value='partition', layout=Layout(width='100px')), WidgetCell(description='partition', layout=Layout(width='150px'), style=ButtonStyle(), tooltip='partition'), WidgetCell(description='builtin_function_or_method', layout=Layout(width='150px'), style=ButtonStyle(), tooltip='builtin_function_or_method'), WidgetCell(description='S.partition(sep) -> (head, sep, tail)\\n\\nSearch for the separator sep in S, and return the part before it,\\nthe separator itself, and the part after it.  If the separator is not\\nfound, return S and two empty strings.', layout=Layout(width='150px'), style=ButtonStyle(), tooltip='S.partition(sep) -> (head, sep, tail)\\n\\nSearch for the separator sep in S, and return the part before it,\\nthe separator itself, and the part after it.  If the separator is not\\nfound, return S and two empty strings.'))), HBox(children=(Label(value='replace', layout=Layout(width='100px')), WidgetCell(description='replace', layout=Layout(width='150px'), style=ButtonStyle(), tooltip='replace'), WidgetCell(description='builtin_function_or_method', layout=Layout(width='150px'), style=ButtonStyle(), tooltip='builtin_function_or_method'), WidgetCell(description='S.replace(old, new[, count]) -> str\\n\\nReturn a copy of S with all occurrences of substring\\nold replaced by new.  If the optional argument count is\\ngiven, only the first count occurrences are replaced.', layout=Layout(width='150px'), style=ButtonStyle(), tooltip='S.replace(old, new[, count]) -> str\\n\\nReturn a copy of S with all occurrences of substring\\nold replaced by new.  If the optional argument count is\\ngiven, only the first count occurrences are replaced.'))), HBox(children=(Label(value='rfind', layout=Layout(width='100px')), WidgetCell(description='rfind', layout=Layout(width='150px'), style=ButtonStyle(), tooltip='rfind'), WidgetCell(description='builtin_function_or_method', layout=Layout(width='150px'), style=ButtonStyle(), tooltip='builtin_function_or_method'), WidgetCell(description='S.rfind(sub[, start[, end]]) -> int\\n\\nReturn the highest index in S where substring sub is found,\\nsuch that sub is contained within S[start:end].  Optional\\narguments start and end are interpreted as in slice notation.\\n\\nReturn -1 on failure.', layout=Layout(width='150px'), style=ButtonStyle(), tooltip='S.rfind(sub[, start[, end]]) -> int\\n\\nReturn the highest index in S where substring sub is found,\\nsuch that sub is contained within S[start:end].  Optional\\narguments start and end are interpreted as in slice notation.\\n\\nReturn -1 on failure.'))), HBox(children=(Label(value='rindex', layout=Layout(width='100px')), WidgetCell(description='rindex', layout=Layout(width='150px'), style=ButtonStyle(), tooltip='rindex'), WidgetCell(description='builtin_function_or_method', layout=Layout(width='150px'), style=ButtonStyle(), tooltip='builtin_function_or_method'), WidgetCell(description='S.rindex(sub[, start[, end]]) -> int\\n\\nReturn the highest index in S where substring sub is found,\\nsuch that sub is contained within S[start:end].  Optional\\narguments start and end are interpreted as in slice notation.\\n\\nRaises ValueError when the substring is not found.', layout=Layout(width='150px'), style=ButtonStyle(), tooltip='S.rindex(sub[, start[, end]]) -> int\\n\\nReturn the highest index in S where substring sub is found,\\nsuch that sub is contained within S[start:end].  Optional\\narguments start and end are interpreted as in slice notation.\\n\\nRaises ValueError when the substring is not found.'))), HBox(children=(Label(value='rjust', layout=Layout(width='100px')), WidgetCell(description='rjust', layout=Layout(width='150px'), style=ButtonStyle(), tooltip='rjust'), WidgetCell(description='builtin_function_or_method', layout=Layout(width='150px'), style=ButtonStyle(), tooltip='builtin_function_or_method'), WidgetCell(description='S.rjust(width[, fillchar]) -> str\\n\\nReturn S right-justified in a string of length width. Padding is\\ndone using the specified fill character (default is a space).', layout=Layout(width='150px'), style=ButtonStyle(), tooltip='S.rjust(width[, fillchar]) -> str\\n\\nReturn S right-justified in a string of length width. Padding is\\ndone using the specified fill character (default is a space).'))), HBox(children=(Label(value='rpartition', layout=Layout(width='100px')), WidgetCell(description='rpartition', layout=Layout(width='150px'), style=ButtonStyle(), tooltip='rpartition'), WidgetCell(description='builtin_function_or_method', layout=Layout(width='150px'), style=ButtonStyle(), tooltip='builtin_function_or_method'), WidgetCell(description='S.rpartition(sep) -> (head, sep, tail)\\n\\nSearch for the separator sep in S, starting at the end of S, and return\\nthe part before it, the separator itself, and the part after it.  If the\\nseparator is not found, return two empty strings and S.', layout=Layout(width='150px'), style=ButtonStyle(), tooltip='S.rpartition(sep) -> (head, sep, tail)\\n\\nSearch for the separator sep in S, starting at the end of S, and return\\nthe part before it, the separator itself, and the part after it.  If the\\nseparator is not found, return two empty strings and S.'))), HBox(children=(Label(value='rsplit', layout=Layout(width='100px')), WidgetCell(description='rsplit', layout=Layout(width='150px'), style=ButtonStyle(), tooltip='rsplit'), WidgetCell(description='builtin_function_or_method', layout=Layout(width='150px'), style=ButtonStyle(), tooltip='builtin_function_or_method'), WidgetCell(description='S.rsplit(sep=None, maxsplit=-1) -> list of strings\\n\\nReturn a list of the words in S, using sep as the\\ndelimiter string, starting at the end of the string and\\nworking to the front.  If maxsplit is given, at most maxsplit\\nsplits are done. If sep is not specified, any whitespace string\\nis a separator.', layout=Layout(width='150px'), style=ButtonStyle(), tooltip='S.rsplit(sep=None, maxsplit=-1) -> list of strings\\n\\nReturn a list of the words in S, using sep as the\\ndelimiter string, starting at the end of the string and\\nworking to the front.  If maxsplit is given, at most maxsplit\\nsplits are done. If sep is not specified, any whitespace string\\nis a separator.'))), HBox(children=(Label(value='rstrip', layout=Layout(width='100px')), WidgetCell(description='rstrip', layout=Layout(width='150px'), style=ButtonStyle(), tooltip='rstrip'), WidgetCell(description='builtin_function_or_method', layout=Layout(width='150px'), style=ButtonStyle(), tooltip='builtin_function_or_method'), WidgetCell(description='S.rstrip([chars]) -> str\\n\\nReturn a copy of the string S with trailing whitespace removed.\\nIf chars is given and not None, remove characters in chars instead.', layout=Layout(width='150px'), style=ButtonStyle(), tooltip='S.rstrip([chars]) -> str\\n\\nReturn a copy of the string S with trailing whitespace removed.\\nIf chars is given and not None, remove characters in chars instead.'))), HBox(children=(Label(value='split', layout=Layout(width='100px')), WidgetCell(description='split', layout=Layout(width='150px'), style=ButtonStyle(), tooltip='split'), WidgetCell(description='builtin_function_or_method', layout=Layout(width='150px'), style=ButtonStyle(), tooltip='builtin_function_or_method'), WidgetCell(description='S.split(sep=None, maxsplit=-1) -> list of strings\\n\\nReturn a list of the words in S, using sep as the\\ndelimiter string.  If maxsplit is given, at most maxsplit\\nsplits are done. If sep is not specified or is None, any\\nwhitespace string is a separator and empty strings are\\nremoved from the result.', layout=Layout(width='150px'), style=ButtonStyle(), tooltip='S.split(sep=None, maxsplit=-1) -> list of strings\\n\\nReturn a list of the words in S, using sep as the\\ndelimiter string.  If maxsplit is given, at most maxsplit\\nsplits are done. If sep is not specified or is None, any\\nwhitespace string is a separator and empty strings are\\nremoved from the result.'))), HBox(children=(Label(value='splitlines', layout=Layout(width='100px')), WidgetCell(description='splitlines', layout=Layout(width='150px'), style=ButtonStyle(), tooltip='splitlines'), WidgetCell(description='builtin_function_or_method', layout=Layout(width='150px'), style=ButtonStyle(), tooltip='builtin_function_or_method'), WidgetCell(description='S.splitlines([keepends]) -> list of strings\\n\\nReturn a list of the lines in S, breaking at line boundaries.\\nLine breaks are not included in the resulting list unless keepends\\nis given and true.', layout=Layout(width='150px'), style=ButtonStyle(), tooltip='S.splitlines([keepends]) -> list of strings\\n\\nReturn a list of the lines in S, breaking at line boundaries.\\nLine breaks are not included in the resulting list unless keepends\\nis given and true.'))), HBox(children=(Label(value='startswith', layout=Layout(width='100px')), WidgetCell(description='startswith', layout=Layout(width='150px'), style=ButtonStyle(), tooltip='startswith'), WidgetCell(description='builtin_function_or_method', layout=Layout(width='150px'), style=ButtonStyle(), tooltip='builtin_function_or_method'), WidgetCell(description='S.startswith(prefix[, start[, end]]) -> bool\\n\\nReturn True if S starts with the specified prefix, False otherwise.\\nWith optional start, test S beginning at that position.\\nWith optional end, stop comparing S at that position.\\nprefix can also be a tuple of strings to try.', layout=Layout(width='150px'), style=ButtonStyle(), tooltip='S.startswith(prefix[, start[, end]]) -> bool\\n\\nReturn True if S starts with the specified prefix, False otherwise.\\nWith optional start, test S beginning at that position.\\nWith optional end, stop comparing S at that position.\\nprefix can also be a tuple of strings to try.'))), HBox(children=(Label(value='strip', layout=Layout(width='100px')), WidgetCell(description='strip', layout=Layout(width='150px'), style=ButtonStyle(), tooltip='strip'), WidgetCell(description='builtin_function_or_method', layout=Layout(width='150px'), style=ButtonStyle(), tooltip='builtin_function_or_method'), WidgetCell(description='S.strip([chars]) -> str\\n\\nReturn a copy of the string S with leading and trailing\\nwhitespace removed.\\nIf chars is given and not None, remove characters in chars instead.', layout=Layout(width='150px'), style=ButtonStyle(), tooltip='S.strip([chars]) -> str\\n\\nReturn a copy of the string S with leading and trailing\\nwhitespace removed.\\nIf chars is given and not None, remove characters in chars instead.'))), HBox(children=(Label(value='swapcase', layout=Layout(width='100px')), WidgetCell(description='swapcase', layout=Layout(width='150px'), style=ButtonStyle(), tooltip='swapcase'), WidgetCell(description='builtin_function_or_method', layout=Layout(width='150px'), style=ButtonStyle(), tooltip='builtin_function_or_method'), WidgetCell(description='S.swapcase() -> str\\n\\nReturn a copy of S with uppercase characters converted to lowercase\\nand vice versa.', layout=Layout(width='150px'), style=ButtonStyle(), tooltip='S.swapcase() -> str\\n\\nReturn a copy of S with uppercase characters converted to lowercase\\nand vice versa.'))), HBox(children=(Label(value='title', layout=Layout(width='100px')), WidgetCell(description='title', layout=Layout(width='150px'), style=ButtonStyle(), tooltip='title'), WidgetCell(description='builtin_function_or_method', layout=Layout(width='150px'), style=ButtonStyle(), tooltip='builtin_function_or_method'), WidgetCell(description='S.title() -> str\\n\\nReturn a titlecased version of S, i.e. words start with title case\\ncharacters, all remaining cased characters have lower case.', layout=Layout(width='150px'), style=ButtonStyle(), tooltip='S.title() -> str\\n\\nReturn a titlecased version of S, i.e. words start with title case\\ncharacters, all remaining cased characters have lower case.'))), HBox(children=(Label(value='translate', layout=Layout(width='100px')), WidgetCell(description='translate', layout=Layout(width='150px'), style=ButtonStyle(), tooltip='translate'), WidgetCell(description='builtin_function_or_method', layout=Layout(width='150px'), style=ButtonStyle(), tooltip='builtin_function_or_method'), WidgetCell(description='S.translate(table) -> str\\n\\nReturn a copy of the string S in which each character has been mapped\\nthrough the given translation table. The table must implement\\nlookup/indexing via __getitem__, for instance a dictionary or list,\\nmapping Unicode ordinals to Unicode ordinals, strings, or None. If\\nthis operation raises LookupError, the character is left untouched.\\nCharacters mapped to None are deleted.', layout=Layout(width='150px'), style=ButtonStyle(), tooltip='S.translate(table) -> str\\n\\nReturn a copy of the string S in which each character has been mapped\\nthrough the given translation table. The table must implement\\nlookup/indexing via __getitem__, for instance a dictionary or list,\\nmapping Unicode ordinals to Unicode ordinals, strings, or None. If\\nthis operation raises LookupError, the character is left untouched.\\nCharacters mapped to None are deleted.'))), HBox(children=(Label(value='upper', layout=Layout(width='100px')), WidgetCell(description='upper', layout=Layout(width='150px'), style=ButtonStyle(), tooltip='upper'), WidgetCell(description='builtin_function_or_method', layout=Layout(width='150px'), style=ButtonStyle(), tooltip='builtin_function_or_method'), WidgetCell(description='S.upper() -> str\\n\\nReturn a copy of S converted to uppercase.', layout=Layout(width='150px'), style=ButtonStyle(), tooltip='S.upper() -> str\\n\\nReturn a copy of S converted to uppercase.'))), HBox(children=(Label(value='zfill', layout=Layout(width='100px')), WidgetCell(description='zfill', layout=Layout(width='150px'), style=ButtonStyle(), tooltip='zfill'), WidgetCell(description='builtin_function_or_method', layout=Layout(width='150px'), style=ButtonStyle(), tooltip='builtin_function_or_method'), WidgetCell(description='S.zfill(width) -> str\\n\\nPad a numeric string S with zeros on the left, to fill a field\\nof the specified width. The string S is never truncated.', layout=Layout(width='150px'), style=ButtonStyle(), tooltip='S.zfill(width) -> str\\n\\nPad a numeric string S with zeros on the left, to fill a field\\nof the specified width. The string S is never truncated.')))))"
      ]
     },
     "metadata": {},
     "output_type": "display_data"
    },
    {
     "data": {
      "application/vnd.jupyter.widget-view+json": {
       "model_id": "07211408e159485fbf2f715550f22a93",
       "version_major": 2,
       "version_minor": 0
      },
      "text/html": [
       "<p>Failed to display Jupyter Widget of type <code>HBox</code>.</p>\n",
       "<p>\n",
       "  If you're reading this message in the Jupyter Notebook or JupyterLab Notebook, it may mean\n",
       "  that the widgets JavaScript is still loading. If this message persists, it\n",
       "  likely means that the widgets JavaScript library is either not installed or\n",
       "  not enabled. See the <a href=\"https://ipywidgets.readthedocs.io/en/stable/user_install.html\">Jupyter\n",
       "  Widgets Documentation</a> for setup instructions.\n",
       "</p>\n",
       "<p>\n",
       "  If you're reading this message in another frontend (for example, a static\n",
       "  rendering on GitHub or <a href=\"https://nbviewer.jupyter.org/\">NBViewer</a>),\n",
       "  it may mean that your frontend doesn't currently support widgets.\n",
       "</p>\n"
      ],
      "text/plain": [
       "HBox(children=(ClearButton(description='clear', icon='close', style=ButtonStyle()), UpdateButton(description='update', icon='refresh', style=ButtonStyle())))"
      ]
     },
     "metadata": {},
     "output_type": "display_data"
    },
    {
     "data": {
      "application/vnd.jupyter.widget-view+json": {
       "model_id": "122da4b8da43472dab3b7d1b5908d36e",
       "version_major": 2,
       "version_minor": 0
      },
      "text/html": [
       "<p>Failed to display Jupyter Widget of type <code>Output</code>.</p>\n",
       "<p>\n",
       "  If you're reading this message in the Jupyter Notebook or JupyterLab Notebook, it may mean\n",
       "  that the widgets JavaScript is still loading. If this message persists, it\n",
       "  likely means that the widgets JavaScript library is either not installed or\n",
       "  not enabled. See the <a href=\"https://ipywidgets.readthedocs.io/en/stable/user_install.html\">Jupyter\n",
       "  Widgets Documentation</a> for setup instructions.\n",
       "</p>\n",
       "<p>\n",
       "  If you're reading this message in another frontend (for example, a static\n",
       "  rendering on GitHub or <a href=\"https://nbviewer.jupyter.org/\">NBViewer</a>),\n",
       "  it may mean that your frontend doesn't currently support widgets.\n",
       "</p>\n"
      ],
      "text/plain": [
       "Output()"
      ]
     },
     "metadata": {},
     "output_type": "display_data"
    }
   ],
   "source": [
    "we.subenv('b') # roughly equivilant to EnvHandler('eg.b')"
   ]
  },
  {
   "cell_type": "markdown",
   "metadata": {},
   "source": [
    "#### **3 Example 2** - Use the update method to create an EnvHandler from ``eg.a.imag``."
   ]
  },
  {
   "cell_type": "code",
   "execution_count": 8,
   "metadata": {},
   "outputs": [
    {
     "data": {
      "application/vnd.jupyter.widget-view+json": {
       "model_id": "5211945b470446eca743c3c6e19d70a1",
       "version_major": 2,
       "version_minor": 0
      },
      "text/html": [
       "<p>Failed to display Jupyter Widget of type <code>WidgetEnv</code>.</p>\n",
       "<p>\n",
       "  If you're reading this message in the Jupyter Notebook or JupyterLab Notebook, it may mean\n",
       "  that the widgets JavaScript is still loading. If this message persists, it\n",
       "  likely means that the widgets JavaScript library is either not installed or\n",
       "  not enabled. See the <a href=\"https://ipywidgets.readthedocs.io/en/stable/user_install.html\">Jupyter\n",
       "  Widgets Documentation</a> for setup instructions.\n",
       "</p>\n",
       "<p>\n",
       "  If you're reading this message in another frontend (for example, a static\n",
       "  rendering on GitHub or <a href=\"https://nbviewer.jupyter.org/\">NBViewer</a>),\n",
       "  it may mean that your frontend doesn't currently support widgets.\n",
       "</p>\n"
      ],
      "text/plain": [
       "WidgetEnv(children=(HBox(children=(Label(value='Variable', layout=Layout(width='150px')), Label(value='Value', layout=Layout(width='150px')), Label(value='Type', layout=Layout(width='150px')), Label(value='Documentation', layout=Layout(width='150px')))), HBox(children=(Label(value='bit_length', layout=Layout(width='100px')), WidgetCell(description='bit_length', layout=Layout(width='150px'), style=ButtonStyle(), tooltip='bit_length'), WidgetCell(description='builtin_function_or_method', layout=Layout(width='150px'), style=ButtonStyle(), tooltip='builtin_function_or_method'), WidgetCell(description=\"int.bit_length() -> int\\n\\nNumber of bits necessary to represent self in binary.\\n>>> bin(37)\\n'0b100101'\\n>>> (37).bit_length()\\n6\", layout=Layout(width='150px'), style=ButtonStyle(), tooltip=\"int.bit_length() -> int\\n\\nNumber of bits necessary to represent self in binary.\\n>>> bin(37)\\n'0b100101'\\n>>> (37).bit_length()\\n6\"))), HBox(children=(Label(value='conjugate', layout=Layout(width='100px')), WidgetCell(description='conjugate', layout=Layout(width='150px'), style=ButtonStyle(), tooltip='conjugate'), WidgetCell(description='builtin_function_or_method', layout=Layout(width='150px'), style=ButtonStyle(), tooltip='builtin_function_or_method'), WidgetCell(description='Returns self, the complex conjugate of any int.', layout=Layout(width='150px'), style=ButtonStyle(), tooltip='Returns self, the complex conjugate of any int.'))), HBox(children=(Label(value='denominator', layout=Layout(width='100px')), WidgetCell(description='1', layout=Layout(width='150px'), style=ButtonStyle(), tooltip='1'), WidgetCell(description='int', layout=Layout(width='150px'), style=ButtonStyle(), tooltip='int'), WidgetCell(description=\"int(x=0) -> integer\\nint(x, base=10) -> integer\\n\\nConvert a number or string to an integer, or return 0 if no arguments\\nare given.  If x is a number, return x.__int__().  For floating point\\nnumbers, this truncates towards zero.\\n\\nIf x is not a number or if base is given, then x must be a string,\\nbytes, or bytearray instance representing an integer literal in the\\ngiven base.  The literal can be preceded by '+' or '-' and be surrounded\\nby whitespace.  The base defaults to 10.  Valid bases are 0 and 2-36.\\nBase 0 means to interpret the base from the string as an integer literal.\\n>>> int('0b100', base=0)\\n4\", layout=Layout(width='150px'), style=ButtonStyle(), tooltip=\"int(x=0) -> integer\\nint(x, base=10) -> integer\\n\\nConvert a number or string to an integer, or return 0 if no arguments\\nare given.  If x is a number, return x.__int__().  For floating point\\nnumbers, this truncates towards zero.\\n\\nIf x is not a number or if base is given, then x must be a string,\\nbytes, or bytearray instance representing an integer literal in the\\ngiven base.  The literal can be preceded by '+' or '-' and be surrounded\\nby whitespace.  The base defaults to 10.  Valid bases are 0 and 2-36.\\nBase 0 means to interpret the base from the string as an integer literal.\\n>>> int('0b100', base=0)\\n4\"))), HBox(children=(Label(value='from_bytes', layout=Layout(width='100px')), WidgetCell(description='from_bytes', layout=Layout(width='150px'), style=ButtonStyle(), tooltip='from_bytes'), WidgetCell(description='builtin_function_or_method', layout=Layout(width='150px'), style=ButtonStyle(), tooltip='builtin_function_or_method'), WidgetCell(description=\"int.from_bytes(bytes, byteorder, *, signed=False) -> int\\n\\nReturn the integer represented by the given array of bytes.\\n\\nThe bytes argument must be a bytes-like object (e.g. bytes or bytearray).\\n\\nThe byteorder argument determines the byte order used to represent the\\ninteger.  If byteorder is 'big', the most significant byte is at the\\nbeginning of the byte array.  If byteorder is 'little', the most\\nsignificant byte is at the end of the byte array.  To request the native\\nbyte order of the host system, use `sys.byteorder' as the byte order value.\\n\\nThe signed keyword-only argument indicates whether two's complement is\\nused to represent the integer.\", layout=Layout(width='150px'), style=ButtonStyle(), tooltip=\"int.from_bytes(bytes, byteorder, *, signed=False) -> int\\n\\nReturn the integer represented by the given array of bytes.\\n\\nThe bytes argument must be a bytes-like object (e.g. bytes or bytearray).\\n\\nThe byteorder argument determines the byte order used to represent the\\ninteger.  If byteorder is 'big', the most significant byte is at the\\nbeginning of the byte array.  If byteorder is 'little', the most\\nsignificant byte is at the end of the byte array.  To request the native\\nbyte order of the host system, use `sys.byteorder' as the byte order value.\\n\\nThe signed keyword-only argument indicates whether two's complement is\\nused to represent the integer.\"))), HBox(children=(Label(value='imag', layout=Layout(width='100px')), WidgetCell(description='0', layout=Layout(width='150px'), style=ButtonStyle(), tooltip='0'), WidgetCell(description='int', layout=Layout(width='150px'), style=ButtonStyle(), tooltip='int'), WidgetCell(description=\"int(x=0) -> integer\\nint(x, base=10) -> integer\\n\\nConvert a number or string to an integer, or return 0 if no arguments\\nare given.  If x is a number, return x.__int__().  For floating point\\nnumbers, this truncates towards zero.\\n\\nIf x is not a number or if base is given, then x must be a string,\\nbytes, or bytearray instance representing an integer literal in the\\ngiven base.  The literal can be preceded by '+' or '-' and be surrounded\\nby whitespace.  The base defaults to 10.  Valid bases are 0 and 2-36.\\nBase 0 means to interpret the base from the string as an integer literal.\\n>>> int('0b100', base=0)\\n4\", layout=Layout(width='150px'), style=ButtonStyle(), tooltip=\"int(x=0) -> integer\\nint(x, base=10) -> integer\\n\\nConvert a number or string to an integer, or return 0 if no arguments\\nare given.  If x is a number, return x.__int__().  For floating point\\nnumbers, this truncates towards zero.\\n\\nIf x is not a number or if base is given, then x must be a string,\\nbytes, or bytearray instance representing an integer literal in the\\ngiven base.  The literal can be preceded by '+' or '-' and be surrounded\\nby whitespace.  The base defaults to 10.  Valid bases are 0 and 2-36.\\nBase 0 means to interpret the base from the string as an integer literal.\\n>>> int('0b100', base=0)\\n4\"))), HBox(children=(Label(value='numerator', layout=Layout(width='100px')), WidgetCell(description='0', layout=Layout(width='150px'), style=ButtonStyle(), tooltip='0'), WidgetCell(description='int', layout=Layout(width='150px'), style=ButtonStyle(), tooltip='int'), WidgetCell(description=\"int(x=0) -> integer\\nint(x, base=10) -> integer\\n\\nConvert a number or string to an integer, or return 0 if no arguments\\nare given.  If x is a number, return x.__int__().  For floating point\\nnumbers, this truncates towards zero.\\n\\nIf x is not a number or if base is given, then x must be a string,\\nbytes, or bytearray instance representing an integer literal in the\\ngiven base.  The literal can be preceded by '+' or '-' and be surrounded\\nby whitespace.  The base defaults to 10.  Valid bases are 0 and 2-36.\\nBase 0 means to interpret the base from the string as an integer literal.\\n>>> int('0b100', base=0)\\n4\", layout=Layout(width='150px'), style=ButtonStyle(), tooltip=\"int(x=0) -> integer\\nint(x, base=10) -> integer\\n\\nConvert a number or string to an integer, or return 0 if no arguments\\nare given.  If x is a number, return x.__int__().  For floating point\\nnumbers, this truncates towards zero.\\n\\nIf x is not a number or if base is given, then x must be a string,\\nbytes, or bytearray instance representing an integer literal in the\\ngiven base.  The literal can be preceded by '+' or '-' and be surrounded\\nby whitespace.  The base defaults to 10.  Valid bases are 0 and 2-36.\\nBase 0 means to interpret the base from the string as an integer literal.\\n>>> int('0b100', base=0)\\n4\"))), HBox(children=(Label(value='real', layout=Layout(width='100px')), WidgetCell(description='0', layout=Layout(width='150px'), style=ButtonStyle(), tooltip='0'), WidgetCell(description='int', layout=Layout(width='150px'), style=ButtonStyle(), tooltip='int'), WidgetCell(description=\"int(x=0) -> integer\\nint(x, base=10) -> integer\\n\\nConvert a number or string to an integer, or return 0 if no arguments\\nare given.  If x is a number, return x.__int__().  For floating point\\nnumbers, this truncates towards zero.\\n\\nIf x is not a number or if base is given, then x must be a string,\\nbytes, or bytearray instance representing an integer literal in the\\ngiven base.  The literal can be preceded by '+' or '-' and be surrounded\\nby whitespace.  The base defaults to 10.  Valid bases are 0 and 2-36.\\nBase 0 means to interpret the base from the string as an integer literal.\\n>>> int('0b100', base=0)\\n4\", layout=Layout(width='150px'), style=ButtonStyle(), tooltip=\"int(x=0) -> integer\\nint(x, base=10) -> integer\\n\\nConvert a number or string to an integer, or return 0 if no arguments\\nare given.  If x is a number, return x.__int__().  For floating point\\nnumbers, this truncates towards zero.\\n\\nIf x is not a number or if base is given, then x must be a string,\\nbytes, or bytearray instance representing an integer literal in the\\ngiven base.  The literal can be preceded by '+' or '-' and be surrounded\\nby whitespace.  The base defaults to 10.  Valid bases are 0 and 2-36.\\nBase 0 means to interpret the base from the string as an integer literal.\\n>>> int('0b100', base=0)\\n4\"))), HBox(children=(Label(value='to_bytes', layout=Layout(width='100px')), WidgetCell(description='to_bytes', layout=Layout(width='150px'), style=ButtonStyle(), tooltip='to_bytes'), WidgetCell(description='builtin_function_or_method', layout=Layout(width='150px'), style=ButtonStyle(), tooltip='builtin_function_or_method'), WidgetCell(description=\"int.to_bytes(length, byteorder, *, signed=False) -> bytes\\n\\nReturn an array of bytes representing an integer.\\n\\nThe integer is represented using length bytes.  An OverflowError is\\nraised if the integer is not representable with the given number of\\nbytes.\\n\\nThe byteorder argument determines the byte order used to represent the\\ninteger.  If byteorder is 'big', the most significant byte is at the\\nbeginning of the byte array.  If byteorder is 'little', the most\\nsignificant byte is at the end of the byte array.  To request the native\\nbyte order of the host system, use `sys.byteorder' as the byte order value.\\n\\nThe signed keyword-only argument determines whether two's complement is\\nused to represent the integer.  If signed is False and a negative integer\\nis given, an OverflowError is raised.\", layout=Layout(width='150px'), style=ButtonStyle(), tooltip=\"int.to_bytes(length, byteorder, *, signed=False) -> bytes\\n\\nReturn an array of bytes representing an integer.\\n\\nThe integer is represented using length bytes.  An OverflowError is\\nraised if the integer is not representable with the given number of\\nbytes.\\n\\nThe byteorder argument determines the byte order used to represent the\\ninteger.  If byteorder is 'big', the most significant byte is at the\\nbeginning of the byte array.  If byteorder is 'little', the most\\nsignificant byte is at the end of the byte array.  To request the native\\nbyte order of the host system, use `sys.byteorder' as the byte order value.\\n\\nThe signed keyword-only argument determines whether two's complement is\\nused to represent the integer.  If signed is False and a negative integer\\nis given, an OverflowError is raised.\")))))"
      ]
     },
     "metadata": {},
     "output_type": "display_data"
    },
    {
     "data": {
      "application/vnd.jupyter.widget-view+json": {
       "model_id": "790bf80423074ec785af457c9d1aa611",
       "version_major": 2,
       "version_minor": 0
      },
      "text/html": [
       "<p>Failed to display Jupyter Widget of type <code>HBox</code>.</p>\n",
       "<p>\n",
       "  If you're reading this message in the Jupyter Notebook or JupyterLab Notebook, it may mean\n",
       "  that the widgets JavaScript is still loading. If this message persists, it\n",
       "  likely means that the widgets JavaScript library is either not installed or\n",
       "  not enabled. See the <a href=\"https://ipywidgets.readthedocs.io/en/stable/user_install.html\">Jupyter\n",
       "  Widgets Documentation</a> for setup instructions.\n",
       "</p>\n",
       "<p>\n",
       "  If you're reading this message in another frontend (for example, a static\n",
       "  rendering on GitHub or <a href=\"https://nbviewer.jupyter.org/\">NBViewer</a>),\n",
       "  it may mean that your frontend doesn't currently support widgets.\n",
       "</p>\n"
      ],
      "text/plain": [
       "HBox(children=(ClearButton(description='clear', icon='close', style=ButtonStyle()), UpdateButton(description='update', icon='refresh', style=ButtonStyle())))"
      ]
     },
     "metadata": {},
     "output_type": "display_data"
    },
    {
     "data": {
      "application/vnd.jupyter.widget-view+json": {
       "model_id": "53bd6f0e673b4cffb3c843af0637b06c",
       "version_major": 2,
       "version_minor": 0
      },
      "text/html": [
       "<p>Failed to display Jupyter Widget of type <code>Output</code>.</p>\n",
       "<p>\n",
       "  If you're reading this message in the Jupyter Notebook or JupyterLab Notebook, it may mean\n",
       "  that the widgets JavaScript is still loading. If this message persists, it\n",
       "  likely means that the widgets JavaScript library is either not installed or\n",
       "  not enabled. See the <a href=\"https://ipywidgets.readthedocs.io/en/stable/user_install.html\">Jupyter\n",
       "  Widgets Documentation</a> for setup instructions.\n",
       "</p>\n",
       "<p>\n",
       "  If you're reading this message in another frontend (for example, a static\n",
       "  rendering on GitHub or <a href=\"https://nbviewer.jupyter.org/\">NBViewer</a>),\n",
       "  it may mean that your frontend doesn't currently support widgets.\n",
       "</p>\n"
      ],
      "text/plain": [
       "Output()"
      ]
     },
     "metadata": {},
     "output_type": "display_data"
    }
   ],
   "source": [
    "we.subenv(['a', 'imag']) # roughly equivilant to EnvHandler('eg.b.imag') or we.subenv('a').subenv('imag')"
   ]
  },
  {
   "cell_type": "markdown",
   "metadata": {},
   "source": [
    "<p id=\"4\"></p>\n",
    "\n",
    "#### **4** - Using the WidgetEnv's Interface\n",
    "The default WidgetEnv interface has 3 types of button:\n",
    "<ul>\n",
    "    <li>\n",
    "        <b>Cell Buttons</b><br>\n",
    "        Clicking on these buttons displays their value in the output.\n",
    "    </li>\n",
    "    <li>\n",
    "        <b>Clear Button</b><br>\n",
    "        Clicking on this button clears the output.\n",
    "    </li>\n",
    "    <li>\n",
    "        <b>Update Button</b><br>\n",
    "        Clicking on this button updates the WidgetEnv by calling its <code>update</code> method (See <i><a href=\"#2\">Section 2</a></i>).\n",
    "    </li>\n",
    "</ul>\n",
    "Try it out below."
   ]
  },
  {
   "cell_type": "code",
   "execution_count": 9,
   "metadata": {},
   "outputs": [
    {
     "data": {
      "application/vnd.jupyter.widget-view+json": {
       "model_id": "f2f27fbd388f45de9643de75899960fd",
       "version_major": 2,
       "version_minor": 0
      },
      "text/html": [
       "<p>Failed to display Jupyter Widget of type <code>WidgetEnv</code>.</p>\n",
       "<p>\n",
       "  If you're reading this message in the Jupyter Notebook or JupyterLab Notebook, it may mean\n",
       "  that the widgets JavaScript is still loading. If this message persists, it\n",
       "  likely means that the widgets JavaScript library is either not installed or\n",
       "  not enabled. See the <a href=\"https://ipywidgets.readthedocs.io/en/stable/user_install.html\">Jupyter\n",
       "  Widgets Documentation</a> for setup instructions.\n",
       "</p>\n",
       "<p>\n",
       "  If you're reading this message in another frontend (for example, a static\n",
       "  rendering on GitHub or <a href=\"https://nbviewer.jupyter.org/\">NBViewer</a>),\n",
       "  it may mean that your frontend doesn't currently support widgets.\n",
       "</p>\n"
      ],
      "text/plain": [
       "WidgetEnv(children=(HBox(children=(Label(value='Variable', layout=Layout(width='150px')), Label(value='Value', layout=Layout(width='150px')), Label(value='Type', layout=Layout(width='150px')), Label(value='Documentation', layout=Layout(width='150px')))), HBox(children=(Label(value='a', layout=Layout(width='100px')), WidgetCell(description='1', layout=Layout(width='150px'), style=ButtonStyle(), tooltip='1'), WidgetCell(description='int', layout=Layout(width='150px'), style=ButtonStyle(), tooltip='int'), WidgetCell(description=\"int(x=0) -> integer\\nint(x, base=10) -> integer\\n\\nConvert a number or string to an integer, or return 0 if no arguments\\nare given.  If x is a number, return x.__int__().  For floating point\\nnumbers, this truncates towards zero.\\n\\nIf x is not a number or if base is given, then x must be a string,\\nbytes, or bytearray instance representing an integer literal in the\\ngiven base.  The literal can be preceded by '+' or '-' and be surrounded\\nby whitespace.  The base defaults to 10.  Valid bases are 0 and 2-36.\\nBase 0 means to interpret the base from the string as an integer literal.\\n>>> int('0b100', base=0)\\n4\", layout=Layout(width='150px'), style=ButtonStyle(), tooltip=\"int(x=0) -> integer\\nint(x, base=10) -> integer\\n\\nConvert a number or string to an integer, or return 0 if no arguments\\nare given.  If x is a number, return x.__int__().  For floating point\\nnumbers, this truncates towards zero.\\n\\nIf x is not a number or if base is given, then x must be a string,\\nbytes, or bytearray instance representing an integer literal in the\\ngiven base.  The literal can be preceded by '+' or '-' and be surrounded\\nby whitespace.  The base defaults to 10.  Valid bases are 0 and 2-36.\\nBase 0 means to interpret the base from the string as an integer literal.\\n>>> int('0b100', base=0)\\n4\"))), HBox(children=(Label(value='b', layout=Layout(width='100px')), WidgetCell(description='Hello World', layout=Layout(width='150px'), style=ButtonStyle(), tooltip='Hello World'), WidgetCell(description='str', layout=Layout(width='150px'), style=ButtonStyle(), tooltip='str'), WidgetCell(description=\"str(object='') -> str\\nstr(bytes_or_buffer[, encoding[, errors]]) -> str\\n\\nCreate a new string object from the given object. If encoding or\\nerrors is specified, then the object must expose a data buffer\\nthat will be decoded using the given encoding and error handler.\\nOtherwise, returns the result of object.__str__() (if defined)\\nor repr(object).\\nencoding defaults to sys.getdefaultencoding().\\nerrors defaults to 'strict'.\", layout=Layout(width='150px'), style=ButtonStyle(), tooltip=\"str(object='') -> str\\nstr(bytes_or_buffer[, encoding[, errors]]) -> str\\n\\nCreate a new string object from the given object. If encoding or\\nerrors is specified, then the object must expose a data buffer\\nthat will be decoded using the given encoding and error handler.\\nOtherwise, returns the result of object.__str__() (if defined)\\nor repr(object).\\nencoding defaults to sys.getdefaultencoding().\\nerrors defaults to 'strict'.\"))), HBox(children=(Label(value='c', layout=Layout(width='100px')), WidgetCell(description='False', layout=Layout(width='150px'), style=ButtonStyle(), tooltip='False'), WidgetCell(description='bool', layout=Layout(width='150px'), style=ButtonStyle(), tooltip='bool'), WidgetCell(description='bool(x) -> bool\\n\\nReturns True when the argument x is true, False otherwise.\\nThe builtins True and False are the only two instances of the class bool.\\nThe class bool is a subclass of the class int, and cannot be subclassed.', layout=Layout(width='150px'), style=ButtonStyle(), tooltip='bool(x) -> bool\\n\\nReturns True when the argument x is true, False otherwise.\\nThe builtins True and False are the only two instances of the class bool.\\nThe class bool is a subclass of the class int, and cannot be subclassed.'))), HBox(children=(Label(value='d', layout=Layout(width='100px')), WidgetCell(description='[1, 2, 3]', layout=Layout(width='150px'), style=ButtonStyle(), tooltip='[1, 2, 3]'), WidgetCell(description='list', layout=Layout(width='150px'), style=ButtonStyle(), tooltip='list'), WidgetCell(description=\"list() -> new empty list\\nlist(iterable) -> new list initialized from iterable's items\", layout=Layout(width='150px'), style=ButtonStyle(), tooltip=\"list() -> new empty list\\nlist(iterable) -> new list initialized from iterable's items\"))), HBox(children=(Label(value='e', layout=Layout(width='100px')), WidgetCell(description='e', layout=Layout(width='150px'), style=ButtonStyle(), tooltip='e'), WidgetCell(description='method', layout=Layout(width='150px'), style=ButtonStyle(), tooltip='method'), WidgetCell(description='example function doc string', layout=Layout(width='150px'), style=ButtonStyle(), tooltip='example function doc string'))), HBox(children=(Label(value='f', layout=Layout(width='100px')), WidgetCell(description='New Attribute', layout=Layout(width='150px'), style=ButtonStyle(), tooltip='New Attribute'), WidgetCell(description='str', layout=Layout(width='150px'), style=ButtonStyle(), tooltip='str'), WidgetCell(description=\"str(object='') -> str\\nstr(bytes_or_buffer[, encoding[, errors]]) -> str\\n\\nCreate a new string object from the given object. If encoding or\\nerrors is specified, then the object must expose a data buffer\\nthat will be decoded using the given encoding and error handler.\\nOtherwise, returns the result of object.__str__() (if defined)\\nor repr(object).\\nencoding defaults to sys.getdefaultencoding().\\nerrors defaults to 'strict'.\", layout=Layout(width='150px'), style=ButtonStyle(), tooltip=\"str(object='') -> str\\nstr(bytes_or_buffer[, encoding[, errors]]) -> str\\n\\nCreate a new string object from the given object. If encoding or\\nerrors is specified, then the object must expose a data buffer\\nthat will be decoded using the given encoding and error handler.\\nOtherwise, returns the result of object.__str__() (if defined)\\nor repr(object).\\nencoding defaults to sys.getdefaultencoding().\\nerrors defaults to 'strict'.\")))))"
      ]
     },
     "metadata": {},
     "output_type": "display_data"
    },
    {
     "data": {
      "application/vnd.jupyter.widget-view+json": {
       "model_id": "dbba5d2e7be94c00916181da32cf1a99",
       "version_major": 2,
       "version_minor": 0
      },
      "text/html": [
       "<p>Failed to display Jupyter Widget of type <code>HBox</code>.</p>\n",
       "<p>\n",
       "  If you're reading this message in the Jupyter Notebook or JupyterLab Notebook, it may mean\n",
       "  that the widgets JavaScript is still loading. If this message persists, it\n",
       "  likely means that the widgets JavaScript library is either not installed or\n",
       "  not enabled. See the <a href=\"https://ipywidgets.readthedocs.io/en/stable/user_install.html\">Jupyter\n",
       "  Widgets Documentation</a> for setup instructions.\n",
       "</p>\n",
       "<p>\n",
       "  If you're reading this message in another frontend (for example, a static\n",
       "  rendering on GitHub or <a href=\"https://nbviewer.jupyter.org/\">NBViewer</a>),\n",
       "  it may mean that your frontend doesn't currently support widgets.\n",
       "</p>\n"
      ],
      "text/plain": [
       "HBox(children=(ClearButton(description='clear', icon='close', style=ButtonStyle()), UpdateButton(description='update', icon='refresh', style=ButtonStyle())))"
      ]
     },
     "metadata": {},
     "output_type": "display_data"
    },
    {
     "data": {
      "application/vnd.jupyter.widget-view+json": {
       "model_id": "998a486c930a4f779688555ef094f405",
       "version_major": 2,
       "version_minor": 0
      },
      "text/html": [
       "<p>Failed to display Jupyter Widget of type <code>Output</code>.</p>\n",
       "<p>\n",
       "  If you're reading this message in the Jupyter Notebook or JupyterLab Notebook, it may mean\n",
       "  that the widgets JavaScript is still loading. If this message persists, it\n",
       "  likely means that the widgets JavaScript library is either not installed or\n",
       "  not enabled. See the <a href=\"https://ipywidgets.readthedocs.io/en/stable/user_install.html\">Jupyter\n",
       "  Widgets Documentation</a> for setup instructions.\n",
       "</p>\n",
       "<p>\n",
       "  If you're reading this message in another frontend (for example, a static\n",
       "  rendering on GitHub or <a href=\"https://nbviewer.jupyter.org/\">NBViewer</a>),\n",
       "  it may mean that your frontend doesn't currently support widgets.\n",
       "</p>\n"
      ],
      "text/plain": [
       "Output()"
      ]
     },
     "metadata": {},
     "output_type": "display_data"
    }
   ],
   "source": [
    "we"
   ]
  },
  {
   "cell_type": "markdown",
   "metadata": {},
   "source": [
    "<p id=\"5\"></p>\n",
    "\n",
    "#### **5** - Using the ``out`` argument and ``changeout`` method"
   ]
  },
  {
   "cell_type": "markdown",
   "metadata": {},
   "source": [
    "The code below generates and displays two seperate WidgetEnvs.\n",
    "\n",
    "Notice that when you click a cell button in one of the WidgetEnv, the value is displayed in the output of both.\n",
    "\n",
    "Similarly when you click the clear button of either WidgetEnv, the output of both is cleared."
   ]
  },
  {
   "cell_type": "code",
   "execution_count": 10,
   "metadata": {},
   "outputs": [
    {
     "data": {
      "application/vnd.jupyter.widget-view+json": {
       "model_id": "77f01c0cc3d74f7ab509993c646a5618",
       "version_major": 2,
       "version_minor": 0
      },
      "text/html": [
       "<p>Failed to display Jupyter Widget of type <code>WidgetEnv</code>.</p>\n",
       "<p>\n",
       "  If you're reading this message in the Jupyter Notebook or JupyterLab Notebook, it may mean\n",
       "  that the widgets JavaScript is still loading. If this message persists, it\n",
       "  likely means that the widgets JavaScript library is either not installed or\n",
       "  not enabled. See the <a href=\"https://ipywidgets.readthedocs.io/en/stable/user_install.html\">Jupyter\n",
       "  Widgets Documentation</a> for setup instructions.\n",
       "</p>\n",
       "<p>\n",
       "  If you're reading this message in another frontend (for example, a static\n",
       "  rendering on GitHub or <a href=\"https://nbviewer.jupyter.org/\">NBViewer</a>),\n",
       "  it may mean that your frontend doesn't currently support widgets.\n",
       "</p>\n"
      ],
      "text/plain": [
       "WidgetEnv(children=(HBox(children=(Label(value='Variable', layout=Layout(width='150px')), Label(value='Value', layout=Layout(width='150px')), Label(value='Type', layout=Layout(width='150px')), Label(value='Documentation', layout=Layout(width='150px')))), HBox(children=(Label(value='a', layout=Layout(width='100px')), WidgetCell(description='1', layout=Layout(width='150px'), style=ButtonStyle(), tooltip='1'), WidgetCell(description='int', layout=Layout(width='150px'), style=ButtonStyle(), tooltip='int'), WidgetCell(description=\"int(x=0) -> integer\\nint(x, base=10) -> integer\\n\\nConvert a number or string to an integer, or return 0 if no arguments\\nare given.  If x is a number, return x.__int__().  For floating point\\nnumbers, this truncates towards zero.\\n\\nIf x is not a number or if base is given, then x must be a string,\\nbytes, or bytearray instance representing an integer literal in the\\ngiven base.  The literal can be preceded by '+' or '-' and be surrounded\\nby whitespace.  The base defaults to 10.  Valid bases are 0 and 2-36.\\nBase 0 means to interpret the base from the string as an integer literal.\\n>>> int('0b100', base=0)\\n4\", layout=Layout(width='150px'), style=ButtonStyle(), tooltip=\"int(x=0) -> integer\\nint(x, base=10) -> integer\\n\\nConvert a number or string to an integer, or return 0 if no arguments\\nare given.  If x is a number, return x.__int__().  For floating point\\nnumbers, this truncates towards zero.\\n\\nIf x is not a number or if base is given, then x must be a string,\\nbytes, or bytearray instance representing an integer literal in the\\ngiven base.  The literal can be preceded by '+' or '-' and be surrounded\\nby whitespace.  The base defaults to 10.  Valid bases are 0 and 2-36.\\nBase 0 means to interpret the base from the string as an integer literal.\\n>>> int('0b100', base=0)\\n4\"))), HBox(children=(Label(value='b', layout=Layout(width='100px')), WidgetCell(description='Hello World', layout=Layout(width='150px'), style=ButtonStyle(), tooltip='Hello World'), WidgetCell(description='str', layout=Layout(width='150px'), style=ButtonStyle(), tooltip='str'), WidgetCell(description=\"str(object='') -> str\\nstr(bytes_or_buffer[, encoding[, errors]]) -> str\\n\\nCreate a new string object from the given object. If encoding or\\nerrors is specified, then the object must expose a data buffer\\nthat will be decoded using the given encoding and error handler.\\nOtherwise, returns the result of object.__str__() (if defined)\\nor repr(object).\\nencoding defaults to sys.getdefaultencoding().\\nerrors defaults to 'strict'.\", layout=Layout(width='150px'), style=ButtonStyle(), tooltip=\"str(object='') -> str\\nstr(bytes_or_buffer[, encoding[, errors]]) -> str\\n\\nCreate a new string object from the given object. If encoding or\\nerrors is specified, then the object must expose a data buffer\\nthat will be decoded using the given encoding and error handler.\\nOtherwise, returns the result of object.__str__() (if defined)\\nor repr(object).\\nencoding defaults to sys.getdefaultencoding().\\nerrors defaults to 'strict'.\"))), HBox(children=(Label(value='c', layout=Layout(width='100px')), WidgetCell(description='False', layout=Layout(width='150px'), style=ButtonStyle(), tooltip='False'), WidgetCell(description='bool', layout=Layout(width='150px'), style=ButtonStyle(), tooltip='bool'), WidgetCell(description='bool(x) -> bool\\n\\nReturns True when the argument x is true, False otherwise.\\nThe builtins True and False are the only two instances of the class bool.\\nThe class bool is a subclass of the class int, and cannot be subclassed.', layout=Layout(width='150px'), style=ButtonStyle(), tooltip='bool(x) -> bool\\n\\nReturns True when the argument x is true, False otherwise.\\nThe builtins True and False are the only two instances of the class bool.\\nThe class bool is a subclass of the class int, and cannot be subclassed.'))), HBox(children=(Label(value='d', layout=Layout(width='100px')), WidgetCell(description='[1, 2, 3]', layout=Layout(width='150px'), style=ButtonStyle(), tooltip='[1, 2, 3]'), WidgetCell(description='list', layout=Layout(width='150px'), style=ButtonStyle(), tooltip='list'), WidgetCell(description=\"list() -> new empty list\\nlist(iterable) -> new list initialized from iterable's items\", layout=Layout(width='150px'), style=ButtonStyle(), tooltip=\"list() -> new empty list\\nlist(iterable) -> new list initialized from iterable's items\"))), HBox(children=(Label(value='e', layout=Layout(width='100px')), WidgetCell(description='e', layout=Layout(width='150px'), style=ButtonStyle(), tooltip='e'), WidgetCell(description='method', layout=Layout(width='150px'), style=ButtonStyle(), tooltip='method'), WidgetCell(description='example function doc string', layout=Layout(width='150px'), style=ButtonStyle(), tooltip='example function doc string'))), HBox(children=(Label(value='f', layout=Layout(width='100px')), WidgetCell(description='New Attribute', layout=Layout(width='150px'), style=ButtonStyle(), tooltip='New Attribute'), WidgetCell(description='str', layout=Layout(width='150px'), style=ButtonStyle(), tooltip='str'), WidgetCell(description=\"str(object='') -> str\\nstr(bytes_or_buffer[, encoding[, errors]]) -> str\\n\\nCreate a new string object from the given object. If encoding or\\nerrors is specified, then the object must expose a data buffer\\nthat will be decoded using the given encoding and error handler.\\nOtherwise, returns the result of object.__str__() (if defined)\\nor repr(object).\\nencoding defaults to sys.getdefaultencoding().\\nerrors defaults to 'strict'.\", layout=Layout(width='150px'), style=ButtonStyle(), tooltip=\"str(object='') -> str\\nstr(bytes_or_buffer[, encoding[, errors]]) -> str\\n\\nCreate a new string object from the given object. If encoding or\\nerrors is specified, then the object must expose a data buffer\\nthat will be decoded using the given encoding and error handler.\\nOtherwise, returns the result of object.__str__() (if defined)\\nor repr(object).\\nencoding defaults to sys.getdefaultencoding().\\nerrors defaults to 'strict'.\")))))"
      ]
     },
     "metadata": {},
     "output_type": "display_data"
    },
    {
     "data": {
      "application/vnd.jupyter.widget-view+json": {
       "model_id": "0e5b5979e43f4de4b3d3ddb869d5c7d8",
       "version_major": 2,
       "version_minor": 0
      },
      "text/html": [
       "<p>Failed to display Jupyter Widget of type <code>HBox</code>.</p>\n",
       "<p>\n",
       "  If you're reading this message in the Jupyter Notebook or JupyterLab Notebook, it may mean\n",
       "  that the widgets JavaScript is still loading. If this message persists, it\n",
       "  likely means that the widgets JavaScript library is either not installed or\n",
       "  not enabled. See the <a href=\"https://ipywidgets.readthedocs.io/en/stable/user_install.html\">Jupyter\n",
       "  Widgets Documentation</a> for setup instructions.\n",
       "</p>\n",
       "<p>\n",
       "  If you're reading this message in another frontend (for example, a static\n",
       "  rendering on GitHub or <a href=\"https://nbviewer.jupyter.org/\">NBViewer</a>),\n",
       "  it may mean that your frontend doesn't currently support widgets.\n",
       "</p>\n"
      ],
      "text/plain": [
       "HBox(children=(ClearButton(description='clear', icon='close', style=ButtonStyle()), UpdateButton(description='update', icon='refresh', style=ButtonStyle())))"
      ]
     },
     "metadata": {},
     "output_type": "display_data"
    },
    {
     "data": {
      "application/vnd.jupyter.widget-view+json": {
       "model_id": "998a486c930a4f779688555ef094f405",
       "version_major": 2,
       "version_minor": 0
      },
      "text/html": [
       "<p>Failed to display Jupyter Widget of type <code>Output</code>.</p>\n",
       "<p>\n",
       "  If you're reading this message in the Jupyter Notebook or JupyterLab Notebook, it may mean\n",
       "  that the widgets JavaScript is still loading. If this message persists, it\n",
       "  likely means that the widgets JavaScript library is either not installed or\n",
       "  not enabled. See the <a href=\"https://ipywidgets.readthedocs.io/en/stable/user_install.html\">Jupyter\n",
       "  Widgets Documentation</a> for setup instructions.\n",
       "</p>\n",
       "<p>\n",
       "  If you're reading this message in another frontend (for example, a static\n",
       "  rendering on GitHub or <a href=\"https://nbviewer.jupyter.org/\">NBViewer</a>),\n",
       "  it may mean that your frontend doesn't currently support widgets.\n",
       "</p>\n"
      ],
      "text/plain": [
       "Output()"
      ]
     },
     "metadata": {},
     "output_type": "display_data"
    },
    {
     "data": {
      "application/vnd.jupyter.widget-view+json": {
       "model_id": "55d6a091e13b43c093ec52bf8db36e3d",
       "version_major": 2,
       "version_minor": 0
      },
      "text/html": [
       "<p>Failed to display Jupyter Widget of type <code>WidgetEnv</code>.</p>\n",
       "<p>\n",
       "  If you're reading this message in the Jupyter Notebook or JupyterLab Notebook, it may mean\n",
       "  that the widgets JavaScript is still loading. If this message persists, it\n",
       "  likely means that the widgets JavaScript library is either not installed or\n",
       "  not enabled. See the <a href=\"https://ipywidgets.readthedocs.io/en/stable/user_install.html\">Jupyter\n",
       "  Widgets Documentation</a> for setup instructions.\n",
       "</p>\n",
       "<p>\n",
       "  If you're reading this message in another frontend (for example, a static\n",
       "  rendering on GitHub or <a href=\"https://nbviewer.jupyter.org/\">NBViewer</a>),\n",
       "  it may mean that your frontend doesn't currently support widgets.\n",
       "</p>\n"
      ],
      "text/plain": [
       "WidgetEnv(children=(HBox(children=(Label(value='Variable', layout=Layout(width='150px')), Label(value='Value', layout=Layout(width='150px')), Label(value='Type', layout=Layout(width='150px')), Label(value='Documentation', layout=Layout(width='150px')))), HBox(children=(Label(value='bit_length', layout=Layout(width='100px')), WidgetCell(description='bit_length', layout=Layout(width='150px'), style=ButtonStyle(), tooltip='bit_length'), WidgetCell(description='builtin_function_or_method', layout=Layout(width='150px'), style=ButtonStyle(), tooltip='builtin_function_or_method'), WidgetCell(description=\"int.bit_length() -> int\\n\\nNumber of bits necessary to represent self in binary.\\n>>> bin(37)\\n'0b100101'\\n>>> (37).bit_length()\\n6\", layout=Layout(width='150px'), style=ButtonStyle(), tooltip=\"int.bit_length() -> int\\n\\nNumber of bits necessary to represent self in binary.\\n>>> bin(37)\\n'0b100101'\\n>>> (37).bit_length()\\n6\"))), HBox(children=(Label(value='conjugate', layout=Layout(width='100px')), WidgetCell(description='conjugate', layout=Layout(width='150px'), style=ButtonStyle(), tooltip='conjugate'), WidgetCell(description='builtin_function_or_method', layout=Layout(width='150px'), style=ButtonStyle(), tooltip='builtin_function_or_method'), WidgetCell(description='Returns self, the complex conjugate of any int.', layout=Layout(width='150px'), style=ButtonStyle(), tooltip='Returns self, the complex conjugate of any int.'))), HBox(children=(Label(value='denominator', layout=Layout(width='100px')), WidgetCell(description='1', layout=Layout(width='150px'), style=ButtonStyle(), tooltip='1'), WidgetCell(description='int', layout=Layout(width='150px'), style=ButtonStyle(), tooltip='int'), WidgetCell(description=\"int(x=0) -> integer\\nint(x, base=10) -> integer\\n\\nConvert a number or string to an integer, or return 0 if no arguments\\nare given.  If x is a number, return x.__int__().  For floating point\\nnumbers, this truncates towards zero.\\n\\nIf x is not a number or if base is given, then x must be a string,\\nbytes, or bytearray instance representing an integer literal in the\\ngiven base.  The literal can be preceded by '+' or '-' and be surrounded\\nby whitespace.  The base defaults to 10.  Valid bases are 0 and 2-36.\\nBase 0 means to interpret the base from the string as an integer literal.\\n>>> int('0b100', base=0)\\n4\", layout=Layout(width='150px'), style=ButtonStyle(), tooltip=\"int(x=0) -> integer\\nint(x, base=10) -> integer\\n\\nConvert a number or string to an integer, or return 0 if no arguments\\nare given.  If x is a number, return x.__int__().  For floating point\\nnumbers, this truncates towards zero.\\n\\nIf x is not a number or if base is given, then x must be a string,\\nbytes, or bytearray instance representing an integer literal in the\\ngiven base.  The literal can be preceded by '+' or '-' and be surrounded\\nby whitespace.  The base defaults to 10.  Valid bases are 0 and 2-36.\\nBase 0 means to interpret the base from the string as an integer literal.\\n>>> int('0b100', base=0)\\n4\"))), HBox(children=(Label(value='from_bytes', layout=Layout(width='100px')), WidgetCell(description='from_bytes', layout=Layout(width='150px'), style=ButtonStyle(), tooltip='from_bytes'), WidgetCell(description='builtin_function_or_method', layout=Layout(width='150px'), style=ButtonStyle(), tooltip='builtin_function_or_method'), WidgetCell(description=\"int.from_bytes(bytes, byteorder, *, signed=False) -> int\\n\\nReturn the integer represented by the given array of bytes.\\n\\nThe bytes argument must be a bytes-like object (e.g. bytes or bytearray).\\n\\nThe byteorder argument determines the byte order used to represent the\\ninteger.  If byteorder is 'big', the most significant byte is at the\\nbeginning of the byte array.  If byteorder is 'little', the most\\nsignificant byte is at the end of the byte array.  To request the native\\nbyte order of the host system, use `sys.byteorder' as the byte order value.\\n\\nThe signed keyword-only argument indicates whether two's complement is\\nused to represent the integer.\", layout=Layout(width='150px'), style=ButtonStyle(), tooltip=\"int.from_bytes(bytes, byteorder, *, signed=False) -> int\\n\\nReturn the integer represented by the given array of bytes.\\n\\nThe bytes argument must be a bytes-like object (e.g. bytes or bytearray).\\n\\nThe byteorder argument determines the byte order used to represent the\\ninteger.  If byteorder is 'big', the most significant byte is at the\\nbeginning of the byte array.  If byteorder is 'little', the most\\nsignificant byte is at the end of the byte array.  To request the native\\nbyte order of the host system, use `sys.byteorder' as the byte order value.\\n\\nThe signed keyword-only argument indicates whether two's complement is\\nused to represent the integer.\"))), HBox(children=(Label(value='imag', layout=Layout(width='100px')), WidgetCell(description='0', layout=Layout(width='150px'), style=ButtonStyle(), tooltip='0'), WidgetCell(description='int', layout=Layout(width='150px'), style=ButtonStyle(), tooltip='int'), WidgetCell(description=\"int(x=0) -> integer\\nint(x, base=10) -> integer\\n\\nConvert a number or string to an integer, or return 0 if no arguments\\nare given.  If x is a number, return x.__int__().  For floating point\\nnumbers, this truncates towards zero.\\n\\nIf x is not a number or if base is given, then x must be a string,\\nbytes, or bytearray instance representing an integer literal in the\\ngiven base.  The literal can be preceded by '+' or '-' and be surrounded\\nby whitespace.  The base defaults to 10.  Valid bases are 0 and 2-36.\\nBase 0 means to interpret the base from the string as an integer literal.\\n>>> int('0b100', base=0)\\n4\", layout=Layout(width='150px'), style=ButtonStyle(), tooltip=\"int(x=0) -> integer\\nint(x, base=10) -> integer\\n\\nConvert a number or string to an integer, or return 0 if no arguments\\nare given.  If x is a number, return x.__int__().  For floating point\\nnumbers, this truncates towards zero.\\n\\nIf x is not a number or if base is given, then x must be a string,\\nbytes, or bytearray instance representing an integer literal in the\\ngiven base.  The literal can be preceded by '+' or '-' and be surrounded\\nby whitespace.  The base defaults to 10.  Valid bases are 0 and 2-36.\\nBase 0 means to interpret the base from the string as an integer literal.\\n>>> int('0b100', base=0)\\n4\"))), HBox(children=(Label(value='numerator', layout=Layout(width='100px')), WidgetCell(description='5', layout=Layout(width='150px'), style=ButtonStyle(), tooltip='5'), WidgetCell(description='int', layout=Layout(width='150px'), style=ButtonStyle(), tooltip='int'), WidgetCell(description=\"int(x=0) -> integer\\nint(x, base=10) -> integer\\n\\nConvert a number or string to an integer, or return 0 if no arguments\\nare given.  If x is a number, return x.__int__().  For floating point\\nnumbers, this truncates towards zero.\\n\\nIf x is not a number or if base is given, then x must be a string,\\nbytes, or bytearray instance representing an integer literal in the\\ngiven base.  The literal can be preceded by '+' or '-' and be surrounded\\nby whitespace.  The base defaults to 10.  Valid bases are 0 and 2-36.\\nBase 0 means to interpret the base from the string as an integer literal.\\n>>> int('0b100', base=0)\\n4\", layout=Layout(width='150px'), style=ButtonStyle(), tooltip=\"int(x=0) -> integer\\nint(x, base=10) -> integer\\n\\nConvert a number or string to an integer, or return 0 if no arguments\\nare given.  If x is a number, return x.__int__().  For floating point\\nnumbers, this truncates towards zero.\\n\\nIf x is not a number or if base is given, then x must be a string,\\nbytes, or bytearray instance representing an integer literal in the\\ngiven base.  The literal can be preceded by '+' or '-' and be surrounded\\nby whitespace.  The base defaults to 10.  Valid bases are 0 and 2-36.\\nBase 0 means to interpret the base from the string as an integer literal.\\n>>> int('0b100', base=0)\\n4\"))), HBox(children=(Label(value='real', layout=Layout(width='100px')), WidgetCell(description='5', layout=Layout(width='150px'), style=ButtonStyle(), tooltip='5'), WidgetCell(description='int', layout=Layout(width='150px'), style=ButtonStyle(), tooltip='int'), WidgetCell(description=\"int(x=0) -> integer\\nint(x, base=10) -> integer\\n\\nConvert a number or string to an integer, or return 0 if no arguments\\nare given.  If x is a number, return x.__int__().  For floating point\\nnumbers, this truncates towards zero.\\n\\nIf x is not a number or if base is given, then x must be a string,\\nbytes, or bytearray instance representing an integer literal in the\\ngiven base.  The literal can be preceded by '+' or '-' and be surrounded\\nby whitespace.  The base defaults to 10.  Valid bases are 0 and 2-36.\\nBase 0 means to interpret the base from the string as an integer literal.\\n>>> int('0b100', base=0)\\n4\", layout=Layout(width='150px'), style=ButtonStyle(), tooltip=\"int(x=0) -> integer\\nint(x, base=10) -> integer\\n\\nConvert a number or string to an integer, or return 0 if no arguments\\nare given.  If x is a number, return x.__int__().  For floating point\\nnumbers, this truncates towards zero.\\n\\nIf x is not a number or if base is given, then x must be a string,\\nbytes, or bytearray instance representing an integer literal in the\\ngiven base.  The literal can be preceded by '+' or '-' and be surrounded\\nby whitespace.  The base defaults to 10.  Valid bases are 0 and 2-36.\\nBase 0 means to interpret the base from the string as an integer literal.\\n>>> int('0b100', base=0)\\n4\"))), HBox(children=(Label(value='to_bytes', layout=Layout(width='100px')), WidgetCell(description='to_bytes', layout=Layout(width='150px'), style=ButtonStyle(), tooltip='to_bytes'), WidgetCell(description='builtin_function_or_method', layout=Layout(width='150px'), style=ButtonStyle(), tooltip='builtin_function_or_method'), WidgetCell(description=\"int.to_bytes(length, byteorder, *, signed=False) -> bytes\\n\\nReturn an array of bytes representing an integer.\\n\\nThe integer is represented using length bytes.  An OverflowError is\\nraised if the integer is not representable with the given number of\\nbytes.\\n\\nThe byteorder argument determines the byte order used to represent the\\ninteger.  If byteorder is 'big', the most significant byte is at the\\nbeginning of the byte array.  If byteorder is 'little', the most\\nsignificant byte is at the end of the byte array.  To request the native\\nbyte order of the host system, use `sys.byteorder' as the byte order value.\\n\\nThe signed keyword-only argument determines whether two's complement is\\nused to represent the integer.  If signed is False and a negative integer\\nis given, an OverflowError is raised.\", layout=Layout(width='150px'), style=ButtonStyle(), tooltip=\"int.to_bytes(length, byteorder, *, signed=False) -> bytes\\n\\nReturn an array of bytes representing an integer.\\n\\nThe integer is represented using length bytes.  An OverflowError is\\nraised if the integer is not representable with the given number of\\nbytes.\\n\\nThe byteorder argument determines the byte order used to represent the\\ninteger.  If byteorder is 'big', the most significant byte is at the\\nbeginning of the byte array.  If byteorder is 'little', the most\\nsignificant byte is at the end of the byte array.  To request the native\\nbyte order of the host system, use `sys.byteorder' as the byte order value.\\n\\nThe signed keyword-only argument determines whether two's complement is\\nused to represent the integer.  If signed is False and a negative integer\\nis given, an OverflowError is raised.\")))))"
      ]
     },
     "metadata": {},
     "output_type": "display_data"
    },
    {
     "data": {
      "application/vnd.jupyter.widget-view+json": {
       "model_id": "924332a17557468589d9cb90a60de2fe",
       "version_major": 2,
       "version_minor": 0
      },
      "text/html": [
       "<p>Failed to display Jupyter Widget of type <code>HBox</code>.</p>\n",
       "<p>\n",
       "  If you're reading this message in the Jupyter Notebook or JupyterLab Notebook, it may mean\n",
       "  that the widgets JavaScript is still loading. If this message persists, it\n",
       "  likely means that the widgets JavaScript library is either not installed or\n",
       "  not enabled. See the <a href=\"https://ipywidgets.readthedocs.io/en/stable/user_install.html\">Jupyter\n",
       "  Widgets Documentation</a> for setup instructions.\n",
       "</p>\n",
       "<p>\n",
       "  If you're reading this message in another frontend (for example, a static\n",
       "  rendering on GitHub or <a href=\"https://nbviewer.jupyter.org/\">NBViewer</a>),\n",
       "  it may mean that your frontend doesn't currently support widgets.\n",
       "</p>\n"
      ],
      "text/plain": [
       "HBox(children=(ClearButton(description='clear', icon='close', style=ButtonStyle()), UpdateButton(description='update', icon='refresh', style=ButtonStyle())))"
      ]
     },
     "metadata": {},
     "output_type": "display_data"
    },
    {
     "data": {
      "application/vnd.jupyter.widget-view+json": {
       "model_id": "998a486c930a4f779688555ef094f405",
       "version_major": 2,
       "version_minor": 0
      },
      "text/html": [
       "<p>Failed to display Jupyter Widget of type <code>Output</code>.</p>\n",
       "<p>\n",
       "  If you're reading this message in the Jupyter Notebook or JupyterLab Notebook, it may mean\n",
       "  that the widgets JavaScript is still loading. If this message persists, it\n",
       "  likely means that the widgets JavaScript library is either not installed or\n",
       "  not enabled. See the <a href=\"https://ipywidgets.readthedocs.io/en/stable/user_install.html\">Jupyter\n",
       "  Widgets Documentation</a> for setup instructions.\n",
       "</p>\n",
       "<p>\n",
       "  If you're reading this message in another frontend (for example, a static\n",
       "  rendering on GitHub or <a href=\"https://nbviewer.jupyter.org/\">NBViewer</a>),\n",
       "  it may mean that your frontend doesn't currently support widgets.\n",
       "</p>\n"
      ],
      "text/plain": [
       "Output()"
      ]
     },
     "metadata": {},
     "output_type": "display_data"
    }
   ],
   "source": [
    "wes = (WidgetEnv('eg'), WidgetEnv('5'))\n",
    "display(*wes)"
   ]
  },
  {
   "cell_type": "markdown",
   "metadata": {},
   "source": [
    "This is because they share the same default output generated when the ``env_explore`` module was imported near the begining of the notebook.\n",
    "\n",
    "We use the ``changeout`` methon to change the WidgetEnv's output.\n",
    "\n",
    "Notice that the two WidgetEnvs above no longer share an output."
   ]
  },
  {
   "cell_type": "code",
   "execution_count": 11,
   "metadata": {},
   "outputs": [
    {
     "data": {
      "application/vnd.jupyter.widget-view+json": {
       "model_id": "77f01c0cc3d74f7ab509993c646a5618",
       "version_major": 2,
       "version_minor": 0
      },
      "text/html": [
       "<p>Failed to display Jupyter Widget of type <code>WidgetEnv</code>.</p>\n",
       "<p>\n",
       "  If you're reading this message in the Jupyter Notebook or JupyterLab Notebook, it may mean\n",
       "  that the widgets JavaScript is still loading. If this message persists, it\n",
       "  likely means that the widgets JavaScript library is either not installed or\n",
       "  not enabled. See the <a href=\"https://ipywidgets.readthedocs.io/en/stable/user_install.html\">Jupyter\n",
       "  Widgets Documentation</a> for setup instructions.\n",
       "</p>\n",
       "<p>\n",
       "  If you're reading this message in another frontend (for example, a static\n",
       "  rendering on GitHub or <a href=\"https://nbviewer.jupyter.org/\">NBViewer</a>),\n",
       "  it may mean that your frontend doesn't currently support widgets.\n",
       "</p>\n"
      ],
      "text/plain": [
       "WidgetEnv(children=(HBox(children=(Label(value='Variable', layout=Layout(width='150px')), Label(value='Value', layout=Layout(width='150px')), Label(value='Type', layout=Layout(width='150px')), Label(value='Documentation', layout=Layout(width='150px')))), HBox(children=(Label(value='a', layout=Layout(width='100px')), WidgetCell(description='1', layout=Layout(width='150px'), style=ButtonStyle(), tooltip='1'), WidgetCell(description='int', layout=Layout(width='150px'), style=ButtonStyle(), tooltip='int'), WidgetCell(description=\"int(x=0) -> integer\\nint(x, base=10) -> integer\\n\\nConvert a number or string to an integer, or return 0 if no arguments\\nare given.  If x is a number, return x.__int__().  For floating point\\nnumbers, this truncates towards zero.\\n\\nIf x is not a number or if base is given, then x must be a string,\\nbytes, or bytearray instance representing an integer literal in the\\ngiven base.  The literal can be preceded by '+' or '-' and be surrounded\\nby whitespace.  The base defaults to 10.  Valid bases are 0 and 2-36.\\nBase 0 means to interpret the base from the string as an integer literal.\\n>>> int('0b100', base=0)\\n4\", layout=Layout(width='150px'), style=ButtonStyle(), tooltip=\"int(x=0) -> integer\\nint(x, base=10) -> integer\\n\\nConvert a number or string to an integer, or return 0 if no arguments\\nare given.  If x is a number, return x.__int__().  For floating point\\nnumbers, this truncates towards zero.\\n\\nIf x is not a number or if base is given, then x must be a string,\\nbytes, or bytearray instance representing an integer literal in the\\ngiven base.  The literal can be preceded by '+' or '-' and be surrounded\\nby whitespace.  The base defaults to 10.  Valid bases are 0 and 2-36.\\nBase 0 means to interpret the base from the string as an integer literal.\\n>>> int('0b100', base=0)\\n4\"))), HBox(children=(Label(value='b', layout=Layout(width='100px')), WidgetCell(description='Hello World', layout=Layout(width='150px'), style=ButtonStyle(), tooltip='Hello World'), WidgetCell(description='str', layout=Layout(width='150px'), style=ButtonStyle(), tooltip='str'), WidgetCell(description=\"str(object='') -> str\\nstr(bytes_or_buffer[, encoding[, errors]]) -> str\\n\\nCreate a new string object from the given object. If encoding or\\nerrors is specified, then the object must expose a data buffer\\nthat will be decoded using the given encoding and error handler.\\nOtherwise, returns the result of object.__str__() (if defined)\\nor repr(object).\\nencoding defaults to sys.getdefaultencoding().\\nerrors defaults to 'strict'.\", layout=Layout(width='150px'), style=ButtonStyle(), tooltip=\"str(object='') -> str\\nstr(bytes_or_buffer[, encoding[, errors]]) -> str\\n\\nCreate a new string object from the given object. If encoding or\\nerrors is specified, then the object must expose a data buffer\\nthat will be decoded using the given encoding and error handler.\\nOtherwise, returns the result of object.__str__() (if defined)\\nor repr(object).\\nencoding defaults to sys.getdefaultencoding().\\nerrors defaults to 'strict'.\"))), HBox(children=(Label(value='c', layout=Layout(width='100px')), WidgetCell(description='False', layout=Layout(width='150px'), style=ButtonStyle(), tooltip='False'), WidgetCell(description='bool', layout=Layout(width='150px'), style=ButtonStyle(), tooltip='bool'), WidgetCell(description='bool(x) -> bool\\n\\nReturns True when the argument x is true, False otherwise.\\nThe builtins True and False are the only two instances of the class bool.\\nThe class bool is a subclass of the class int, and cannot be subclassed.', layout=Layout(width='150px'), style=ButtonStyle(), tooltip='bool(x) -> bool\\n\\nReturns True when the argument x is true, False otherwise.\\nThe builtins True and False are the only two instances of the class bool.\\nThe class bool is a subclass of the class int, and cannot be subclassed.'))), HBox(children=(Label(value='d', layout=Layout(width='100px')), WidgetCell(description='[1, 2, 3]', layout=Layout(width='150px'), style=ButtonStyle(), tooltip='[1, 2, 3]'), WidgetCell(description='list', layout=Layout(width='150px'), style=ButtonStyle(), tooltip='list'), WidgetCell(description=\"list() -> new empty list\\nlist(iterable) -> new list initialized from iterable's items\", layout=Layout(width='150px'), style=ButtonStyle(), tooltip=\"list() -> new empty list\\nlist(iterable) -> new list initialized from iterable's items\"))), HBox(children=(Label(value='e', layout=Layout(width='100px')), WidgetCell(description='e', layout=Layout(width='150px'), style=ButtonStyle(), tooltip='e'), WidgetCell(description='method', layout=Layout(width='150px'), style=ButtonStyle(), tooltip='method'), WidgetCell(description='example function doc string', layout=Layout(width='150px'), style=ButtonStyle(), tooltip='example function doc string'))), HBox(children=(Label(value='f', layout=Layout(width='100px')), WidgetCell(description='New Attribute', layout=Layout(width='150px'), style=ButtonStyle(), tooltip='New Attribute'), WidgetCell(description='str', layout=Layout(width='150px'), style=ButtonStyle(), tooltip='str'), WidgetCell(description=\"str(object='') -> str\\nstr(bytes_or_buffer[, encoding[, errors]]) -> str\\n\\nCreate a new string object from the given object. If encoding or\\nerrors is specified, then the object must expose a data buffer\\nthat will be decoded using the given encoding and error handler.\\nOtherwise, returns the result of object.__str__() (if defined)\\nor repr(object).\\nencoding defaults to sys.getdefaultencoding().\\nerrors defaults to 'strict'.\", layout=Layout(width='150px'), style=ButtonStyle(), tooltip=\"str(object='') -> str\\nstr(bytes_or_buffer[, encoding[, errors]]) -> str\\n\\nCreate a new string object from the given object. If encoding or\\nerrors is specified, then the object must expose a data buffer\\nthat will be decoded using the given encoding and error handler.\\nOtherwise, returns the result of object.__str__() (if defined)\\nor repr(object).\\nencoding defaults to sys.getdefaultencoding().\\nerrors defaults to 'strict'.\")))))"
      ]
     },
     "metadata": {},
     "output_type": "display_data"
    },
    {
     "data": {
      "application/vnd.jupyter.widget-view+json": {
       "model_id": "0e5b5979e43f4de4b3d3ddb869d5c7d8",
       "version_major": 2,
       "version_minor": 0
      },
      "text/html": [
       "<p>Failed to display Jupyter Widget of type <code>HBox</code>.</p>\n",
       "<p>\n",
       "  If you're reading this message in the Jupyter Notebook or JupyterLab Notebook, it may mean\n",
       "  that the widgets JavaScript is still loading. If this message persists, it\n",
       "  likely means that the widgets JavaScript library is either not installed or\n",
       "  not enabled. See the <a href=\"https://ipywidgets.readthedocs.io/en/stable/user_install.html\">Jupyter\n",
       "  Widgets Documentation</a> for setup instructions.\n",
       "</p>\n",
       "<p>\n",
       "  If you're reading this message in another frontend (for example, a static\n",
       "  rendering on GitHub or <a href=\"https://nbviewer.jupyter.org/\">NBViewer</a>),\n",
       "  it may mean that your frontend doesn't currently support widgets.\n",
       "</p>\n"
      ],
      "text/plain": [
       "HBox(children=(ClearButton(description='clear', icon='close', style=ButtonStyle()), UpdateButton(description='update', icon='refresh', style=ButtonStyle())))"
      ]
     },
     "metadata": {},
     "output_type": "display_data"
    },
    {
     "data": {
      "application/vnd.jupyter.widget-view+json": {
       "model_id": "9cb7ba2cfefa434798624e38104f790d",
       "version_major": 2,
       "version_minor": 0
      },
      "text/html": [
       "<p>Failed to display Jupyter Widget of type <code>Output</code>.</p>\n",
       "<p>\n",
       "  If you're reading this message in the Jupyter Notebook or JupyterLab Notebook, it may mean\n",
       "  that the widgets JavaScript is still loading. If this message persists, it\n",
       "  likely means that the widgets JavaScript library is either not installed or\n",
       "  not enabled. See the <a href=\"https://ipywidgets.readthedocs.io/en/stable/user_install.html\">Jupyter\n",
       "  Widgets Documentation</a> for setup instructions.\n",
       "</p>\n",
       "<p>\n",
       "  If you're reading this message in another frontend (for example, a static\n",
       "  rendering on GitHub or <a href=\"https://nbviewer.jupyter.org/\">NBViewer</a>),\n",
       "  it may mean that your frontend doesn't currently support widgets.\n",
       "</p>\n"
      ],
      "text/plain": [
       "Output()"
      ]
     },
     "metadata": {},
     "output_type": "display_data"
    },
    {
     "data": {
      "application/vnd.jupyter.widget-view+json": {
       "model_id": "55d6a091e13b43c093ec52bf8db36e3d",
       "version_major": 2,
       "version_minor": 0
      },
      "text/html": [
       "<p>Failed to display Jupyter Widget of type <code>WidgetEnv</code>.</p>\n",
       "<p>\n",
       "  If you're reading this message in the Jupyter Notebook or JupyterLab Notebook, it may mean\n",
       "  that the widgets JavaScript is still loading. If this message persists, it\n",
       "  likely means that the widgets JavaScript library is either not installed or\n",
       "  not enabled. See the <a href=\"https://ipywidgets.readthedocs.io/en/stable/user_install.html\">Jupyter\n",
       "  Widgets Documentation</a> for setup instructions.\n",
       "</p>\n",
       "<p>\n",
       "  If you're reading this message in another frontend (for example, a static\n",
       "  rendering on GitHub or <a href=\"https://nbviewer.jupyter.org/\">NBViewer</a>),\n",
       "  it may mean that your frontend doesn't currently support widgets.\n",
       "</p>\n"
      ],
      "text/plain": [
       "WidgetEnv(children=(HBox(children=(Label(value='Variable', layout=Layout(width='150px')), Label(value='Value', layout=Layout(width='150px')), Label(value='Type', layout=Layout(width='150px')), Label(value='Documentation', layout=Layout(width='150px')))), HBox(children=(Label(value='bit_length', layout=Layout(width='100px')), WidgetCell(description='bit_length', layout=Layout(width='150px'), style=ButtonStyle(), tooltip='bit_length'), WidgetCell(description='builtin_function_or_method', layout=Layout(width='150px'), style=ButtonStyle(), tooltip='builtin_function_or_method'), WidgetCell(description=\"int.bit_length() -> int\\n\\nNumber of bits necessary to represent self in binary.\\n>>> bin(37)\\n'0b100101'\\n>>> (37).bit_length()\\n6\", layout=Layout(width='150px'), style=ButtonStyle(), tooltip=\"int.bit_length() -> int\\n\\nNumber of bits necessary to represent self in binary.\\n>>> bin(37)\\n'0b100101'\\n>>> (37).bit_length()\\n6\"))), HBox(children=(Label(value='conjugate', layout=Layout(width='100px')), WidgetCell(description='conjugate', layout=Layout(width='150px'), style=ButtonStyle(), tooltip='conjugate'), WidgetCell(description='builtin_function_or_method', layout=Layout(width='150px'), style=ButtonStyle(), tooltip='builtin_function_or_method'), WidgetCell(description='Returns self, the complex conjugate of any int.', layout=Layout(width='150px'), style=ButtonStyle(), tooltip='Returns self, the complex conjugate of any int.'))), HBox(children=(Label(value='denominator', layout=Layout(width='100px')), WidgetCell(description='1', layout=Layout(width='150px'), style=ButtonStyle(), tooltip='1'), WidgetCell(description='int', layout=Layout(width='150px'), style=ButtonStyle(), tooltip='int'), WidgetCell(description=\"int(x=0) -> integer\\nint(x, base=10) -> integer\\n\\nConvert a number or string to an integer, or return 0 if no arguments\\nare given.  If x is a number, return x.__int__().  For floating point\\nnumbers, this truncates towards zero.\\n\\nIf x is not a number or if base is given, then x must be a string,\\nbytes, or bytearray instance representing an integer literal in the\\ngiven base.  The literal can be preceded by '+' or '-' and be surrounded\\nby whitespace.  The base defaults to 10.  Valid bases are 0 and 2-36.\\nBase 0 means to interpret the base from the string as an integer literal.\\n>>> int('0b100', base=0)\\n4\", layout=Layout(width='150px'), style=ButtonStyle(), tooltip=\"int(x=0) -> integer\\nint(x, base=10) -> integer\\n\\nConvert a number or string to an integer, or return 0 if no arguments\\nare given.  If x is a number, return x.__int__().  For floating point\\nnumbers, this truncates towards zero.\\n\\nIf x is not a number or if base is given, then x must be a string,\\nbytes, or bytearray instance representing an integer literal in the\\ngiven base.  The literal can be preceded by '+' or '-' and be surrounded\\nby whitespace.  The base defaults to 10.  Valid bases are 0 and 2-36.\\nBase 0 means to interpret the base from the string as an integer literal.\\n>>> int('0b100', base=0)\\n4\"))), HBox(children=(Label(value='from_bytes', layout=Layout(width='100px')), WidgetCell(description='from_bytes', layout=Layout(width='150px'), style=ButtonStyle(), tooltip='from_bytes'), WidgetCell(description='builtin_function_or_method', layout=Layout(width='150px'), style=ButtonStyle(), tooltip='builtin_function_or_method'), WidgetCell(description=\"int.from_bytes(bytes, byteorder, *, signed=False) -> int\\n\\nReturn the integer represented by the given array of bytes.\\n\\nThe bytes argument must be a bytes-like object (e.g. bytes or bytearray).\\n\\nThe byteorder argument determines the byte order used to represent the\\ninteger.  If byteorder is 'big', the most significant byte is at the\\nbeginning of the byte array.  If byteorder is 'little', the most\\nsignificant byte is at the end of the byte array.  To request the native\\nbyte order of the host system, use `sys.byteorder' as the byte order value.\\n\\nThe signed keyword-only argument indicates whether two's complement is\\nused to represent the integer.\", layout=Layout(width='150px'), style=ButtonStyle(), tooltip=\"int.from_bytes(bytes, byteorder, *, signed=False) -> int\\n\\nReturn the integer represented by the given array of bytes.\\n\\nThe bytes argument must be a bytes-like object (e.g. bytes or bytearray).\\n\\nThe byteorder argument determines the byte order used to represent the\\ninteger.  If byteorder is 'big', the most significant byte is at the\\nbeginning of the byte array.  If byteorder is 'little', the most\\nsignificant byte is at the end of the byte array.  To request the native\\nbyte order of the host system, use `sys.byteorder' as the byte order value.\\n\\nThe signed keyword-only argument indicates whether two's complement is\\nused to represent the integer.\"))), HBox(children=(Label(value='imag', layout=Layout(width='100px')), WidgetCell(description='0', layout=Layout(width='150px'), style=ButtonStyle(), tooltip='0'), WidgetCell(description='int', layout=Layout(width='150px'), style=ButtonStyle(), tooltip='int'), WidgetCell(description=\"int(x=0) -> integer\\nint(x, base=10) -> integer\\n\\nConvert a number or string to an integer, or return 0 if no arguments\\nare given.  If x is a number, return x.__int__().  For floating point\\nnumbers, this truncates towards zero.\\n\\nIf x is not a number or if base is given, then x must be a string,\\nbytes, or bytearray instance representing an integer literal in the\\ngiven base.  The literal can be preceded by '+' or '-' and be surrounded\\nby whitespace.  The base defaults to 10.  Valid bases are 0 and 2-36.\\nBase 0 means to interpret the base from the string as an integer literal.\\n>>> int('0b100', base=0)\\n4\", layout=Layout(width='150px'), style=ButtonStyle(), tooltip=\"int(x=0) -> integer\\nint(x, base=10) -> integer\\n\\nConvert a number or string to an integer, or return 0 if no arguments\\nare given.  If x is a number, return x.__int__().  For floating point\\nnumbers, this truncates towards zero.\\n\\nIf x is not a number or if base is given, then x must be a string,\\nbytes, or bytearray instance representing an integer literal in the\\ngiven base.  The literal can be preceded by '+' or '-' and be surrounded\\nby whitespace.  The base defaults to 10.  Valid bases are 0 and 2-36.\\nBase 0 means to interpret the base from the string as an integer literal.\\n>>> int('0b100', base=0)\\n4\"))), HBox(children=(Label(value='numerator', layout=Layout(width='100px')), WidgetCell(description='5', layout=Layout(width='150px'), style=ButtonStyle(), tooltip='5'), WidgetCell(description='int', layout=Layout(width='150px'), style=ButtonStyle(), tooltip='int'), WidgetCell(description=\"int(x=0) -> integer\\nint(x, base=10) -> integer\\n\\nConvert a number or string to an integer, or return 0 if no arguments\\nare given.  If x is a number, return x.__int__().  For floating point\\nnumbers, this truncates towards zero.\\n\\nIf x is not a number or if base is given, then x must be a string,\\nbytes, or bytearray instance representing an integer literal in the\\ngiven base.  The literal can be preceded by '+' or '-' and be surrounded\\nby whitespace.  The base defaults to 10.  Valid bases are 0 and 2-36.\\nBase 0 means to interpret the base from the string as an integer literal.\\n>>> int('0b100', base=0)\\n4\", layout=Layout(width='150px'), style=ButtonStyle(), tooltip=\"int(x=0) -> integer\\nint(x, base=10) -> integer\\n\\nConvert a number or string to an integer, or return 0 if no arguments\\nare given.  If x is a number, return x.__int__().  For floating point\\nnumbers, this truncates towards zero.\\n\\nIf x is not a number or if base is given, then x must be a string,\\nbytes, or bytearray instance representing an integer literal in the\\ngiven base.  The literal can be preceded by '+' or '-' and be surrounded\\nby whitespace.  The base defaults to 10.  Valid bases are 0 and 2-36.\\nBase 0 means to interpret the base from the string as an integer literal.\\n>>> int('0b100', base=0)\\n4\"))), HBox(children=(Label(value='real', layout=Layout(width='100px')), WidgetCell(description='5', layout=Layout(width='150px'), style=ButtonStyle(), tooltip='5'), WidgetCell(description='int', layout=Layout(width='150px'), style=ButtonStyle(), tooltip='int'), WidgetCell(description=\"int(x=0) -> integer\\nint(x, base=10) -> integer\\n\\nConvert a number or string to an integer, or return 0 if no arguments\\nare given.  If x is a number, return x.__int__().  For floating point\\nnumbers, this truncates towards zero.\\n\\nIf x is not a number or if base is given, then x must be a string,\\nbytes, or bytearray instance representing an integer literal in the\\ngiven base.  The literal can be preceded by '+' or '-' and be surrounded\\nby whitespace.  The base defaults to 10.  Valid bases are 0 and 2-36.\\nBase 0 means to interpret the base from the string as an integer literal.\\n>>> int('0b100', base=0)\\n4\", layout=Layout(width='150px'), style=ButtonStyle(), tooltip=\"int(x=0) -> integer\\nint(x, base=10) -> integer\\n\\nConvert a number or string to an integer, or return 0 if no arguments\\nare given.  If x is a number, return x.__int__().  For floating point\\nnumbers, this truncates towards zero.\\n\\nIf x is not a number or if base is given, then x must be a string,\\nbytes, or bytearray instance representing an integer literal in the\\ngiven base.  The literal can be preceded by '+' or '-' and be surrounded\\nby whitespace.  The base defaults to 10.  Valid bases are 0 and 2-36.\\nBase 0 means to interpret the base from the string as an integer literal.\\n>>> int('0b100', base=0)\\n4\"))), HBox(children=(Label(value='to_bytes', layout=Layout(width='100px')), WidgetCell(description='to_bytes', layout=Layout(width='150px'), style=ButtonStyle(), tooltip='to_bytes'), WidgetCell(description='builtin_function_or_method', layout=Layout(width='150px'), style=ButtonStyle(), tooltip='builtin_function_or_method'), WidgetCell(description=\"int.to_bytes(length, byteorder, *, signed=False) -> bytes\\n\\nReturn an array of bytes representing an integer.\\n\\nThe integer is represented using length bytes.  An OverflowError is\\nraised if the integer is not representable with the given number of\\nbytes.\\n\\nThe byteorder argument determines the byte order used to represent the\\ninteger.  If byteorder is 'big', the most significant byte is at the\\nbeginning of the byte array.  If byteorder is 'little', the most\\nsignificant byte is at the end of the byte array.  To request the native\\nbyte order of the host system, use `sys.byteorder' as the byte order value.\\n\\nThe signed keyword-only argument determines whether two's complement is\\nused to represent the integer.  If signed is False and a negative integer\\nis given, an OverflowError is raised.\", layout=Layout(width='150px'), style=ButtonStyle(), tooltip=\"int.to_bytes(length, byteorder, *, signed=False) -> bytes\\n\\nReturn an array of bytes representing an integer.\\n\\nThe integer is represented using length bytes.  An OverflowError is\\nraised if the integer is not representable with the given number of\\nbytes.\\n\\nThe byteorder argument determines the byte order used to represent the\\ninteger.  If byteorder is 'big', the most significant byte is at the\\nbeginning of the byte array.  If byteorder is 'little', the most\\nsignificant byte is at the end of the byte array.  To request the native\\nbyte order of the host system, use `sys.byteorder' as the byte order value.\\n\\nThe signed keyword-only argument determines whether two's complement is\\nused to represent the integer.  If signed is False and a negative integer\\nis given, an OverflowError is raised.\")))))"
      ]
     },
     "metadata": {},
     "output_type": "display_data"
    },
    {
     "data": {
      "application/vnd.jupyter.widget-view+json": {
       "model_id": "924332a17557468589d9cb90a60de2fe",
       "version_major": 2,
       "version_minor": 0
      },
      "text/html": [
       "<p>Failed to display Jupyter Widget of type <code>HBox</code>.</p>\n",
       "<p>\n",
       "  If you're reading this message in the Jupyter Notebook or JupyterLab Notebook, it may mean\n",
       "  that the widgets JavaScript is still loading. If this message persists, it\n",
       "  likely means that the widgets JavaScript library is either not installed or\n",
       "  not enabled. See the <a href=\"https://ipywidgets.readthedocs.io/en/stable/user_install.html\">Jupyter\n",
       "  Widgets Documentation</a> for setup instructions.\n",
       "</p>\n",
       "<p>\n",
       "  If you're reading this message in another frontend (for example, a static\n",
       "  rendering on GitHub or <a href=\"https://nbviewer.jupyter.org/\">NBViewer</a>),\n",
       "  it may mean that your frontend doesn't currently support widgets.\n",
       "</p>\n"
      ],
      "text/plain": [
       "HBox(children=(ClearButton(description='clear', icon='close', style=ButtonStyle()), UpdateButton(description='update', icon='refresh', style=ButtonStyle())))"
      ]
     },
     "metadata": {},
     "output_type": "display_data"
    },
    {
     "data": {
      "application/vnd.jupyter.widget-view+json": {
       "model_id": "998a486c930a4f779688555ef094f405",
       "version_major": 2,
       "version_minor": 0
      },
      "text/html": [
       "<p>Failed to display Jupyter Widget of type <code>Output</code>.</p>\n",
       "<p>\n",
       "  If you're reading this message in the Jupyter Notebook or JupyterLab Notebook, it may mean\n",
       "  that the widgets JavaScript is still loading. If this message persists, it\n",
       "  likely means that the widgets JavaScript library is either not installed or\n",
       "  not enabled. See the <a href=\"https://ipywidgets.readthedocs.io/en/stable/user_install.html\">Jupyter\n",
       "  Widgets Documentation</a> for setup instructions.\n",
       "</p>\n",
       "<p>\n",
       "  If you're reading this message in another frontend (for example, a static\n",
       "  rendering on GitHub or <a href=\"https://nbviewer.jupyter.org/\">NBViewer</a>),\n",
       "  it may mean that your frontend doesn't currently support widgets.\n",
       "</p>\n"
      ],
      "text/plain": [
       "Output()"
      ]
     },
     "metadata": {},
     "output_type": "display_data"
    }
   ],
   "source": [
    "from ipywidgets import Output\n",
    "\n",
    "wes[0].changeout(out=Output())\n",
    "display(*wes)"
   ]
  },
  {
   "cell_type": "markdown",
   "metadata": {},
   "source": [
    "We can also use the ``changeout`` method to have a specified WidgetEnvs share outputs.\n",
    "\n",
    "In the code below, ``we1`` and ``we3`` share a single output whilst ``we2`` has its own."
   ]
  },
  {
   "cell_type": "code",
   "execution_count": 12,
   "metadata": {},
   "outputs": [
    {
     "data": {
      "application/vnd.jupyter.widget-view+json": {
       "model_id": "551dfd6d235446b0826833d720eadbfd",
       "version_major": 2,
       "version_minor": 0
      },
      "text/html": [
       "<p>Failed to display Jupyter Widget of type <code>WidgetEnv</code>.</p>\n",
       "<p>\n",
       "  If you're reading this message in the Jupyter Notebook or JupyterLab Notebook, it may mean\n",
       "  that the widgets JavaScript is still loading. If this message persists, it\n",
       "  likely means that the widgets JavaScript library is either not installed or\n",
       "  not enabled. See the <a href=\"https://ipywidgets.readthedocs.io/en/stable/user_install.html\">Jupyter\n",
       "  Widgets Documentation</a> for setup instructions.\n",
       "</p>\n",
       "<p>\n",
       "  If you're reading this message in another frontend (for example, a static\n",
       "  rendering on GitHub or <a href=\"https://nbviewer.jupyter.org/\">NBViewer</a>),\n",
       "  it may mean that your frontend doesn't currently support widgets.\n",
       "</p>\n"
      ],
      "text/plain": [
       "WidgetEnv(children=(HBox(children=(Label(value='Variable', layout=Layout(width='150px')), Label(value='Value', layout=Layout(width='150px')), Label(value='Type', layout=Layout(width='150px')), Label(value='Documentation', layout=Layout(width='150px')))), HBox(children=(Label(value='a', layout=Layout(width='100px')), WidgetCell(description='1', layout=Layout(width='150px'), style=ButtonStyle(), tooltip='1'), WidgetCell(description='int', layout=Layout(width='150px'), style=ButtonStyle(), tooltip='int'), WidgetCell(description=\"int(x=0) -> integer\\nint(x, base=10) -> integer\\n\\nConvert a number or string to an integer, or return 0 if no arguments\\nare given.  If x is a number, return x.__int__().  For floating point\\nnumbers, this truncates towards zero.\\n\\nIf x is not a number or if base is given, then x must be a string,\\nbytes, or bytearray instance representing an integer literal in the\\ngiven base.  The literal can be preceded by '+' or '-' and be surrounded\\nby whitespace.  The base defaults to 10.  Valid bases are 0 and 2-36.\\nBase 0 means to interpret the base from the string as an integer literal.\\n>>> int('0b100', base=0)\\n4\", layout=Layout(width='150px'), style=ButtonStyle(), tooltip=\"int(x=0) -> integer\\nint(x, base=10) -> integer\\n\\nConvert a number or string to an integer, or return 0 if no arguments\\nare given.  If x is a number, return x.__int__().  For floating point\\nnumbers, this truncates towards zero.\\n\\nIf x is not a number or if base is given, then x must be a string,\\nbytes, or bytearray instance representing an integer literal in the\\ngiven base.  The literal can be preceded by '+' or '-' and be surrounded\\nby whitespace.  The base defaults to 10.  Valid bases are 0 and 2-36.\\nBase 0 means to interpret the base from the string as an integer literal.\\n>>> int('0b100', base=0)\\n4\"))), HBox(children=(Label(value='b', layout=Layout(width='100px')), WidgetCell(description='Hello World', layout=Layout(width='150px'), style=ButtonStyle(), tooltip='Hello World'), WidgetCell(description='str', layout=Layout(width='150px'), style=ButtonStyle(), tooltip='str'), WidgetCell(description=\"str(object='') -> str\\nstr(bytes_or_buffer[, encoding[, errors]]) -> str\\n\\nCreate a new string object from the given object. If encoding or\\nerrors is specified, then the object must expose a data buffer\\nthat will be decoded using the given encoding and error handler.\\nOtherwise, returns the result of object.__str__() (if defined)\\nor repr(object).\\nencoding defaults to sys.getdefaultencoding().\\nerrors defaults to 'strict'.\", layout=Layout(width='150px'), style=ButtonStyle(), tooltip=\"str(object='') -> str\\nstr(bytes_or_buffer[, encoding[, errors]]) -> str\\n\\nCreate a new string object from the given object. If encoding or\\nerrors is specified, then the object must expose a data buffer\\nthat will be decoded using the given encoding and error handler.\\nOtherwise, returns the result of object.__str__() (if defined)\\nor repr(object).\\nencoding defaults to sys.getdefaultencoding().\\nerrors defaults to 'strict'.\"))), HBox(children=(Label(value='c', layout=Layout(width='100px')), WidgetCell(description='False', layout=Layout(width='150px'), style=ButtonStyle(), tooltip='False'), WidgetCell(description='bool', layout=Layout(width='150px'), style=ButtonStyle(), tooltip='bool'), WidgetCell(description='bool(x) -> bool\\n\\nReturns True when the argument x is true, False otherwise.\\nThe builtins True and False are the only two instances of the class bool.\\nThe class bool is a subclass of the class int, and cannot be subclassed.', layout=Layout(width='150px'), style=ButtonStyle(), tooltip='bool(x) -> bool\\n\\nReturns True when the argument x is true, False otherwise.\\nThe builtins True and False are the only two instances of the class bool.\\nThe class bool is a subclass of the class int, and cannot be subclassed.'))), HBox(children=(Label(value='d', layout=Layout(width='100px')), WidgetCell(description='[1, 2, 3]', layout=Layout(width='150px'), style=ButtonStyle(), tooltip='[1, 2, 3]'), WidgetCell(description='list', layout=Layout(width='150px'), style=ButtonStyle(), tooltip='list'), WidgetCell(description=\"list() -> new empty list\\nlist(iterable) -> new list initialized from iterable's items\", layout=Layout(width='150px'), style=ButtonStyle(), tooltip=\"list() -> new empty list\\nlist(iterable) -> new list initialized from iterable's items\"))), HBox(children=(Label(value='e', layout=Layout(width='100px')), WidgetCell(description='e', layout=Layout(width='150px'), style=ButtonStyle(), tooltip='e'), WidgetCell(description='method', layout=Layout(width='150px'), style=ButtonStyle(), tooltip='method'), WidgetCell(description='example function doc string', layout=Layout(width='150px'), style=ButtonStyle(), tooltip='example function doc string'))), HBox(children=(Label(value='f', layout=Layout(width='100px')), WidgetCell(description='New Attribute', layout=Layout(width='150px'), style=ButtonStyle(), tooltip='New Attribute'), WidgetCell(description='str', layout=Layout(width='150px'), style=ButtonStyle(), tooltip='str'), WidgetCell(description=\"str(object='') -> str\\nstr(bytes_or_buffer[, encoding[, errors]]) -> str\\n\\nCreate a new string object from the given object. If encoding or\\nerrors is specified, then the object must expose a data buffer\\nthat will be decoded using the given encoding and error handler.\\nOtherwise, returns the result of object.__str__() (if defined)\\nor repr(object).\\nencoding defaults to sys.getdefaultencoding().\\nerrors defaults to 'strict'.\", layout=Layout(width='150px'), style=ButtonStyle(), tooltip=\"str(object='') -> str\\nstr(bytes_or_buffer[, encoding[, errors]]) -> str\\n\\nCreate a new string object from the given object. If encoding or\\nerrors is specified, then the object must expose a data buffer\\nthat will be decoded using the given encoding and error handler.\\nOtherwise, returns the result of object.__str__() (if defined)\\nor repr(object).\\nencoding defaults to sys.getdefaultencoding().\\nerrors defaults to 'strict'.\")))))"
      ]
     },
     "metadata": {},
     "output_type": "display_data"
    },
    {
     "data": {
      "application/vnd.jupyter.widget-view+json": {
       "model_id": "56d41138d2f74c44954a2db3b0cab3df",
       "version_major": 2,
       "version_minor": 0
      },
      "text/html": [
       "<p>Failed to display Jupyter Widget of type <code>HBox</code>.</p>\n",
       "<p>\n",
       "  If you're reading this message in the Jupyter Notebook or JupyterLab Notebook, it may mean\n",
       "  that the widgets JavaScript is still loading. If this message persists, it\n",
       "  likely means that the widgets JavaScript library is either not installed or\n",
       "  not enabled. See the <a href=\"https://ipywidgets.readthedocs.io/en/stable/user_install.html\">Jupyter\n",
       "  Widgets Documentation</a> for setup instructions.\n",
       "</p>\n",
       "<p>\n",
       "  If you're reading this message in another frontend (for example, a static\n",
       "  rendering on GitHub or <a href=\"https://nbviewer.jupyter.org/\">NBViewer</a>),\n",
       "  it may mean that your frontend doesn't currently support widgets.\n",
       "</p>\n"
      ],
      "text/plain": [
       "HBox(children=(ClearButton(description='clear', icon='close', style=ButtonStyle()), UpdateButton(description='update', icon='refresh', style=ButtonStyle())))"
      ]
     },
     "metadata": {},
     "output_type": "display_data"
    },
    {
     "data": {
      "application/vnd.jupyter.widget-view+json": {
       "model_id": "3a5f60e2cc664740b6af919718ef93af",
       "version_major": 2,
       "version_minor": 0
      },
      "text/html": [
       "<p>Failed to display Jupyter Widget of type <code>Output</code>.</p>\n",
       "<p>\n",
       "  If you're reading this message in the Jupyter Notebook or JupyterLab Notebook, it may mean\n",
       "  that the widgets JavaScript is still loading. If this message persists, it\n",
       "  likely means that the widgets JavaScript library is either not installed or\n",
       "  not enabled. See the <a href=\"https://ipywidgets.readthedocs.io/en/stable/user_install.html\">Jupyter\n",
       "  Widgets Documentation</a> for setup instructions.\n",
       "</p>\n",
       "<p>\n",
       "  If you're reading this message in another frontend (for example, a static\n",
       "  rendering on GitHub or <a href=\"https://nbviewer.jupyter.org/\">NBViewer</a>),\n",
       "  it may mean that your frontend doesn't currently support widgets.\n",
       "</p>\n"
      ],
      "text/plain": [
       "Output()"
      ]
     },
     "metadata": {},
     "output_type": "display_data"
    },
    {
     "data": {
      "application/vnd.jupyter.widget-view+json": {
       "model_id": "2a04972af45a4b34a14ebe5705242e0e",
       "version_major": 2,
       "version_minor": 0
      },
      "text/html": [
       "<p>Failed to display Jupyter Widget of type <code>WidgetEnv</code>.</p>\n",
       "<p>\n",
       "  If you're reading this message in the Jupyter Notebook or JupyterLab Notebook, it may mean\n",
       "  that the widgets JavaScript is still loading. If this message persists, it\n",
       "  likely means that the widgets JavaScript library is either not installed or\n",
       "  not enabled. See the <a href=\"https://ipywidgets.readthedocs.io/en/stable/user_install.html\">Jupyter\n",
       "  Widgets Documentation</a> for setup instructions.\n",
       "</p>\n",
       "<p>\n",
       "  If you're reading this message in another frontend (for example, a static\n",
       "  rendering on GitHub or <a href=\"https://nbviewer.jupyter.org/\">NBViewer</a>),\n",
       "  it may mean that your frontend doesn't currently support widgets.\n",
       "</p>\n"
      ],
      "text/plain": [
       "WidgetEnv(children=(HBox(children=(Label(value='Variable', layout=Layout(width='150px')), Label(value='Value', layout=Layout(width='150px')), Label(value='Type', layout=Layout(width='150px')), Label(value='Documentation', layout=Layout(width='150px')))), HBox(children=(Label(value='a', layout=Layout(width='100px')), WidgetCell(description='1', layout=Layout(width='150px'), style=ButtonStyle(), tooltip='1'), WidgetCell(description='int', layout=Layout(width='150px'), style=ButtonStyle(), tooltip='int'), WidgetCell(description=\"int(x=0) -> integer\\nint(x, base=10) -> integer\\n\\nConvert a number or string to an integer, or return 0 if no arguments\\nare given.  If x is a number, return x.__int__().  For floating point\\nnumbers, this truncates towards zero.\\n\\nIf x is not a number or if base is given, then x must be a string,\\nbytes, or bytearray instance representing an integer literal in the\\ngiven base.  The literal can be preceded by '+' or '-' and be surrounded\\nby whitespace.  The base defaults to 10.  Valid bases are 0 and 2-36.\\nBase 0 means to interpret the base from the string as an integer literal.\\n>>> int('0b100', base=0)\\n4\", layout=Layout(width='150px'), style=ButtonStyle(), tooltip=\"int(x=0) -> integer\\nint(x, base=10) -> integer\\n\\nConvert a number or string to an integer, or return 0 if no arguments\\nare given.  If x is a number, return x.__int__().  For floating point\\nnumbers, this truncates towards zero.\\n\\nIf x is not a number or if base is given, then x must be a string,\\nbytes, or bytearray instance representing an integer literal in the\\ngiven base.  The literal can be preceded by '+' or '-' and be surrounded\\nby whitespace.  The base defaults to 10.  Valid bases are 0 and 2-36.\\nBase 0 means to interpret the base from the string as an integer literal.\\n>>> int('0b100', base=0)\\n4\"))), HBox(children=(Label(value='b', layout=Layout(width='100px')), WidgetCell(description='Hello World', layout=Layout(width='150px'), style=ButtonStyle(), tooltip='Hello World'), WidgetCell(description='str', layout=Layout(width='150px'), style=ButtonStyle(), tooltip='str'), WidgetCell(description=\"str(object='') -> str\\nstr(bytes_or_buffer[, encoding[, errors]]) -> str\\n\\nCreate a new string object from the given object. If encoding or\\nerrors is specified, then the object must expose a data buffer\\nthat will be decoded using the given encoding and error handler.\\nOtherwise, returns the result of object.__str__() (if defined)\\nor repr(object).\\nencoding defaults to sys.getdefaultencoding().\\nerrors defaults to 'strict'.\", layout=Layout(width='150px'), style=ButtonStyle(), tooltip=\"str(object='') -> str\\nstr(bytes_or_buffer[, encoding[, errors]]) -> str\\n\\nCreate a new string object from the given object. If encoding or\\nerrors is specified, then the object must expose a data buffer\\nthat will be decoded using the given encoding and error handler.\\nOtherwise, returns the result of object.__str__() (if defined)\\nor repr(object).\\nencoding defaults to sys.getdefaultencoding().\\nerrors defaults to 'strict'.\"))), HBox(children=(Label(value='c', layout=Layout(width='100px')), WidgetCell(description='False', layout=Layout(width='150px'), style=ButtonStyle(), tooltip='False'), WidgetCell(description='bool', layout=Layout(width='150px'), style=ButtonStyle(), tooltip='bool'), WidgetCell(description='bool(x) -> bool\\n\\nReturns True when the argument x is true, False otherwise.\\nThe builtins True and False are the only two instances of the class bool.\\nThe class bool is a subclass of the class int, and cannot be subclassed.', layout=Layout(width='150px'), style=ButtonStyle(), tooltip='bool(x) -> bool\\n\\nReturns True when the argument x is true, False otherwise.\\nThe builtins True and False are the only two instances of the class bool.\\nThe class bool is a subclass of the class int, and cannot be subclassed.'))), HBox(children=(Label(value='d', layout=Layout(width='100px')), WidgetCell(description='[1, 2, 3]', layout=Layout(width='150px'), style=ButtonStyle(), tooltip='[1, 2, 3]'), WidgetCell(description='list', layout=Layout(width='150px'), style=ButtonStyle(), tooltip='list'), WidgetCell(description=\"list() -> new empty list\\nlist(iterable) -> new list initialized from iterable's items\", layout=Layout(width='150px'), style=ButtonStyle(), tooltip=\"list() -> new empty list\\nlist(iterable) -> new list initialized from iterable's items\"))), HBox(children=(Label(value='e', layout=Layout(width='100px')), WidgetCell(description='e', layout=Layout(width='150px'), style=ButtonStyle(), tooltip='e'), WidgetCell(description='method', layout=Layout(width='150px'), style=ButtonStyle(), tooltip='method'), WidgetCell(description='example function doc string', layout=Layout(width='150px'), style=ButtonStyle(), tooltip='example function doc string'))), HBox(children=(Label(value='f', layout=Layout(width='100px')), WidgetCell(description='New Attribute', layout=Layout(width='150px'), style=ButtonStyle(), tooltip='New Attribute'), WidgetCell(description='str', layout=Layout(width='150px'), style=ButtonStyle(), tooltip='str'), WidgetCell(description=\"str(object='') -> str\\nstr(bytes_or_buffer[, encoding[, errors]]) -> str\\n\\nCreate a new string object from the given object. If encoding or\\nerrors is specified, then the object must expose a data buffer\\nthat will be decoded using the given encoding and error handler.\\nOtherwise, returns the result of object.__str__() (if defined)\\nor repr(object).\\nencoding defaults to sys.getdefaultencoding().\\nerrors defaults to 'strict'.\", layout=Layout(width='150px'), style=ButtonStyle(), tooltip=\"str(object='') -> str\\nstr(bytes_or_buffer[, encoding[, errors]]) -> str\\n\\nCreate a new string object from the given object. If encoding or\\nerrors is specified, then the object must expose a data buffer\\nthat will be decoded using the given encoding and error handler.\\nOtherwise, returns the result of object.__str__() (if defined)\\nor repr(object).\\nencoding defaults to sys.getdefaultencoding().\\nerrors defaults to 'strict'.\")))))"
      ]
     },
     "metadata": {},
     "output_type": "display_data"
    },
    {
     "data": {
      "application/vnd.jupyter.widget-view+json": {
       "model_id": "4d574102d64240c796fbc9c5ee418cf5",
       "version_major": 2,
       "version_minor": 0
      },
      "text/html": [
       "<p>Failed to display Jupyter Widget of type <code>HBox</code>.</p>\n",
       "<p>\n",
       "  If you're reading this message in the Jupyter Notebook or JupyterLab Notebook, it may mean\n",
       "  that the widgets JavaScript is still loading. If this message persists, it\n",
       "  likely means that the widgets JavaScript library is either not installed or\n",
       "  not enabled. See the <a href=\"https://ipywidgets.readthedocs.io/en/stable/user_install.html\">Jupyter\n",
       "  Widgets Documentation</a> for setup instructions.\n",
       "</p>\n",
       "<p>\n",
       "  If you're reading this message in another frontend (for example, a static\n",
       "  rendering on GitHub or <a href=\"https://nbviewer.jupyter.org/\">NBViewer</a>),\n",
       "  it may mean that your frontend doesn't currently support widgets.\n",
       "</p>\n"
      ],
      "text/plain": [
       "HBox(children=(ClearButton(description='clear', icon='close', style=ButtonStyle()), UpdateButton(description='update', icon='refresh', style=ButtonStyle())))"
      ]
     },
     "metadata": {},
     "output_type": "display_data"
    },
    {
     "data": {
      "application/vnd.jupyter.widget-view+json": {
       "model_id": "f64b90fd3807460ab65b6dc5c339a15e",
       "version_major": 2,
       "version_minor": 0
      },
      "text/html": [
       "<p>Failed to display Jupyter Widget of type <code>Output</code>.</p>\n",
       "<p>\n",
       "  If you're reading this message in the Jupyter Notebook or JupyterLab Notebook, it may mean\n",
       "  that the widgets JavaScript is still loading. If this message persists, it\n",
       "  likely means that the widgets JavaScript library is either not installed or\n",
       "  not enabled. See the <a href=\"https://ipywidgets.readthedocs.io/en/stable/user_install.html\">Jupyter\n",
       "  Widgets Documentation</a> for setup instructions.\n",
       "</p>\n",
       "<p>\n",
       "  If you're reading this message in another frontend (for example, a static\n",
       "  rendering on GitHub or <a href=\"https://nbviewer.jupyter.org/\">NBViewer</a>),\n",
       "  it may mean that your frontend doesn't currently support widgets.\n",
       "</p>\n"
      ],
      "text/plain": [
       "Output()"
      ]
     },
     "metadata": {},
     "output_type": "display_data"
    },
    {
     "data": {
      "application/vnd.jupyter.widget-view+json": {
       "model_id": "6c697d6ae9aa495396f9fee0970c4252",
       "version_major": 2,
       "version_minor": 0
      },
      "text/html": [
       "<p>Failed to display Jupyter Widget of type <code>WidgetEnv</code>.</p>\n",
       "<p>\n",
       "  If you're reading this message in the Jupyter Notebook or JupyterLab Notebook, it may mean\n",
       "  that the widgets JavaScript is still loading. If this message persists, it\n",
       "  likely means that the widgets JavaScript library is either not installed or\n",
       "  not enabled. See the <a href=\"https://ipywidgets.readthedocs.io/en/stable/user_install.html\">Jupyter\n",
       "  Widgets Documentation</a> for setup instructions.\n",
       "</p>\n",
       "<p>\n",
       "  If you're reading this message in another frontend (for example, a static\n",
       "  rendering on GitHub or <a href=\"https://nbviewer.jupyter.org/\">NBViewer</a>),\n",
       "  it may mean that your frontend doesn't currently support widgets.\n",
       "</p>\n"
      ],
      "text/plain": [
       "WidgetEnv(children=(HBox(children=(Label(value='Variable', layout=Layout(width='150px')), Label(value='Value', layout=Layout(width='150px')), Label(value='Type', layout=Layout(width='150px')), Label(value='Documentation', layout=Layout(width='150px')))), HBox(children=(Label(value='a', layout=Layout(width='100px')), WidgetCell(description='1', layout=Layout(width='150px'), style=ButtonStyle(), tooltip='1'), WidgetCell(description='int', layout=Layout(width='150px'), style=ButtonStyle(), tooltip='int'), WidgetCell(description=\"int(x=0) -> integer\\nint(x, base=10) -> integer\\n\\nConvert a number or string to an integer, or return 0 if no arguments\\nare given.  If x is a number, return x.__int__().  For floating point\\nnumbers, this truncates towards zero.\\n\\nIf x is not a number or if base is given, then x must be a string,\\nbytes, or bytearray instance representing an integer literal in the\\ngiven base.  The literal can be preceded by '+' or '-' and be surrounded\\nby whitespace.  The base defaults to 10.  Valid bases are 0 and 2-36.\\nBase 0 means to interpret the base from the string as an integer literal.\\n>>> int('0b100', base=0)\\n4\", layout=Layout(width='150px'), style=ButtonStyle(), tooltip=\"int(x=0) -> integer\\nint(x, base=10) -> integer\\n\\nConvert a number or string to an integer, or return 0 if no arguments\\nare given.  If x is a number, return x.__int__().  For floating point\\nnumbers, this truncates towards zero.\\n\\nIf x is not a number or if base is given, then x must be a string,\\nbytes, or bytearray instance representing an integer literal in the\\ngiven base.  The literal can be preceded by '+' or '-' and be surrounded\\nby whitespace.  The base defaults to 10.  Valid bases are 0 and 2-36.\\nBase 0 means to interpret the base from the string as an integer literal.\\n>>> int('0b100', base=0)\\n4\"))), HBox(children=(Label(value='b', layout=Layout(width='100px')), WidgetCell(description='Hello World', layout=Layout(width='150px'), style=ButtonStyle(), tooltip='Hello World'), WidgetCell(description='str', layout=Layout(width='150px'), style=ButtonStyle(), tooltip='str'), WidgetCell(description=\"str(object='') -> str\\nstr(bytes_or_buffer[, encoding[, errors]]) -> str\\n\\nCreate a new string object from the given object. If encoding or\\nerrors is specified, then the object must expose a data buffer\\nthat will be decoded using the given encoding and error handler.\\nOtherwise, returns the result of object.__str__() (if defined)\\nor repr(object).\\nencoding defaults to sys.getdefaultencoding().\\nerrors defaults to 'strict'.\", layout=Layout(width='150px'), style=ButtonStyle(), tooltip=\"str(object='') -> str\\nstr(bytes_or_buffer[, encoding[, errors]]) -> str\\n\\nCreate a new string object from the given object. If encoding or\\nerrors is specified, then the object must expose a data buffer\\nthat will be decoded using the given encoding and error handler.\\nOtherwise, returns the result of object.__str__() (if defined)\\nor repr(object).\\nencoding defaults to sys.getdefaultencoding().\\nerrors defaults to 'strict'.\"))), HBox(children=(Label(value='c', layout=Layout(width='100px')), WidgetCell(description='False', layout=Layout(width='150px'), style=ButtonStyle(), tooltip='False'), WidgetCell(description='bool', layout=Layout(width='150px'), style=ButtonStyle(), tooltip='bool'), WidgetCell(description='bool(x) -> bool\\n\\nReturns True when the argument x is true, False otherwise.\\nThe builtins True and False are the only two instances of the class bool.\\nThe class bool is a subclass of the class int, and cannot be subclassed.', layout=Layout(width='150px'), style=ButtonStyle(), tooltip='bool(x) -> bool\\n\\nReturns True when the argument x is true, False otherwise.\\nThe builtins True and False are the only two instances of the class bool.\\nThe class bool is a subclass of the class int, and cannot be subclassed.'))), HBox(children=(Label(value='d', layout=Layout(width='100px')), WidgetCell(description='[1, 2, 3]', layout=Layout(width='150px'), style=ButtonStyle(), tooltip='[1, 2, 3]'), WidgetCell(description='list', layout=Layout(width='150px'), style=ButtonStyle(), tooltip='list'), WidgetCell(description=\"list() -> new empty list\\nlist(iterable) -> new list initialized from iterable's items\", layout=Layout(width='150px'), style=ButtonStyle(), tooltip=\"list() -> new empty list\\nlist(iterable) -> new list initialized from iterable's items\"))), HBox(children=(Label(value='e', layout=Layout(width='100px')), WidgetCell(description='e', layout=Layout(width='150px'), style=ButtonStyle(), tooltip='e'), WidgetCell(description='method', layout=Layout(width='150px'), style=ButtonStyle(), tooltip='method'), WidgetCell(description='example function doc string', layout=Layout(width='150px'), style=ButtonStyle(), tooltip='example function doc string'))), HBox(children=(Label(value='f', layout=Layout(width='100px')), WidgetCell(description='New Attribute', layout=Layout(width='150px'), style=ButtonStyle(), tooltip='New Attribute'), WidgetCell(description='str', layout=Layout(width='150px'), style=ButtonStyle(), tooltip='str'), WidgetCell(description=\"str(object='') -> str\\nstr(bytes_or_buffer[, encoding[, errors]]) -> str\\n\\nCreate a new string object from the given object. If encoding or\\nerrors is specified, then the object must expose a data buffer\\nthat will be decoded using the given encoding and error handler.\\nOtherwise, returns the result of object.__str__() (if defined)\\nor repr(object).\\nencoding defaults to sys.getdefaultencoding().\\nerrors defaults to 'strict'.\", layout=Layout(width='150px'), style=ButtonStyle(), tooltip=\"str(object='') -> str\\nstr(bytes_or_buffer[, encoding[, errors]]) -> str\\n\\nCreate a new string object from the given object. If encoding or\\nerrors is specified, then the object must expose a data buffer\\nthat will be decoded using the given encoding and error handler.\\nOtherwise, returns the result of object.__str__() (if defined)\\nor repr(object).\\nencoding defaults to sys.getdefaultencoding().\\nerrors defaults to 'strict'.\")))))"
      ]
     },
     "metadata": {},
     "output_type": "display_data"
    },
    {
     "data": {
      "application/vnd.jupyter.widget-view+json": {
       "model_id": "659dbe28a14c4e32baf54333057c6a2a",
       "version_major": 2,
       "version_minor": 0
      },
      "text/html": [
       "<p>Failed to display Jupyter Widget of type <code>HBox</code>.</p>\n",
       "<p>\n",
       "  If you're reading this message in the Jupyter Notebook or JupyterLab Notebook, it may mean\n",
       "  that the widgets JavaScript is still loading. If this message persists, it\n",
       "  likely means that the widgets JavaScript library is either not installed or\n",
       "  not enabled. See the <a href=\"https://ipywidgets.readthedocs.io/en/stable/user_install.html\">Jupyter\n",
       "  Widgets Documentation</a> for setup instructions.\n",
       "</p>\n",
       "<p>\n",
       "  If you're reading this message in another frontend (for example, a static\n",
       "  rendering on GitHub or <a href=\"https://nbviewer.jupyter.org/\">NBViewer</a>),\n",
       "  it may mean that your frontend doesn't currently support widgets.\n",
       "</p>\n"
      ],
      "text/plain": [
       "HBox(children=(ClearButton(description='clear', icon='close', style=ButtonStyle()), UpdateButton(description='update', icon='refresh', style=ButtonStyle())))"
      ]
     },
     "metadata": {},
     "output_type": "display_data"
    },
    {
     "data": {
      "application/vnd.jupyter.widget-view+json": {
       "model_id": "3a5f60e2cc664740b6af919718ef93af",
       "version_major": 2,
       "version_minor": 0
      },
      "text/html": [
       "<p>Failed to display Jupyter Widget of type <code>Output</code>.</p>\n",
       "<p>\n",
       "  If you're reading this message in the Jupyter Notebook or JupyterLab Notebook, it may mean\n",
       "  that the widgets JavaScript is still loading. If this message persists, it\n",
       "  likely means that the widgets JavaScript library is either not installed or\n",
       "  not enabled. See the <a href=\"https://ipywidgets.readthedocs.io/en/stable/user_install.html\">Jupyter\n",
       "  Widgets Documentation</a> for setup instructions.\n",
       "</p>\n",
       "<p>\n",
       "  If you're reading this message in another frontend (for example, a static\n",
       "  rendering on GitHub or <a href=\"https://nbviewer.jupyter.org/\">NBViewer</a>),\n",
       "  it may mean that your frontend doesn't currently support widgets.\n",
       "</p>\n"
      ],
      "text/plain": [
       "Output()"
      ]
     },
     "metadata": {},
     "output_type": "display_data"
    }
   ],
   "source": [
    "from env_explore import getmain\n",
    "we1, we2, we3 = WidgetEnv('eg'), WidgetEnv('eg'), WidgetEnv('eg')\n",
    "\n",
    "we1.changeout(Output())\n",
    "we2.changeout(Output())\n",
    "we3.changeout(we1.out)\n",
    "\n",
    "display(we1, we2, we3)"
   ]
  },
  {
   "cell_type": "code",
   "execution_count": null,
   "metadata": {},
   "outputs": [],
   "source": []
  }
 ],
 "metadata": {
  "kernelspec": {
   "display_name": "Python 3.6.8 64-bit ('anaconda3': virtualenv)",
   "language": "python",
   "name": "python36864bitanaconda3virtualenvfde2b208eaac4357a92860cd4ecbd956"
  },
  "language_info": {
   "codemirror_mode": {
    "name": "ipython",
    "version": 3
   },
   "file_extension": ".py",
   "mimetype": "text/x-python",
   "name": "python",
   "nbconvert_exporter": "python",
   "pygments_lexer": "ipython3",
   "version": "3.6.8"
  }
 },
 "nbformat": 4,
 "nbformat_minor": 4
}
